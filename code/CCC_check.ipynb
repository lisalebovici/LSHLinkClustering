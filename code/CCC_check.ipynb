{
 "cells": [
  {
   "cell_type": "code",
   "execution_count": 10,
   "metadata": {
    "collapsed": true
   },
   "outputs": [],
   "source": [
    "import numpy as np\n",
    "import matplotlib.pyplot as plt\n",
    "from sklearn import datasets\n",
    "from scipy.cluster.hierarchy import dendrogram, linkage, cophenet\n",
    "from scipy.spatial.distance import pdist"
   ]
  },
  {
   "cell_type": "code",
   "execution_count": 39,
   "metadata": {
    "collapsed": true
   },
   "outputs": [],
   "source": [
    "A1 = np.array([[0.1,   2.5],\n",
    "              [1.5,   .4 ],\n",
    "              [0.3,   1  ],\n",
    "              [1  ,   .8 ],\n",
    "              [0.5,   0  ],\n",
    "              [0  ,   0.5],\n",
    "              [0.5,   0.5],\n",
    "              [2.7,   2  ],\n",
    "              [2.2,   3.1],\n",
    "              [3  ,   2  ],\n",
    "              [3.2,   1.3]])\n",
    "A1 = A1*10\n",
    "\n",
    "A2 = A1 + np.random.randn(A1.size).reshape(A1.shape)"
   ]
  },
  {
   "cell_type": "code",
   "execution_count": 40,
   "metadata": {},
   "outputs": [],
   "source": [
    "Z1 = linkage(A1, method=\"single\")\n",
    "Z2 = linkage(A2, method=\"single\")"
   ]
  },
  {
   "cell_type": "code",
   "execution_count": 42,
   "metadata": {},
   "outputs": [
    {
     "data": {
      "image/png": "[encoded data removed]",
      "text/plain": [
       "<matplotlib.figure.Figure at 0x114ec7fd0>"
      ]
     },
     "metadata": {},
     "output_type": "display_data"
    }
   ],
   "source": [
    "dendrogram(Z2)\n",
    "plt.gcf().set_size_inches(16, 8)\n",
    "plt.show();"
   ]
  },
  {
   "cell_type": "code",
   "execution_count": 43,
   "metadata": {},
   "outputs": [
    {
     "data": {
      "text/plain": [
       "0.987677166243733"
      ]
     },
     "execution_count": 43,
     "metadata": {},
     "output_type": "execute_result"
    }
   ],
   "source": [
    "C1 = cophenet(Z1)\n",
    "C2 = cophenet(Z2)\n",
    "np.corrcoef(C1, C2)[0,1]"
   ]
  },
  {
   "cell_type": "code",
   "execution_count": 44,
   "metadata": {},
   "outputs": [],
   "source": []
  },
  {
   "cell_type": "code",
   "execution_count": 46,
   "metadata": {
    "collapsed": true
   },
   "outputs": [],
   "source": [
    "iris = datasets.load_iris().data * 10"
   ]
  },
  {
   "cell_type": "code",
   "execution_count": 60,
   "metadata": {
    "collapsed": true
   },
   "outputs": [],
   "source": [
    "iris = datasets.load_iris().data * 10\n",
    "clusters, Z2 = LSHLink(iris, A = 2.0, l = 10, k = 100, dendrogram = True,seed1=12, seed2=6)\n",
    "clusters, Z3 = LSHLink(iris, A = 1.4, l = 10, k = 100, dendrogram = True, seed1=12, seed2=6)\n",
    "clusters, Z4 = LSHLink(iris, A = 1.2, l = 10, k = 100, dendrogram = True, seed1=12, seed2=6)"
   ]
  },
  {
   "cell_type": "code",
   "execution_count": 61,
   "metadata": {
    "collapsed": true
   },
   "outputs": [],
   "source": [
    "Z1 = linkage(iris, method=\"single\")"
   ]
  },
  {
   "cell_type": "code",
   "execution_count": 62,
   "metadata": {},
   "outputs": [
    {
     "name": "stdout",
     "output_type": "stream",
     "text": [
      "0.9904974707929263\n",
      "0.9987309030621808\n",
      "0.9992070012882861\n"
     ]
    }
   ],
   "source": [
    "C1 = cophenet(Z1)\n",
    "C2 = cophenet(Z2)\n",
    "C3 = cophenet(Z3)\n",
    "C4 = cophenet(Z4)\n",
    "print(np.corrcoef(C1, C2)[0,1])\n",
    "print(np.corrcoef(C1, C3)[0,1])\n",
    "print(np.corrcoef(C1, C4)[0,1])"
   ]
  },
  {
   "cell_type": "markdown",
   "metadata": {},
   "source": [
    "C1 = cophenet(Z1)\n",
    "C2 = cophenet(Z2)\n",
    "np.corrcoef(C1, C2)[0,1]"
   ]
  },
  {
   "cell_type": "code",
   "execution_count": null,
   "metadata": {
    "collapsed": true
   },
   "outputs": [],
   "source": []
  }
 ],
 "metadata": {
  "kernelspec": {
   "display_name": "Python 3",
   "language": "python",
   "name": "python3"
  },
  "language_info": {
   "codemirror_mode": {
    "name": "ipython",
    "version": 3
   },
   "file_extension": ".py",
   "mimetype": "text/x-python",
   "name": "python",
   "nbconvert_exporter": "python",
   "pygments_lexer": "ipython3",
   "version": "3.6.1"
  }
 },
 "nbformat": 4,
 "nbformat_minor": 2
}
