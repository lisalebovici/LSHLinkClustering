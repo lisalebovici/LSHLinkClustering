{
 "cells": [
  {
   "cell_type": "code",
   "execution_count": 342,
   "metadata": {},
   "outputs": [],
   "source": [
    "import numpy as np\n",
    "import matplotlib.pyplot as plt\n",
    "from collections import defaultdict\n",
    "from sklearn import datasets\n",
    "from scipy.cluster.hierarchy import dendrogram, linkage\n",
    "from scipy.spatial.distance import pdist\n",
    "from functools import reduce"
   ]
  },
  {
   "cell_type": "code",
   "execution_count": 640,
   "metadata": {},
   "outputs": [],
   "source": [
    "def unary(x, C):\n",
    "    nearest_x = int(np.round(x))\n",
    "    return(np.r_[np.ones(nearest_x), np.zeros(C-nearest_x)])\n",
    "\n",
    "def lsh_hash(point, C):\n",
    "    # see if I can just vectorize the unary function?\n",
    "    res = np.concatenate(list(map(lambda x: unary(x, C), point)))\n",
    "    return(res)\n",
    "\n",
    "def get_cluster_points(idx, clusters, data): # memoize / cache this?\n",
    "    point_cluster = clusters[idx]\n",
    "    same_cluster_points_idx = np.where(clusters == point_cluster)[0]\n",
    "    same_cluster_points = set(map(tuple, data[same_cluster_points_idx, :]))\n",
    "\n",
    "    return same_cluster_points"
   ]
  },
  {
   "cell_type": "code",
   "execution_count": 659,
   "metadata": {},
   "outputs": [],
   "source": [
    "# set l, k, A, Pmiss?\n",
    "# figure out how to make dendrogram\n",
    "\n",
    "iris_full = datasets.load_iris().data\n",
    "iris = iris_full[:, :2]\n",
    "#iris_head = iris[:10,].copy()\n",
    "\n",
    "A = 1.4\n",
    "l = 10\n",
    "k = 100\n",
    "#l = 3\n",
    "# k = 5\n",
    "C = 50\n",
    "#C = int(np.ceil(np.max(iris))) + 1 # maximal coordinate value of any point is less than C\n",
    "n, d = iris.shape\n",
    "clusters = np.arange(n)\n",
    "num_clusters = len(np.unique(clusters))\n",
    "\n",
    "# randomly sample sqrt(n) points from data to set initial value for r? or use formula below?\n",
    "np.random.seed(5)\n",
    "n_samp = int(np.ceil(np.sqrt(n)))\n",
    "samples = iris[np.random.choice(n, size = n_samp, replace = False), :]\n",
    "\n",
    "# r = min distance between any 2 points in sample\n",
    "#r = np.min(pdist(samples, 'euclidean'))\n",
    "\n",
    "r = (d * C * np.sqrt(d)) / (2 * (k + d))"
   ]
  },
  {
   "cell_type": "code",
   "execution_count": 660,
   "metadata": {},
   "outputs": [
    {
     "data": {
      "text/plain": [
       "50"
      ]
     },
     "execution_count": 660,
     "metadata": {},
     "output_type": "execute_result"
    }
   ],
   "source": [
    "C"
   ]
  },
  {
   "cell_type": "code",
   "execution_count": 661,
   "metadata": {},
   "outputs": [
    {
     "data": {
      "text/plain": [
       "0.6932419423397524"
      ]
     },
     "execution_count": 661,
     "metadata": {},
     "output_type": "execute_result"
    }
   ],
   "source": [
    "r"
   ]
  },
  {
   "cell_type": "code",
   "execution_count": 662,
   "metadata": {},
   "outputs": [],
   "source": [
    "# Step 1: Generation of hash tables\n",
    "\n",
    "def build_hash_tables(C, d, l, k, data):\n",
    "    vals = np.arange(C*d)\n",
    "    hash_tables = defaultdict(set)\n",
    "    hash_tables_reversed = defaultdict(set)\n",
    "\n",
    "    for i in range(l): # use multiprocessing to speed this up? separate thread for each hash function?\n",
    "        #print(len(vals), k)\n",
    "        I = np.random.choice(vals, k, replace = False) # need sampling with replacement if k > n\n",
    "\n",
    "        for j in range(n):\n",
    "            point = data[j]\n",
    "            hashed_point = lsh_hash(point, C)[I]\n",
    "            bucket = hash_tables[tuple(hashed_point)]\n",
    "            same_cluster_points = get_cluster_points(j, clusters, data)\n",
    "\n",
    "            # only add point to hash table if no other points from its cluster are in the bucket\n",
    "            if not same_cluster_points.intersection(bucket):\n",
    "                hash_tables[tuple(hashed_point)].add(tuple(point))\n",
    "                hash_tables_reversed[tuple(point)].add(tuple(hashed_point))\n",
    "    \n",
    "    return hash_tables, hash_tables_reversed"
   ]
  },
  {
   "cell_type": "code",
   "execution_count": 663,
   "metadata": {},
   "outputs": [
    {
     "data": {
      "text/plain": [
       "(149, 4)"
      ]
     },
     "execution_count": 663,
     "metadata": {},
     "output_type": "execute_result"
    }
   ],
   "source": [
    "Z = np.zeros((n-1, 4))\n",
    "Z.shape"
   ]
  },
  {
   "cell_type": "code",
   "execution_count": null,
   "metadata": {},
   "outputs": [],
   "source": []
  },
  {
   "cell_type": "code",
   "execution_count": 664,
   "metadata": {},
   "outputs": [
    {
     "name": "stdout",
     "output_type": "stream",
     "text": [
      "[32 10  5 16  4 21 27 40 43 48 19 44 46 22]\n",
      "[25 28 49 39 84 35 20 31 23  7 26 30 47  3  6  2 29 59  9 34 37 11 24 12\n",
      " 45]\n",
      "[13 42 38]\n",
      "[33 15 36 18]\n",
      "[0 0 0 0 0 0 0 0 0 0 0 0 0 0]\n",
      "[102 125 129  58  76 130 107  52 139 141  75  65  86 140  77 145 112 120\n",
      " 124 144 143]\n",
      "[ 54  63  71  73  74  78  83  97 103 111 123 133  70  61 149 138 134  91\n",
      " 127  56 100  85 104 116 147 110 136 137 126 148 128 132]\n",
      "[ 89 113  62 119  80  81  69]\n",
      "[]\n",
      "[ 51  51  51  51  51  51  51  51  90  51 114  66  88  51  95  51  51  92\n",
      "  51  94  51  96  51  51  51  51  67  82 101 142  64  79 121]\n",
      "[106  93  98  60]\n",
      "[ 72 146  68  87]\n",
      "[55 55 55 55 55 55 55 55 55 55 55 55 55 55 55 55 55 55 55 55 55 55 55 55\n",
      " 55 55 55 55 55 55 55 55 55]\n",
      "[135 122 118]\n",
      "[99 99 99 99 99 99 99 99 99 99 99 99 99 99 99 99 99 99 99 99 99 99 99 99\n",
      " 99 99 99 99 99 99 99 99]\n",
      "[131]\n",
      "[14  1]\n",
      "[57 53]\n",
      "[41]\n",
      "[]\n",
      "[109 117 105 115 115 108]\n",
      "[]\n",
      "[]\n",
      "[]\n",
      "[]\n",
      "[]\n",
      "[]\n",
      "[]\n",
      "[]\n",
      "[8]\n",
      "[]\n",
      "[]\n",
      "[50 50]\n"
     ]
    }
   ],
   "source": [
    "count = 0\n",
    "np.random.seed(6)\n",
    "\n",
    "while num_clusters > 1 and count < 20:\n",
    "    # Step 1: Generation of hash tables\n",
    "    hash_tables, hash_tables_reversed = build_hash_tables(C, d, l, k, iris)\n",
    "    \n",
    "    # Step 2: Nearest neighbor search for q\n",
    "    \n",
    "    for i in range(n):\n",
    "        q = iris[i]\n",
    "        q_buckets = hash_tables_reversed[tuple(q)]\n",
    "        \n",
    "#         print(\"hash_tables\")\n",
    "#         print(hash_tables)\n",
    "#         print(\"\\n\")\n",
    "#         print(\"hash_tables_reversed\")\n",
    "#         print(hash_tables_reversed)\n",
    "#         print(\"\\n\")\n",
    "\n",
    "        # get points that share a bucket with q\n",
    "#        print(i)\n",
    "#         if i == 2:\n",
    "#             print(tuple(q))\n",
    "#             print(hash_tables_reversed[tuple(q)])\n",
    "        \n",
    "        if hash_tables_reversed[tuple(q)]: # check if point is in any hash tables\n",
    "            sim_points = reduce(\n",
    "                lambda x, y: x.union(y),\n",
    "                map(lambda x: hash_tables[x], q_buckets)\n",
    "                ).difference(get_cluster_points(i, clusters, iris)) # difference should be on all points in q's cluster\n",
    "            sim_points = np.array(list(sim_points))\n",
    "\n",
    "            # Step 3: Connect pairs of clusters within certain distance of q\n",
    "\n",
    "            # find indices of similar points p s.t. dist(q, p) < r and merge clusters\n",
    "            # need to convert the clusters for all points that are in the same clusters as the p's\n",
    "            if sim_points.size:\n",
    "                points_to_join = sim_points[np.where(np.linalg.norm(q - sim_points, axis = 1) < r)[0]]\n",
    "\n",
    "                # find the clusters that should be combined with point q's cluster\n",
    "                clusters_to_join = clusters[np.where((iris == points_to_join[:,None]).all(-1))[1]]\n",
    "                print(clusters_to_join)\n",
    "\n",
    "                clusters[np.where(np.in1d(clusters, clusters_to_join))[0]] = clusters[i]\n",
    "\n",
    "    # Step 4: update parameters and continue until num_clusters == 1\n",
    "\n",
    "    num_clusters = len(np.unique(clusters))\n",
    "    count += 1\n",
    "\n",
    "    #increase r and decrease k\n",
    "    r *= A\n",
    "    k = int(np.round((d * C * np.sqrt(d)) / (2 * r)))\n",
    "    \n",
    "#     print(num_clusters, r, k)\n",
    "#     print(clusters)\n",
    "#     print('\\n')"
   ]
  },
  {
   "cell_type": "code",
   "execution_count": 607,
   "metadata": {},
   "outputs": [],
   "source": [
    "clusters = np.array([17, 1, 1, 1, 17, 17, 1, 1, 8, 1, 17, 1, 1, 8, 14, 14, 17, 17, 14, 17, 1, 17, 17, 1, 1, 1, 1, 17, 1, 1, 1, 1, 17, 14, 1, 1, 14, 1, 8, 1, 17, 41, 8, 17, 17, 1, 17, 1, 17, 1, 50, 115, 50, 53, 115, 115, 115, 57, 50, 1, 57, 115, 53, 115, 115, 50, 115, 115, 53, 53, 115, 115, 53, 115, 115, 50, 50, 50, 115, 115, 53, 53, 115, 115, 1, 115, 50, 53, 115, 53, 115, 115, 115, 57, 115, 115, 115, 115, 57, 115, 115, 115, 50, 115, 115, 105, 57, 50, 108, 109, 115, 115, 50, 53, 115, 115, 115, 117, 105, 53, 50, 115, 105, 115, 50, 50, 115, 115, 115, 50, 50, 117, 115, 115, 115, 105, 115, 115, 115, 50, 50, 50, 115, 50, 50, 50, 53, 115, 115, 115])"
   ]
  },
  {
   "cell_type": "code",
   "execution_count": 608,
   "metadata": {},
   "outputs": [
    {
     "data": {
      "text/plain": [
       "(150,)"
      ]
     },
     "execution_count": 608,
     "metadata": {},
     "output_type": "execute_result"
    }
   ],
   "source": [
    "clusters.shape"
   ]
  },
  {
   "cell_type": "code",
   "execution_count": 609,
   "metadata": {},
   "outputs": [
    {
     "data": {
      "text/plain": [
       "(150, 2)"
      ]
     },
     "execution_count": 609,
     "metadata": {},
     "output_type": "execute_result"
    }
   ],
   "source": [
    "iris.shape"
   ]
  },
  {
   "cell_type": "code",
   "execution_count": 611,
   "metadata": {},
   "outputs": [],
   "source": [
    "g1 = np.where(clusters == np.unique(clusters)[0])[0]\n",
    "g2 = np.where(clusters == np.unique(clusters)[1])[0]\n",
    "g3 = np.where(clusters == np.unique(clusters)[2])[0]\n",
    "g4 = np.where(clusters == np.unique(clusters)[3])[0]\n",
    "g5 = np.where(clusters == np.unique(clusters)[4])[0]\n",
    "g6 = np.where(clusters == np.unique(clusters)[5])[0]\n",
    "g7 = np.where(clusters == np.unique(clusters)[6])[0]\n",
    "g8 = np.where(clusters == np.unique(clusters)[7])[0]\n",
    "g9 = np.where(clusters == np.unique(clusters)[8])[0]\n",
    "g10 = np.where(clusters == np.unique(clusters)[9])[0]\n",
    "g11 = np.where(clusters == np.unique(clusters)[10])[0]\n",
    "g12 = np.where(clusters == np.unique(clusters)[11])[0]\n",
    "g13 = np.where(clusters == np.unique(clusters)[12])[0]"
   ]
  },
  {
   "cell_type": "code",
   "execution_count": null,
   "metadata": {},
   "outputs": [],
   "source": [
    "plt.scatter(data[g1,0], data[g1,1], marker='o', facecolors = 'none', edgecolors = 'b', s = 15)\n",
    "plt.scatter(data[g2,0], data[g2,1], marker='o', facecolors = 'none', edgecolors = 'g', s = 15)\n",
    "plt.xlabel('x', size = 13)\n",
    "plt.ylabel('y', size = 13)\n",
    "plt.axis('square');"
   ]
  },
  {
   "cell_type": "code",
   "execution_count": 613,
   "metadata": {},
   "outputs": [
    {
     "data": {
      "image/png": "[encoded data removed]",
      "text/plain": [
       "<matplotlib.figure.Figure at 0x10e9ae9b0>"
      ]
     },
     "metadata": {},
     "output_type": "display_data"
    }
   ],
   "source": [
    "plt.scatter(iris[:,0], iris[:,1]);"
   ]
  },
  {
   "cell_type": "code",
   "execution_count": 618,
   "metadata": {},
   "outputs": [
    {
     "data": {
      "image/png": "[encoded data removed]",
      "text/plain": [
       "<matplotlib.figure.Figure at 0x10f314e48>"
      ]
     },
     "metadata": {},
     "output_type": "display_data"
    }
   ],
   "source": [
    "plt.scatter(iris[g1,0], iris[g1,1], marker='o', facecolors = 'none', edgecolors = 'blue', s = 15)\n",
    "plt.scatter(iris[g2,0], iris[g2,1], marker='o', facecolors = 'none', edgecolors = 'green', s = 15)\n",
    "plt.scatter(iris[g3,0], iris[g3,1], marker='o', facecolors = 'none', edgecolors = 'red', s = 15)\n",
    "plt.scatter(iris[g4,0], iris[g4,1], marker='o', facecolors = 'none', edgecolors = 'yellow', s = 15)\n",
    "plt.scatter(iris[g5,0], iris[g5,1], marker='o', facecolors = 'none', edgecolors = 'purple', s = 15)\n",
    "plt.scatter(iris[g6,0], iris[g6,1], marker='o', facecolors = 'none', edgecolors = 'orange', s = 15)\n",
    "plt.scatter(iris[g7,0], iris[g7,1], marker='o', facecolors = 'none', edgecolors = 'gray', s = 15)\n",
    "plt.scatter(iris[g8,0], iris[g8,1], marker='o', facecolors = 'none', edgecolors = 'brown', s = 15)\n",
    "plt.scatter(iris[g9,0], iris[g9,1], marker='o', facecolors = 'none', edgecolors = 'black', s = 15)\n",
    "plt.scatter(iris[g10,0], iris[g10,1], marker='o', facecolors = 'none', edgecolors = 'pink', s = 15)\n",
    "plt.scatter(iris[g11,0], iris[g11,1], marker='o', facecolors = 'none', edgecolors = 'turquoise', s = 15)\n",
    "plt.scatter(iris[g12,0], iris[g12,1], marker='o', facecolors = 'none', edgecolors = 'cyan', s = 15)\n",
    "plt.scatter(iris[g13,0], iris[g13,1], marker='o', facecolors = 'none', edgecolors = 'darkorchid', s = 15)\n",
    "plt.xlabel('x', size = 13)\n",
    "plt.ylabel('y', size = 13)\n",
    "plt.axis('square');"
   ]
  },
  {
   "cell_type": "code",
   "execution_count": 619,
   "metadata": {},
   "outputs": [],
   "source": [
    "clusters2 = np.array([17, 17, 17, 17, 17, 17, 17, 17, 8, 17, 17, 17, 17, 8, 17, 17, 17, 17, 17, 17, 17, 17, 17, 17, 17, 17, 17, 17, 17, 17, 17, 17, 17, 17, 17, 17, 17, 17, 8, 17, 17, 8, 8, 17, 17, 17, 17, 17, 17, 17, 50, 50, 50, 17, 50, 50, 50, 17, 50, 17, 17, 50, 17, 50, 50, 50, 50, 50, 17, 17, 50, 50, 17, 50, 50, 50, 50, 50, 50, 50, 17, 17, 50, 50, 17, 50, 50, 17, 50, 17, 50, 50, 50, 17, 50, 50, 50, 50, 17, 50, 50, 50, 50, 50, 50, 50, 17, 50, 50, 50, 50, 50, 50, 17, 50, 50, 50, 50, 50, 17, 50, 50, 50, 50, 50, 50, 50, 50, 50, 50, 50, 50, 50, 50, 50, 50, 50, 50, 50, 50, 50, 50, 50, 50, 50, 50, 17, 50, 50, 50])"
   ]
  },
  {
   "cell_type": "code",
   "execution_count": 620,
   "metadata": {},
   "outputs": [
    {
     "data": {
      "text/plain": [
       "(150,)"
      ]
     },
     "execution_count": 620,
     "metadata": {},
     "output_type": "execute_result"
    }
   ],
   "source": [
    "clusters2.shape"
   ]
  },
  {
   "cell_type": "code",
   "execution_count": 621,
   "metadata": {},
   "outputs": [],
   "source": [
    "q1 = np.where(clusters2 == np.unique(clusters2)[0])[0]\n",
    "q2 = np.where(clusters2 == np.unique(clusters2)[1])[0]\n",
    "q3 = np.where(clusters2 == np.unique(clusters2)[2])[0]"
   ]
  },
  {
   "cell_type": "code",
   "execution_count": 622,
   "metadata": {},
   "outputs": [
    {
     "data": {
      "image/png": "[encoded data removed]",
      "text/plain": [
       "<matplotlib.figure.Figure at 0x10f4870f0>"
      ]
     },
     "metadata": {},
     "output_type": "display_data"
    }
   ],
   "source": [
    "plt.scatter(iris[q1,0], iris[q1,1], marker='o', facecolors = 'none', edgecolors = 'blue', s = 15)\n",
    "plt.scatter(iris[q2,0], iris[q2,1], marker='o', facecolors = 'none', edgecolors = 'green', s = 15)\n",
    "plt.scatter(iris[q3,0], iris[q3,1], marker='o', facecolors = 'none', edgecolors = 'red', s = 15)\n",
    "plt.xlabel('x', size = 13)\n",
    "plt.ylabel('y', size = 13)\n",
    "plt.axis('square');"
   ]
  },
  {
   "cell_type": "code",
   "execution_count": null,
   "metadata": {},
   "outputs": [],
   "source": []
  },
  {
   "cell_type": "code",
   "execution_count": 646,
   "metadata": {},
   "outputs": [],
   "source": [
    "from scipy.cluster.hierarchy import linkage, dendrogram"
   ]
  },
  {
   "cell_type": "code",
   "execution_count": 639,
   "metadata": {},
   "outputs": [
    {
     "data": {
      "text/plain": [
       "array([[ 7.        ,  9.        ,  0.3       ,  2.        ],\n",
       "       [ 4.        ,  6.        ,  0.5       ,  2.        ],\n",
       "       [ 5.        , 12.        ,  0.5       ,  3.        ],\n",
       "       [ 2.        , 13.        ,  0.53851648,  4.        ],\n",
       "       [ 3.        , 14.        ,  0.58309519,  5.        ],\n",
       "       [ 1.        , 15.        ,  0.64031242,  6.        ],\n",
       "       [10.        , 11.        ,  0.72801099,  3.        ],\n",
       "       [ 8.        , 17.        ,  1.2083046 ,  4.        ],\n",
       "       [ 0.        , 16.        ,  1.5132746 ,  7.        ],\n",
       "       [18.        , 19.        ,  1.92353841, 11.        ]])"
      ]
     },
     "execution_count": 639,
     "metadata": {},
     "output_type": "execute_result"
    }
   ],
   "source": [
    "from scipy.cluster.hierarchy import linkage, dendrogram\n",
    "\n",
    "a = np.array([[0.1,   2.5],\n",
    "              [1.5,   .4 ],\n",
    "              [0.3,   1  ],\n",
    "              [1  ,   .8 ],\n",
    "              [0.5,   0  ],\n",
    "              [0  ,   0.5],\n",
    "              [0.5,   0.5],\n",
    "              [2.7,   2  ],\n",
    "              [2.2,   3.1],\n",
    "              [3  ,   2  ],\n",
    "              [3.2,   1.3]])\n",
    "\n",
    "z = linkage(a, method=\"single\")\n",
    "z\n",
    "\n",
    "dendrogram(z)\n",
    "plt.show()"
   ]
  },
  {
   "cell_type": "code",
   "execution_count": 648,
   "metadata": {},
   "outputs": [
    {
     "data": {
      "image/png": "[encoded data removed]",
      "text/plain": [
       "<matplotlib.figure.Figure at 0x10eb926d8>"
      ]
     },
     "metadata": {},
     "output_type": "display_data"
    }
   ],
   "source": [
    "dendrogram(z)\n",
    "plt.show()"
   ]
  },
  {
   "cell_type": "code",
   "execution_count": null,
   "metadata": {},
   "outputs": [],
   "source": []
  },
  {
   "cell_type": "code",
   "execution_count": null,
   "metadata": {},
   "outputs": [],
   "source": []
  },
  {
   "cell_type": "code",
   "execution_count": null,
   "metadata": {},
   "outputs": [],
   "source": []
  },
  {
   "cell_type": "code",
   "execution_count": null,
   "metadata": {},
   "outputs": [],
   "source": []
  },
  {
   "cell_type": "code",
   "execution_count": null,
   "metadata": {},
   "outputs": [],
   "source": []
  },
  {
   "cell_type": "code",
   "execution_count": null,
   "metadata": {},
   "outputs": [],
   "source": []
  },
  {
   "cell_type": "code",
   "execution_count": null,
   "metadata": {},
   "outputs": [],
   "source": []
  },
  {
   "cell_type": "code",
   "execution_count": null,
   "metadata": {},
   "outputs": [],
   "source": []
  },
  {
   "cell_type": "code",
   "execution_count": 459,
   "metadata": {},
   "outputs": [],
   "source": [
    "### Question 3b - Hierarchical Agglomerative Clustering\n",
    "# single-linkage clustering: https://en.wikipedia.org/wiki/Single-linkage_clustering\n",
    "\n",
    "def hac(k, data):\n",
    "    n = data.shape[0]\n",
    "    \n",
    "    # start with each point in its own cluster\n",
    "    clusters = np.arange(n)\n",
    "    num_clusters = len(np.unique(clusters))\n",
    "    \n",
    "    while num_clusters > k:\n",
    "        min_distances = np.zeros(n)\n",
    "        min_points = np.zeros(n).astype('int')\n",
    "\n",
    "        # for each point, find min distance to point not in cluster\n",
    "        for i in range(n):\n",
    "            point = data[i,]\n",
    "            point_cluster = clusters[i]\n",
    "            distances = np.linalg.norm(point - data, axis = 1)\n",
    "            diff_cluster_points = np.where(clusters != point_cluster)[0]\n",
    "\n",
    "            min_points[i] = diff_cluster_points[np.argmin(distances[diff_cluster_points])]\n",
    "            min_distances[i] = distances[min_points[i]]\n",
    "\n",
    "        # merge clusters of the two closest points\n",
    "        point1_idx = np.argmin(min_distances)\n",
    "        point1 = data[point1_idx,]\n",
    "        point2_idx = min_points[point1_idx]\n",
    "        point2 = data[point2_idx,]\n",
    "\n",
    "        point2_cluster = clusters[point2_idx]\n",
    "        clusters[np.where(clusters == point2_cluster)[0]] = clusters[point1_idx]\n",
    "\n",
    "        # update number of clusters\n",
    "        num_clusters = len(np.unique(clusters))\n",
    "    \n",
    "    return clusters"
   ]
  },
  {
   "cell_type": "code",
   "execution_count": 460,
   "metadata": {},
   "outputs": [],
   "source": [
    "k = 1\n",
    "clusters_hac = hac(k, iris)"
   ]
  },
  {
   "cell_type": "code",
   "execution_count": null,
   "metadata": {},
   "outputs": [],
   "source": []
  },
  {
   "cell_type": "code",
   "execution_count": null,
   "metadata": {},
   "outputs": [],
   "source": []
  }
 ],
 "metadata": {
  "kernelspec": {
   "display_name": "IPython (Python 3)",
   "language": "python",
   "name": "python3"
  },
  "language_info": {
   "codemirror_mode": {
    "name": "ipython",
    "version": 3
   },
   "file_extension": ".py",
   "mimetype": "text/x-python",
   "name": "python",
   "nbconvert_exporter": "python",
   "pygments_lexer": "ipython3",
   "version": "3.6.1"
  }
 },
 "nbformat": 4,
 "nbformat_minor": 2
}
