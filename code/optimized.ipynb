{
 "cells": [
  {
   "cell_type": "code",
   "execution_count": 2,
   "metadata": {},
   "outputs": [],
   "source": [
    "import numpy as np\n",
    "import matplotlib.pyplot as plt\n",
    "from collections import defaultdict\n",
    "from sklearn import datasets\n",
    "from scipy.cluster.hierarchy import dendrogram, linkage\n",
    "from scipy.spatial.distance import pdist\n",
    "from functools import reduce, lru_cache\n",
    "import datetime\n",
    "import pickle"
   ]
  },
  {
   "cell_type": "code",
   "execution_count": 3,
   "metadata": {},
   "outputs": [],
   "source": [
    "def data_extend(data, k):\n",
    "    r, c = data.shape\n",
    "    data_extend = (reduce(lambda x, y: np.vstack((x, y)), map(lambda x: data, range(k))) +\n",
    "                  np.random.randn(r*c*k).reshape(r*k, c).round(1))\n",
    "    return(data_extend)\n",
    "\n",
    "def hac(k, data):\n",
    "    n = data.shape[0]\n",
    "    \n",
    "    # start with each point in its own cluster\n",
    "    clusters = np.arange(n)\n",
    "    unique_clusters = len(np.unique(clusters))\n",
    "    \n",
    "    while unique_clusters > k:\n",
    "        min_distances = np.zeros(n)\n",
    "        min_points = np.zeros(n).astype('int')\n",
    "\n",
    "        # for each point, find min distance to point not in cluster\n",
    "        for i in range(n):\n",
    "            point = data[i,]\n",
    "            point_cluster = clusters[i]\n",
    "            distances = np.linalg.norm(point - data, axis = 1)\n",
    "            diff_cluster_points = np.where(clusters != point_cluster)[0]\n",
    "\n",
    "            min_points[i] = diff_cluster_points[np.argmin(distances[diff_cluster_points])]\n",
    "            min_distances[i] = distances[min_points[i]]\n",
    "\n",
    "        # merge clusters of the two closest points\n",
    "        point1_idx = np.argmin(min_distances)\n",
    "        point1 = data[point1_idx,]\n",
    "        point2_idx = min_points[point1_idx]\n",
    "        point2 = data[point2_idx,]\n",
    "\n",
    "        point2_cluster = clusters[point2_idx]\n",
    "        clusters[np.where(clusters == point2_cluster)[0]] = clusters[point1_idx]\n",
    "\n",
    "        # update number of clusters\n",
    "        unique_clusters = len(np.unique(clusters))\n",
    "    \n",
    "    return clusters"
   ]
  },
  {
   "cell_type": "code",
   "execution_count": 4,
   "metadata": {},
   "outputs": [],
   "source": [
    "@lru_cache(maxsize=None)\n",
    "def unary(x, C):\n",
    "    nearest_x = int(np.round(x))\n",
    "    return(np.r_[np.ones(nearest_x), np.zeros(C-nearest_x)])\n",
    "\n",
    "@lru_cache(maxsize=None)\n",
    "def lsh_hash(point, C):\n",
    "    point = np.array(point)\n",
    "    res = np.concatenate(list(map(lambda x: unary(x, C), point)))\n",
    "    return(res)\n",
    "\n",
    "@lru_cache(maxsize=None)\n",
    "def get_points_in_cluster(idx, clusters, data):\n",
    "    clusters = np.array(clusters)\n",
    "    data = pickle.loads(data)\n",
    "    point_cluster = clusters[idx]\n",
    "    same_cluster_points_idx = np.where(clusters == point_cluster)[0]\n",
    "    same_cluster_points = set(map(tuple, data[same_cluster_points_idx, :]))\n",
    "    return(same_cluster_points)\n",
    "\n",
    "@lru_cache(maxsize=None)\n",
    "def get_point_indices(data, points):\n",
    "    data = pickle.loads(data)\n",
    "    points = pickle.loads(points)\n",
    "    indices = np.where((data == points[:,None]).all(-1))[1]\n",
    "    return(indices)"
   ]
  },
  {
   "cell_type": "code",
   "execution_count": 5,
   "metadata": {},
   "outputs": [],
   "source": [
    "def build_hash_tables(C, d, l, k, data, clusters):\n",
    "    vals = np.arange(C*d)\n",
    "    n = data.shape[0]\n",
    "    hash_tables = defaultdict(set)\n",
    "    hash_tables_reversed = defaultdict(set)\n",
    "\n",
    "    for i in range(l):\n",
    "        I = np.random.choice(vals, k, replace = False)\n",
    "\n",
    "        for j in range(n):\n",
    "            # for every point, generate hashed point and sample k bits\n",
    "            p = data[j]\n",
    "            hashed_point = lsh_hash(tuple(p), C)[I]\n",
    "            \n",
    "            # check if any other points in p's cluster are already in this hash table\n",
    "            # and only add point to hash table if no other points from its cluster are there\n",
    "            bucket = hash_tables[tuple(hashed_point)]\n",
    "            cluster_points = get_points_in_cluster(j, tuple(clusters), pickle.dumps(data))\n",
    "            \n",
    "            key = tuple([i]) + tuple(hashed_point)\n",
    "\n",
    "            if not cluster_points.intersection(bucket):\n",
    "                hash_tables[key].add(tuple(p))\n",
    "                hash_tables_reversed[tuple(p)].add(key)\n",
    "    \n",
    "    return hash_tables, hash_tables_reversed"
   ]
  },
  {
   "cell_type": "code",
   "execution_count": 6,
   "metadata": {},
   "outputs": [],
   "source": [
    "# iris = datasets.load_iris().data * 10\n",
    "\n",
    "iris = datasets.load_iris().data\n",
    "iris = data_extend(iris, 10) * 10\n",
    "iris += np.abs(np.min(iris))"
   ]
  },
  {
   "cell_type": "code",
   "execution_count": 7,
   "metadata": {},
   "outputs": [
    {
     "data": {
      "text/plain": [
       "(1500, 4)"
      ]
     },
     "execution_count": 7,
     "metadata": {},
     "output_type": "execute_result"
    }
   ],
   "source": [
    "iris.shape"
   ]
  },
  {
   "cell_type": "code",
   "execution_count": 8,
   "metadata": {},
   "outputs": [],
   "source": [
    "def LSHLink(data, A, l, k, C = None, cutoff = 1, dendrogram = False):\n",
    "    # set default value for C if none is provided\n",
    "    if not C:\n",
    "        C = int(np.ceil(np.max(data))) + 1\n",
    "    \n",
    "    if dendrogram and cutoff != 1:\n",
    "        raise Exception('Dendrogram requires a full hierarchy; set cutoff to 1')\n",
    "    \n",
    "    # initializations\n",
    "    n, d = data.shape\n",
    "    clusters = np.arange(n)\n",
    "    unique_clusters = len(np.unique(clusters))\n",
    "    num = n - 1\n",
    "    Z = np.zeros((n - 1, 4))\n",
    "    \n",
    "    # calculate r depending on n, either:\n",
    "    # 1. min dist from a random sample of sqrt(n) points\n",
    "    # 2. formula below\n",
    "    np.random.seed(12) # REMOVE SEED? MAKE SURE CODE STILL WORKS FOR R VALUE\n",
    "    n_samp = int(np.ceil(np.sqrt(n)))\n",
    "    samples = data[np.random.choice(n, size = n_samp, replace = False), :]\n",
    "    \n",
    "    if n < 500:\n",
    "        r = np.min(pdist(samples, 'euclidean'))\n",
    "    else:\n",
    "        r = (d * C * np.sqrt(d)) / (2 * (k + d))\n",
    "    \n",
    "    np.random.seed(6) # REMOVE SEED?\n",
    "\n",
    "    while unique_clusters > cutoff:\n",
    "        # STEP 1: Generation of hash tables\n",
    "        #start = datetime.datetime.now()\n",
    "        hash_tables, hash_tables_reversed = build_hash_tables(C, d, l, k, data, clusters)\n",
    "        #end = datetime.datetime.now()\n",
    "        #print(\"build_hash_tables: \", end-start)\n",
    "\n",
    "        # STEP 2: Nearest neighbor search for p\n",
    "        #start = datetime.datetime.now()\n",
    "        for i in range(n):\n",
    "            # get all of those hash tables that contain point p\n",
    "            p = data[i]\n",
    "            p_hashes = hash_tables_reversed[tuple(p)]\n",
    "\n",
    "            # only proceed if p is in at least one hash table\n",
    "            if hash_tables_reversed[tuple(p)]:\n",
    "\n",
    "                # find all \"similar points\" to p: points that share at least one\n",
    "                # hash table with p, and are not in the same cluster as p\n",
    "                similar_points = reduce(\n",
    "                    lambda x, y: x.union(y),\n",
    "                    map(lambda x: hash_tables[x], p_hashes)\n",
    "                    ).difference(get_points_in_cluster(i, tuple(clusters), pickle.dumps(data)))\n",
    "                similar_points = np.array(list(similar_points))\n",
    "\n",
    "                # STEP 3: Connect pairs of clusters within certain distance of p\n",
    "                # only proceed if p has any similar points\n",
    "                if similar_points.size:\n",
    "\n",
    "                    # find similar points q s.t. dist(p, q) < r\n",
    "                    # the clusters containing these points will be merged with p's cluster\n",
    "                    points_to_merge = similar_points[\n",
    "                        np.where(np.linalg.norm(p - similar_points, axis = 1) < r)[0]\n",
    "                    ]\n",
    "\n",
    "                    # only proceed if p has similar points within distance r\n",
    "                    if points_to_merge.size:\n",
    "                        # identify which clusters contain points_to_merge\n",
    "                        point_indices = get_point_indices(pickle.dumps(data), pickle.dumps(points_to_merge))\n",
    "                        clusters_to_merge = list(np.unique(clusters[point_indices]))\n",
    "                        \n",
    "                        # update cluster labels\n",
    "                        # if dendrogram = False, we can use a simpler method\n",
    "                        if not dendrogram:\n",
    "                            clusters[np.where(np.in1d(clusters, clusters_to_merge))[0]] = clusters[i]\n",
    "                        \n",
    "                        else:\n",
    "                            clusters_to_merge.append(clusters[i])\n",
    "                            \n",
    "                            for j in range(len(clusters_to_merge) - 1):\n",
    "                                clusterA = clusters_to_merge[j]\n",
    "                                clusterB = clusters_to_merge[j+1]\n",
    "                                num += 1\n",
    "                                clusters[np.where(np.in1d(clusters, [clusterA, clusterB]))[0]] = num\n",
    "\n",
    "                                Z[num - n, :] = np.array([clusterA, clusterB, r,\n",
    "                                                            len(np.where(np.in1d(clusters, num))[0])])\n",
    "                                clusters_to_merge[j:j+2] = 2 * [num]\n",
    "        #end = datetime.datetime.now()\n",
    "        #print(\"for loop: \", end-start)\n",
    "\n",
    "        # STEP 4: update parameters and continue until unique_clusters == cutoff\n",
    "        unique_clusters = len(np.unique(clusters))\n",
    "\n",
    "        #increase r and decrease k\n",
    "        r *= A\n",
    "        k = int(np.round((d * C * np.sqrt(d)) / (2 * r)))\n",
    "\n",
    "#         print(unique_clusters, r, k)\n",
    "#         print(clusters)\n",
    "#         print('\\n')\n",
    "\n",
    "    if not dendrogram:\n",
    "        return(clusters)\n",
    "    \n",
    "    else:\n",
    "        return(clusters, Z)"
   ]
  },
  {
   "cell_type": "code",
   "execution_count": null,
   "metadata": {},
   "outputs": [],
   "source": []
  },
  {
   "cell_type": "code",
   "execution_count": null,
   "metadata": {},
   "outputs": [],
   "source": []
  },
  {
   "cell_type": "code",
   "execution_count": null,
   "metadata": {},
   "outputs": [],
   "source": []
  },
  {
   "cell_type": "code",
   "execution_count": 9,
   "metadata": {},
   "outputs": [],
   "source": [
    "l = 10\n",
    "k = 100\n",
    "n, d = iris.shape\n",
    "C = int(np.ceil(np.max(iris))) + 1\n",
    "clusters = np.arange(n)"
   ]
  },
  {
   "cell_type": "code",
   "execution_count": 10,
   "metadata": {},
   "outputs": [
    {
     "name": "stdout",
     "output_type": "stream",
     "text": [
      "3.22 s ± 0 ns per loop (mean ± std. dev. of 1 run, 1 loop each)\n"
     ]
    }
   ],
   "source": [
    "%timeit -r1 build_hash_tables(C, d, l, k, iris, clusters)"
   ]
  },
  {
   "cell_type": "code",
   "execution_count": 14,
   "metadata": {},
   "outputs": [
    {
     "name": "stdout",
     "output_type": "stream",
     "text": [
      "29 ms ± 0 ns per loop (mean ± std. dev. of 1 run, 10 loops each)\n"
     ]
    }
   ],
   "source": [
    "%timeit -r1 linkage(iris, method=\"single\")"
   ]
  },
  {
   "cell_type": "code",
   "execution_count": 20,
   "metadata": {},
   "outputs": [
    {
     "name": "stdout",
     "output_type": "stream",
     "text": [
      "2min 31s ± 0 ns per loop (mean ± std. dev. of 1 run, 1 loop each)\n"
     ]
    }
   ],
   "source": [
    "%timeit -r1 hac(1, iris)"
   ]
  },
  {
   "cell_type": "code",
   "execution_count": 9,
   "metadata": {},
   "outputs": [
    {
     "name": "stdout",
     "output_type": "stream",
     "text": [
      "26.4 s ± 0 ns per loop (mean ± std. dev. of 1 run, 1 loop each)\n"
     ]
    }
   ],
   "source": [
    "%timeit -r1 LSHLink(iris, A = 1.4, l = 10, k = 100, dendrogram = False)"
   ]
  },
  {
   "cell_type": "code",
   "execution_count": null,
   "metadata": {},
   "outputs": [],
   "source": []
  },
  {
   "cell_type": "code",
   "execution_count": 10,
   "metadata": {},
   "outputs": [],
   "source": [
    "iris = datasets.load_iris().data * 10\n",
    "clusters, Z = LSHLink(iris, A = 1.4, l = 10, k = 100, dendrogram = True)"
   ]
  },
  {
   "cell_type": "code",
   "execution_count": 11,
   "metadata": {},
   "outputs": [
    {
     "data": {
      "image/png": "[encoded data removed]",
      "text/plain": [
       "<matplotlib.figure.Figure at 0x10d85a208>"
      ]
     },
     "metadata": {},
     "output_type": "display_data"
    }
   ],
   "source": [
    "dendrogram(Z, color_threshold = 18)\n",
    "plt.gcf().set_size_inches(16, 8)\n",
    "plt.show();"
   ]
  },
  {
   "cell_type": "code",
   "execution_count": 17,
   "metadata": {},
   "outputs": [
    {
     "data": {
      "image/png": "[encoded data removed]",
      "text/plain": [
       "<matplotlib.figure.Figure at 0x1cfee2f60>"
      ]
     },
     "metadata": {},
     "output_type": "display_data"
    }
   ],
   "source": [
    "z = linkage(iris, method=\"single\")\n",
    "dendrogram(z)\n",
    "plt.gcf().set_size_inches(16, 8)\n",
    "plt.show();"
   ]
  },
  {
   "cell_type": "code",
   "execution_count": 12,
   "metadata": {},
   "outputs": [
    {
     "name": "stdout",
     "output_type": "stream",
     "text": [
      "Looking in indexes: https://test.pypi.org/simple/\n",
      "Collecting sta663_lshlink\n",
      "  Downloading https://test-files.pythonhosted.org/packages/7c/96/99fbbf42e4593b5b1899cf6b3ae73ae2b214f35d024e2e37ad3ef0b2f36f/sta663_lshlink-1.0.tar.gz\n",
      "Installing collected packages: sta663-lshlink\n",
      "  Running setup.py install for sta663-lshlink ... \u001b[?25ldone\n",
      "\u001b[?25hSuccessfully installed sta663-lshlink-1.0\n"
     ]
    }
   ],
   "source": [
    "! pip install --index-url https://test.pypi.org/simple/ sta663_lshlink"
   ]
  },
  {
   "cell_type": "code",
   "execution_count": 13,
   "metadata": {},
   "outputs": [
    {
     "ename": "ModuleNotFoundError",
     "evalue": "No module named 'sta663_lshlink'",
     "output_type": "error",
     "traceback": [
      "\u001b[0;31m---------------------------------------------------------------------------\u001b[0m",
      "\u001b[0;31mModuleNotFoundError\u001b[0m                       Traceback (most recent call last)",
      "\u001b[0;32m<ipython-input-13-0f57c1dfafdd>\u001b[0m in \u001b[0;36m<module>\u001b[0;34m()\u001b[0m\n\u001b[0;32m----> 1\u001b[0;31m \u001b[0;32mimport\u001b[0m \u001b[0msta663_lshlink\u001b[0m\u001b[0;34m\u001b[0m\u001b[0m\n\u001b[0m",
      "\u001b[0;31mModuleNotFoundError\u001b[0m: No module named 'sta663_lshlink'"
     ]
    }
   ],
   "source": [
    "import sta663_lshlink"
   ]
  },
  {
   "cell_type": "code",
   "execution_count": null,
   "metadata": {},
   "outputs": [],
   "source": []
  }
 ],
 "metadata": {
  "kernelspec": {
   "display_name": "IPython (Python 3)",
   "language": "python",
   "name": "python3"
  },
  "language_info": {
   "codemirror_mode": {
    "name": "ipython",
    "version": 3
   },
   "file_extension": ".py",
   "mimetype": "text/x-python",
   "name": "python",
   "nbconvert_exporter": "python",
   "pygments_lexer": "ipython3",
   "version": "3.6.1"
  }
 },
 "nbformat": 4,
 "nbformat_minor": 2
}
