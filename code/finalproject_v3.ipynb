{
 "cells": [
  {
   "cell_type": "code",
   "execution_count": 180,
   "metadata": {},
   "outputs": [],
   "source": [
    "import numpy as np\n",
    "import matplotlib.pyplot as plt\n",
    "from collections import defaultdict\n",
    "from sklearn import datasets\n",
    "from scipy.cluster.hierarchy import dendrogram, linkage\n",
    "from scipy.spatial.distance import pdist\n",
    "from functools import reduce\n",
    "import datetime"
   ]
  },
  {
   "cell_type": "code",
   "execution_count": 181,
   "metadata": {},
   "outputs": [],
   "source": [
    "def unary(x, C):\n",
    "    nearest_x = int(np.round(x))\n",
    "    return((np.r_[np.ones(nearest_x), np.zeros(C-nearest_x)]))\n",
    "\n",
    "def lsh_hash(point, C):\n",
    "    # see if I can just vectorize the unary function?\n",
    "    res = np.concatenate(list(map(lambda x: unary(x, C), point)))\n",
    "    return(res)\n",
    "\n",
    "def get_points_in_cluster(idx, clusters, data): # memoize / cache this?\n",
    "    point_cluster = clusters[idx]\n",
    "    same_cluster_points_idx = np.where(clusters == point_cluster)[0]\n",
    "    same_cluster_points = set(map(tuple, data[same_cluster_points_idx, :]))\n",
    "    return same_cluster_points\n",
    "\n",
    "def get_point_indices(data, points):\n",
    "    indices = np.where((data == points[:,None]).all(-1))[1]\n",
    "    return indices"
   ]
  },
  {
   "cell_type": "code",
   "execution_count": 182,
   "metadata": {},
   "outputs": [],
   "source": [
    "def data_extend(data, k):\n",
    "    r, c = data.shape\n",
    "    data_extend = (reduce(lambda x, y: np.vstack((x, y)), map(lambda x: data, range(k))) +\n",
    "                  np.random.randn(r*c*k).reshape(r*k, c).round(1))\n",
    "    return(data_extend)"
   ]
  },
  {
   "cell_type": "code",
   "execution_count": null,
   "metadata": {},
   "outputs": [],
   "source": []
  },
  {
   "cell_type": "code",
   "execution_count": 183,
   "metadata": {},
   "outputs": [
    {
     "data": {
      "text/plain": [
       "0.0"
      ]
     },
     "execution_count": 183,
     "metadata": {},
     "output_type": "execute_result"
    }
   ],
   "source": [
    "np.min(iris)"
   ]
  },
  {
   "cell_type": "code",
   "execution_count": 597,
   "metadata": {},
   "outputs": [
    {
     "name": "stdout",
     "output_type": "stream",
     "text": [
      "80\n",
      "150 4\n",
      "2.0\n",
      "3.076923076923077\n",
      "2.0\n"
     ]
    }
   ],
   "source": [
    "# set l, k, A, Pmiss?\n",
    "# figure out how to make dendrogram\n",
    "\n",
    "iris = datasets.load_iris().data*10\n",
    "#iris = data_extend(iris, 10) * 10\n",
    "#iris += np.abs(np.min(iris))\n",
    "#iris = iris[:,:2]\n",
    "\n",
    "A = 1.4\n",
    "l = 10\n",
    "k = 100\n",
    "#C = 110\n",
    "C = int(np.ceil(np.max(iris))) + 1 # maximal coordinate value of any point is less than C\n",
    "print(C)\n",
    "n, d = iris.shape\n",
    "print(n, d)\n",
    "clusters = np.arange(n)\n",
    "unique_clusters = len(np.unique(clusters))\n",
    "\n",
    "# randomly sample sqrt(n) points from data to set initial value for r? or use formula below?\n",
    "#np.random.seed(12)\n",
    "n_samp = int(np.ceil(np.sqrt(n)))\n",
    "samples = iris[np.random.choice(n, size = n_samp, replace = False), :]\n",
    "\n",
    "# r = min distance between any 2 points in sample\n",
    "print(np.min(pdist(samples, 'euclidean')))\n",
    "print((d * C * np.sqrt(d)) / (2 * (k + d)))\n",
    "\n",
    "if n < 500:\n",
    "    r = np.min(pdist(samples, 'euclidean'))\n",
    "    r = 2.0\n",
    "else:\n",
    "    r = (d * C * np.sqrt(d)) / (2 * (k + d))\n",
    "print(r)"
   ]
  },
  {
   "cell_type": "code",
   "execution_count": 598,
   "metadata": {},
   "outputs": [
    {
     "data": {
      "text/plain": [
       "150"
      ]
     },
     "execution_count": 598,
     "metadata": {},
     "output_type": "execute_result"
    }
   ],
   "source": [
    "n"
   ]
  },
  {
   "cell_type": "code",
   "execution_count": 599,
   "metadata": {},
   "outputs": [],
   "source": [
    "# Step 1: Generation of hash tables\n",
    "\n",
    "def build_hash_tables(C, d, l, k, data):\n",
    "    vals = np.arange(C*d)\n",
    "    n = data.shape[0]\n",
    "    hash_tables = defaultdict(set)\n",
    "    hash_tables_reversed = defaultdict(set)\n",
    "\n",
    "    for i in range(l): # use multiprocessing to speed this up? separate thread for each hash function?\n",
    "        I = np.random.choice(vals, k, replace = False) # figure out if replace = True or False\n",
    "\n",
    "        for j in range(n):\n",
    "            # for every point, generate hashed point and sample k bits\n",
    "            p = data[j]\n",
    "            hashed_point = lsh_hash(p, C)[I]\n",
    "            \n",
    "            # check if any other points in p's cluster are already in this hash table\n",
    "            # and only add point to hash table if no other points from its cluster are there\n",
    "            bucket = hash_tables[tuple(hashed_point)]\n",
    "            cluster_points = get_points_in_cluster(j, clusters, data)\n",
    "\n",
    "            if not cluster_points.intersection(bucket):\n",
    "                hash_tables[tuple(hashed_point)].add(tuple(p))\n",
    "                hash_tables_reversed[tuple(p)].add(tuple(hashed_point))\n",
    "    \n",
    "    return hash_tables, hash_tables_reversed"
   ]
  },
  {
   "cell_type": "code",
   "execution_count": 600,
   "metadata": {
    "scrolled": true
   },
   "outputs": [
    {
     "name": "stdout",
     "output_type": "stream",
     "text": [
      "113 2.8 114\n",
      "[165 171 171 171 165   5   6 165 166 171 168  11 171  13  14  15  16 165\n",
      "  18 170  20 170  22  23  24  25  26 165 165 171 171  31  32  33 171  35\n",
      "  36 171 166 165 165  41  42  43  44 171 170 171 168 165  50  51  52  53\n",
      "  54  55  56 172  58  59  60  61  62 173  64 174  66  67  68 176  70  71\n",
      "  72  73  74 174  76  77  78  79 176 176 177  83  84  85  86  87 181  89\n",
      "  90 173 177 172 181 181 181  97  98 181 100 101 102 103 104 105 106 107\n",
      " 108 109 110 111 182 113 114 115 183 117 118 119 120 121 122 184 124 125\n",
      " 184 185 186 129 130 131 186 133 134 135 136 183 185 182 140 141 142 143\n",
      " 144 145 146 147 148 149]\n",
      "\n",
      "\n",
      "76 3.9199999999999995 82\n",
      "[198 198 198 198 198   5 198 198 198 198 168 198 198 198  14  15  16 198\n",
      "  18 198  20 198  22 198  24 198 198 198 198 198 198  31  32  33 198 198\n",
      "  36 198 198 198 198  41 198 198  44 198 198 198 168 198  50  51  52 212\n",
      " 201  55  56 172 201  59  60  61  62 203  64 201 204 212 206 212 209  71\n",
      "  72 203 210 201  76  77 203  79 212 212 212  83 204  85  86 206 212 212\n",
      " 212 203 212 172 212 212 212 210  98 212 100 223 102 214 104 215 106 107\n",
      " 108 109 216 111 182 223 114 115 214 117 118 119 221 121 215 219 124 125\n",
      " 219 209 186 129 130 131 186 133 134 135 220 214 209 182 221 222 223 221\n",
      " 221 222 219 216 220 149]\n",
      "\n",
      "\n",
      "27 5.487999999999999 58\n",
      "[235 235 235 235 235 235 235 235 235 235 235 235 235 235  14 235 235 235\n",
      " 235 235 235 235  22 235 235 235 235 235 235 235 235 235 235 235 235 235\n",
      " 235 235 235 235 235  41 235 235 235 235 235 235 235 235 256 256 256 256\n",
      " 256 256 256 248 256  59 248 256  62 256  64 256 256 256 206 256 259 256\n",
      " 259 256 256 256 256 256 256 256 256 256 256 259 256 256 256 206 256 256\n",
      " 256 256 256 248 256 256 256 256 248 256 100 259 272 271 271 215 106 265\n",
      " 108 109 271 271 271 259 114 271 271 117 118 119 271 121 215 259 271 272\n",
      " 259 259 271 272 265 131 271 259 134 135 271 271 259 271 271 271 259 271\n",
      " 271 271 259 271 271 259]\n",
      "\n",
      "\n",
      "10 7.683199999999998 42\n",
      "[274 274 274 274 274 274 274 274 274 274 274 274 274 274 274 274 274 274\n",
      " 274 274 274 274 274 274 274 274 274 274 274 274 274 274 274 274 274 274\n",
      " 274 274 274 274 274  41 274 274 274 274 274 274 274 274 288 288 288 288\n",
      " 288 288 288 248 288 288 248 288 288 288 288 288 288 288 288 288 288 288\n",
      " 288 288 288 288 288 288 288 288 288 288 288 288 288 288 288 288 288 288\n",
      " 288 288 288 248 288 288 288 288 248 288 287 288 287 287 287 287 106 287\n",
      " 108 109 287 287 287 288 288 287 287 289 287 288 287 288 287 288 287 287\n",
      " 288 288 287 287 287 289 287 288 134 287 287 287 288 287 287 287 288 287\n",
      " 287 287 288 287 287 288]\n",
      "\n",
      "\n",
      "3 10.756479999999996 30\n",
      "[290 290 290 290 290 290 290 290 290 290 290 290 290 290 290 290 290 290\n",
      " 290 290 290 290 290 290 290 290 290 290 290 290 290 290 290 290 290 290\n",
      " 290 290 290 290 290 290 290 290 290 290 290 290 290 290 296 296 296 296\n",
      " 296 296 296 296 296 296 296 296 296 296 296 296 296 296 296 296 296 296\n",
      " 296 296 296 296 296 296 296 296 296 296 296 296 296 296 296 296 296 296\n",
      " 296 296 296 296 296 296 296 296 296 296 296 296 296 296 296 296 296 296\n",
      " 296 296 296 296 296 296 296 296 296 289 296 296 296 296 296 296 296 296\n",
      " 296 296 296 296 296 289 296 296 296 296 296 296 296 296 296 296 296 296\n",
      " 296 296 296 296 296 296]\n",
      "\n",
      "\n",
      "2 15.059071999999993 21\n",
      "[290 290 290 290 290 290 290 290 290 290 290 290 290 290 290 290 290 290\n",
      " 290 290 290 290 290 290 290 290 290 290 290 290 290 290 290 290 290 290\n",
      " 290 290 290 290 290 290 290 290 290 290 290 290 290 290 297 297 297 297\n",
      " 297 297 297 297 297 297 297 297 297 297 297 297 297 297 297 297 297 297\n",
      " 297 297 297 297 297 297 297 297 297 297 297 297 297 297 297 297 297 297\n",
      " 297 297 297 297 297 297 297 297 297 297 297 297 297 297 297 297 297 297\n",
      " 297 297 297 297 297 297 297 297 297 297 297 297 297 297 297 297 297 297\n",
      " 297 297 297 297 297 297 297 297 297 297 297 297 297 297 297 297 297 297\n",
      " 297 297 297 297 297 297]\n",
      "\n",
      "\n",
      "2 21.08270079999999 15\n",
      "[290 290 290 290 290 290 290 290 290 290 290 290 290 290 290 290 290 290\n",
      " 290 290 290 290 290 290 290 290 290 290 290 290 290 290 290 290 290 290\n",
      " 290 290 290 290 290 290 290 290 290 290 290 290 290 290 297 297 297 297\n",
      " 297 297 297 297 297 297 297 297 297 297 297 297 297 297 297 297 297 297\n",
      " 297 297 297 297 297 297 297 297 297 297 297 297 297 297 297 297 297 297\n",
      " 297 297 297 297 297 297 297 297 297 297 297 297 297 297 297 297 297 297\n",
      " 297 297 297 297 297 297 297 297 297 297 297 297 297 297 297 297 297 297\n",
      " 297 297 297 297 297 297 297 297 297 297 297 297 297 297 297 297 297 297\n",
      " 297 297 297 297 297 297]\n",
      "\n",
      "\n",
      "1 29.515781119999986 11\n",
      "[298 298 298 298 298 298 298 298 298 298 298 298 298 298 298 298 298 298\n",
      " 298 298 298 298 298 298 298 298 298 298 298 298 298 298 298 298 298 298\n",
      " 298 298 298 298 298 298 298 298 298 298 298 298 298 298 298 298 298 298\n",
      " 298 298 298 298 298 298 298 298 298 298 298 298 298 298 298 298 298 298\n",
      " 298 298 298 298 298 298 298 298 298 298 298 298 298 298 298 298 298 298\n",
      " 298 298 298 298 298 298 298 298 298 298 298 298 298 298 298 298 298 298\n",
      " 298 298 298 298 298 298 298 298 298 298 298 298 298 298 298 298 298 298\n",
      " 298 298 298 298 298 298 298 298 298 298 298 298 298 298 298 298 298 298\n",
      " 298 298 298 298 298 298]\n",
      "\n",
      "\n"
     ]
    }
   ],
   "source": [
    "count = 0\n",
    "check = 0\n",
    "num = n - 1\n",
    "height = 0.5\n",
    "Z = np.zeros((n - 1, 4))\n",
    "np.random.seed(6)\n",
    "start = datetime.datetime.now()\n",
    "\n",
    "while unique_clusters > 1 and count < 20: # REMOVE COUNT LIMIT!!!!!!!!!!!!!!!!!!!!!!\n",
    "    # Step 1: Generation of hash tables\n",
    "    hash_tables, hash_tables_reversed = build_hash_tables(C, d, l, k, iris)\n",
    "    \n",
    "    # Step 2: Nearest neighbor search for p\n",
    "    \n",
    "    for i in range(n):\n",
    "        # get all of those hash tables that contain point p\n",
    "        p = iris[i]\n",
    "        p_hashes = hash_tables_reversed[tuple(p)]\n",
    "        \n",
    "        # only proceed if p is in at least one hash table\n",
    "        if hash_tables_reversed[tuple(p)]:\n",
    "            \n",
    "            # find all \"similar points\" to p: points that share at least one\n",
    "            # hash table with p, and are not in the same cluster as p\n",
    "            similar_points = reduce(\n",
    "                lambda x, y: x.union(y),\n",
    "                map(lambda x: hash_tables[x], p_hashes)\n",
    "                ).difference(get_points_in_cluster(i, clusters, iris))\n",
    "            similar_points = np.array(list(similar_points))\n",
    "\n",
    "            # Step 3: Connect pairs of clusters within certain distance of p\n",
    "            \n",
    "            # only proceed if p has any similar points\n",
    "            if similar_points.size:\n",
    "                \n",
    "                # find similar points q s.t. dist(p, q) < r\n",
    "                # the clusters containing these points will be merged with p's cluster\n",
    "                points_to_merge = similar_points[\n",
    "                    np.where(np.linalg.norm(p - similar_points, axis = 1) < r)[0]\n",
    "                ]\n",
    "                #print(points_to_merge, p)\n",
    "                #print(len(points_to_merge))\n",
    "\n",
    "                # only proceed if p has similar points within distance r\n",
    "                if points_to_merge.size:\n",
    "                    # identify which clusters contain points_to_merge\n",
    "                    point_indices = get_point_indices(iris, points_to_merge)\n",
    "                    clusters_to_merge = list(np.unique(clusters[point_indices]))\n",
    "                    clusters_to_merge.append(clusters[i])\n",
    "                    check += (len(clusters_to_merge) - 1)\n",
    "                    #print((len(clusters_to_merge) - 1))\n",
    "                    #print(\"\\n\")\n",
    "\n",
    "                    # update cluster labels\n",
    "#                     clusters[np.where(np.in1d(clusters, clusters_to_merge))[0]] = clusters[i]\n",
    "                    #print(clusters_to_merge)\n",
    "\n",
    "                    for j in range(len(clusters_to_merge) - 1):\n",
    "                        clusterA = clusters_to_merge[j]\n",
    "                        clusterB = clusters_to_merge[j+1]\n",
    "                        num += 1\n",
    "                        #print(num)\n",
    "                        clusters[np.where(np.in1d(clusters, [clusterA, clusterB]))[0]] = num\n",
    "                        \n",
    "                        Z[num - 150, :] = np.array([clusterA, clusterB, r,\n",
    "                                                    len(np.where(np.in1d(clusters, num))[0])])\n",
    "                        \n",
    "                        clusters_to_merge[j:j+2] = 2*[num]\n",
    "                \n",
    "\n",
    "    # Step 4: update parameters and continue until unique_clusters == 1\n",
    "\n",
    "    unique_clusters = len(np.unique(clusters))\n",
    "    count += 1\n",
    "    height += 0.5\n",
    "\n",
    "    #increase r and decrease k\n",
    "    r *= A\n",
    "    k = int(np.round((d * C * np.sqrt(d)) / (2 * r)))\n",
    "    \n",
    "    print(unique_clusters, r, k)\n",
    "    print(clusters)\n",
    "    print('\\n')\n",
    "\n",
    "end = datetime.datetime.now()"
   ]
  },
  {
   "cell_type": "code",
   "execution_count": 602,
   "metadata": {},
   "outputs": [
    {
     "data": {
      "image/png": "[encoded data removed]",
      "text/plain": [
       "<matplotlib.figure.Figure at 0x11c117c18>"
      ]
     },
     "metadata": {},
     "output_type": "display_data"
    }
   ],
   "source": [
    "dendrogram(Z, color_threshold = 18)\n",
    "plt.gcf().set_size_inches(16, 8)\n",
    "plt.show();"
   ]
  },
  {
   "cell_type": "code",
   "execution_count": 581,
   "metadata": {},
   "outputs": [
    {
     "data": {
      "image/png": "[encoded data removed]",
      "text/plain": [
       "<matplotlib.figure.Figure at 0x117c8df60>"
      ]
     },
     "metadata": {},
     "output_type": "display_data"
    }
   ],
   "source": [
    "z = linkage(iris, method=\"single\")\n",
    "z\n",
    "\n",
    "dendrogram(z)\n",
    "plt.gcf().set_size_inches(16, 8)\n",
    "plt.show();"
   ]
  },
  {
   "cell_type": "code",
   "execution_count": 582,
   "metadata": {},
   "outputs": [
    {
     "data": {
      "text/plain": [
       "array([[  9.        ,  34.        ,   0.        ,   2.        ],\n",
       "       [ 37.        , 150.        ,   0.        ,   3.        ],\n",
       "       [101.        , 142.        ,   0.        ,   2.        ],\n",
       "       [  0.        ,  17.        ,   1.        ,   2.        ],\n",
       "       [  7.        ,  39.        ,   1.        ,   2.        ],\n",
       "       [ 10.        ,  48.        ,   1.        ,   2.        ],\n",
       "       [128.        , 132.        ,   1.        ,   2.        ],\n",
       "       [  4.        , 153.        ,   1.41421356,   3.        ],\n",
       "       [ 27.        , 157.        ,   1.41421356,   4.        ],\n",
       "       [ 28.        , 158.        ,   1.41421356,   5.        ],\n",
       "       [154.        , 159.        ,   1.41421356,   7.        ],\n",
       "       [ 40.        , 160.        ,   1.41421356,   8.        ],\n",
       "       [ 49.        , 161.        ,   1.41421356,   9.        ],\n",
       "       [ 29.        ,  30.        ,   1.41421356,   2.        ],\n",
       "       [  3.        ,  47.        ,   1.41421356,   2.        ],\n",
       "       [  2.        , 164.        ,   1.41421356,   3.        ],\n",
       "       [  1.        ,  12.        ,   1.41421356,   2.        ],\n",
       "       [ 45.        , 166.        ,   1.41421356,   3.        ],\n",
       "       [  8.        ,  38.        ,   1.41421356,   2.        ],\n",
       "       [ 19.        ,  21.        ,   1.41421356,   2.        ],\n",
       "       [ 46.        , 169.        ,   1.41421356,   3.        ],\n",
       "       [ 57.        ,  93.        ,   1.41421356,   2.        ],\n",
       "       [ 80.        ,  81.        ,   1.41421356,   2.        ],\n",
       "       [ 82.        ,  92.        ,   1.41421356,   2.        ],\n",
       "       [ 96.        ,  99.        ,   1.41421356,   2.        ],\n",
       "       [ 95.        , 174.        ,   1.41421356,   3.        ],\n",
       "       [ 63.        ,  91.        ,   1.41421356,   2.        ],\n",
       "       [ 65.        ,  75.        ,   1.41421356,   2.        ],\n",
       "       [116.        , 137.        ,   1.41421356,   2.        ],\n",
       "       [127.        , 138.        ,   1.41421356,   2.        ],\n",
       "       [163.        , 165.        ,   1.73205081,   5.        ],\n",
       "       [151.        , 180.        ,   1.73205081,   8.        ],\n",
       "       [167.        , 181.        ,   1.73205081,  11.        ],\n",
       "       [ 69.        , 172.        ,   1.73205081,   3.        ],\n",
       "       [ 88.        , 175.        ,   1.73205081,   4.        ],\n",
       "       [ 94.        , 184.        ,   1.73205081,   5.        ],\n",
       "       [112.        , 139.        ,   1.73205081,   2.        ],\n",
       "       [123.        , 126.        ,   1.73205081,   2.        ],\n",
       "       [ 23.        ,  26.        ,   2.        ,   2.        ],\n",
       "       [ 25.        , 182.        ,   2.        ,  12.        ],\n",
       "       [ 42.        , 168.        ,   2.        ,   3.        ],\n",
       "       [ 53.        ,  89.        ,   2.        ,   2.        ],\n",
       "       [ 66.        ,  84.        ,   2.        ,   2.        ],\n",
       "       [ 78.        , 176.        ,   2.        ,   3.        ],\n",
       "       [ 74.        ,  97.        ,   2.        ,   2.        ],\n",
       "       [ 11.        , 162.        ,   2.23606798,  10.        ],\n",
       "       [188.        , 195.        ,   2.23606798,  12.        ],\n",
       "       [189.        , 196.        ,   2.23606798,  24.        ],\n",
       "       [  6.        , 197.        ,   2.23606798,  25.        ],\n",
       "       [ 35.        , 198.        ,   2.23606798,  26.        ],\n",
       "       [190.        , 199.        ,   2.23606798,  29.        ],\n",
       "       [ 43.        , 200.        ,   2.23606798,  30.        ],\n",
       "       [155.        , 201.        ,   2.23606798,  32.        ],\n",
       "       [ 73.        , 193.        ,   2.23606798,   4.        ],\n",
       "       [110.        , 147.        ,   2.23606798,   2.        ],\n",
       "       [120.        , 143.        ,   2.23606798,   2.        ],\n",
       "       [ 70.        , 179.        ,   2.23606798,   3.        ],\n",
       "       [ 13.        , 202.        ,   2.44948974,  33.        ],\n",
       "       [170.        , 207.        ,   2.44948974,  36.        ],\n",
       "       [183.        , 191.        ,   2.44948974,   5.        ],\n",
       "       [ 67.        , 173.        ,   2.44948974,   3.        ],\n",
       "       [ 58.        , 177.        ,   2.44948974,   3.        ],\n",
       "       [ 54.        , 211.        ,   2.44948974,   4.        ],\n",
       "       [103.        , 178.        ,   2.44948974,   3.        ],\n",
       "       [140.        , 144.        ,   2.44948974,   2.        ],\n",
       "       [141.        , 145.        ,   2.44948974,   2.        ],\n",
       "       [136.        , 148.        ,   2.44948974,   2.        ],\n",
       "       [146.        , 187.        ,   2.44948974,   3.        ],\n",
       "       [206.        , 217.        ,   2.44948974,   6.        ],\n",
       "       [209.        , 210.        ,   2.64575131,   8.        ],\n",
       "       [185.        , 219.        ,   2.64575131,  13.        ],\n",
       "       [ 90.        , 220.        ,   2.64575131,  14.        ],\n",
       "       [194.        , 212.        ,   2.64575131,   6.        ],\n",
       "       [ 51.        ,  56.        ,   2.64575131,   2.        ],\n",
       "       [ 50.        ,  52.        ,   2.64575131,   2.        ],\n",
       "       [205.        , 214.        ,   2.64575131,   4.        ],\n",
       "       [113.        , 152.        ,   2.64575131,   3.        ],\n",
       "       [107.        , 130.        ,   2.64575131,   2.        ],\n",
       "       [ 68.        ,  87.        ,   2.64575131,   2.        ],\n",
       "       [105.        , 122.        ,   2.64575131,   2.        ],\n",
       "       [ 20.        ,  31.        ,   2.82842712,   2.        ],\n",
       "       [ 86.        , 224.        ,   2.82842712,   3.        ],\n",
       "       [149.        , 218.        ,   2.82842712,   7.        ],\n",
       "       [208.        , 230.        ,   3.        ,  38.        ],\n",
       "       [ 24.        , 233.        ,   3.        ,  39.        ],\n",
       "       [ 36.        , 234.        ,   3.        ,  40.        ],\n",
       "       [ 61.        , 221.        ,   3.        ,  15.        ],\n",
       "       [ 55.        , 192.        ,   3.        ,   3.        ],\n",
       "       [104.        , 156.        ,   3.        ,   3.        ],\n",
       "       [124.        , 225.        ,   3.        ,   5.        ],\n",
       "       [115.        , 216.        ,   3.        ,   3.        ],\n",
       "       [236.        , 237.        ,   3.16227766,  18.        ],\n",
       "       [222.        , 223.        ,   3.16227766,   8.        ],\n",
       "       [ 76.        , 242.        ,   3.16227766,   9.        ],\n",
       "       [231.        , 243.        ,   3.16227766,  12.        ],\n",
       "       [ 77.        , 244.        ,   3.16227766,  13.        ],\n",
       "       [121.        , 226.        ,   3.16227766,   4.        ],\n",
       "       [  5.        ,  18.        ,   3.31662479,   2.        ],\n",
       "       [203.        , 241.        ,   3.31662479,  22.        ],\n",
       "       [ 71.        , 245.        ,   3.31662479,  14.        ],\n",
       "       [213.        , 238.        ,   3.31662479,   6.        ],\n",
       "       [232.        , 246.        ,   3.31662479,  11.        ],\n",
       "       [ 83.        , 133.        ,   3.31662479,   2.        ],\n",
       "       [235.        , 247.        ,   3.46410162,  42.        ],\n",
       "       [ 16.        , 253.        ,   3.46410162,  43.        ],\n",
       "       [ 32.        , 254.        ,   3.46410162,  44.        ],\n",
       "       [ 33.        , 255.        ,   3.46410162,  45.        ],\n",
       "       [248.        , 249.        ,   3.46410162,  36.        ],\n",
       "       [ 79.        , 257.        ,   3.46410162,  37.        ],\n",
       "       [111.        , 204.        ,   3.46410162,   3.        ],\n",
       "       [186.        , 239.        ,   3.46410162,   7.        ],\n",
       "       [125.        , 129.        ,   3.46410162,   2.        ],\n",
       "       [ 15.        , 256.        ,   3.60555128,  46.        ],\n",
       "       [ 44.        , 262.        ,   3.60555128,  47.        ],\n",
       "       [ 60.        , 171.        ,   3.60555128,   3.        ],\n",
       "       [250.        , 259.        ,   3.60555128,   9.        ],\n",
       "       [260.        , 265.        ,   3.60555128,  16.        ],\n",
       "       [215.        , 266.        ,   3.60555128,  18.        ],\n",
       "       [ 72.        , 251.        ,   3.60555128,  12.        ],\n",
       "       [252.        , 268.        ,   3.60555128,  14.        ],\n",
       "       [ 85.        , 258.        ,   3.74165739,  38.        ],\n",
       "       [240.        , 267.        ,   3.74165739,  21.        ],\n",
       "       [269.        , 271.        ,   3.74165739,  35.        ],\n",
       "       [ 98.        , 264.        ,   3.87298335,   4.        ],\n",
       "       [ 59.        , 270.        ,   3.87298335,  39.        ],\n",
       "       [102.        , 261.        ,   3.87298335,   3.        ],\n",
       "       [272.        , 275.        ,   4.        ,  38.        ],\n",
       "       [ 14.        , 263.        ,   4.12310563,  48.        ],\n",
       "       [274.        , 276.        ,   4.12310563,  77.        ],\n",
       "       [118.        , 229.        ,   4.12310563,   3.        ],\n",
       "       [117.        , 131.        ,   4.12310563,   2.        ],\n",
       "       [ 64.        , 278.        ,   4.24264069,  78.        ],\n",
       "       [100.        , 281.        ,   4.24264069,  79.        ],\n",
       "       [227.        , 282.        ,   4.35889894,  81.        ],\n",
       "       [119.        , 283.        ,   4.35889894,  82.        ],\n",
       "       [ 22.        , 277.        ,   4.58257569,  49.        ],\n",
       "       [ 62.        , 284.        ,   4.89897949,  83.        ],\n",
       "       [114.        , 286.        ,   4.89897949,  84.        ],\n",
       "       [228.        , 287.        ,   5.09901951,  86.        ],\n",
       "       [279.        , 288.        ,   5.29150262,  89.        ],\n",
       "       [134.        , 289.        ,   5.38516481,  90.        ],\n",
       "       [135.        , 290.        ,   5.38516481,  91.        ],\n",
       "       [108.        , 291.        ,   5.56776436,  92.        ],\n",
       "       [ 41.        , 285.        ,   6.244998  ,  50.        ],\n",
       "       [109.        , 292.        ,   6.32455532,  93.        ],\n",
       "       [273.        , 294.        ,   6.4807407 ,  97.        ],\n",
       "       [106.        , 295.        ,   7.34846923,  98.        ],\n",
       "       [280.        , 296.        ,   8.18535277, 100.        ],\n",
       "       [293.        , 297.        ,  16.40121947, 150.        ]])"
      ]
     },
     "execution_count": 582,
     "metadata": {},
     "output_type": "execute_result"
    }
   ],
   "source": [
    "z"
   ]
  },
  {
   "cell_type": "code",
   "execution_count": null,
   "metadata": {},
   "outputs": [],
   "source": []
  },
  {
   "cell_type": "code",
   "execution_count": null,
   "metadata": {},
   "outputs": [],
   "source": []
  },
  {
   "cell_type": "code",
   "execution_count": null,
   "metadata": {},
   "outputs": [],
   "source": []
  },
  {
   "cell_type": "code",
   "execution_count": null,
   "metadata": {},
   "outputs": [],
   "source": []
  },
  {
   "cell_type": "code",
   "execution_count": null,
   "metadata": {},
   "outputs": [],
   "source": []
  },
  {
   "cell_type": "code",
   "execution_count": null,
   "metadata": {},
   "outputs": [],
   "source": []
  },
  {
   "cell_type": "code",
   "execution_count": 596,
   "metadata": {},
   "outputs": [
    {
     "name": "stdout",
     "output_type": "stream",
     "text": [
      "0:00:03.139739\n"
     ]
    }
   ],
   "source": [
    "print(end-start)"
   ]
  },
  {
   "cell_type": "code",
   "execution_count": 87,
   "metadata": {},
   "outputs": [],
   "source": [
    "a = np.array([[48, 30, 14,  1], [48, 30, 14,  3], [49, 31, 15,  1]])"
   ]
  },
  {
   "cell_type": "code",
   "execution_count": 89,
   "metadata": {},
   "outputs": [
    {
     "data": {
      "text/plain": [
       "array([[48, 30, 14,  1],\n",
       "       [48, 30, 14,  3],\n",
       "       [49, 31, 15,  1]])"
      ]
     },
     "execution_count": 89,
     "metadata": {},
     "output_type": "execute_result"
    }
   ],
   "source": [
    "a.shape\n",
    "a"
   ]
  },
  {
   "cell_type": "code",
   "execution_count": 97,
   "metadata": {},
   "outputs": [
    {
     "data": {
      "text/plain": [
       "array([12, 45,  9, 34, 37])"
      ]
     },
     "execution_count": 97,
     "metadata": {},
     "output_type": "execute_result"
    }
   ],
   "source": [
    "b = get_point_indices(iris, a)\n",
    "b"
   ]
  },
  {
   "cell_type": "code",
   "execution_count": 93,
   "metadata": {},
   "outputs": [
    {
     "data": {
      "text/plain": [
       "array([[48., 30., 14.,  1.],\n",
       "       [48., 30., 14.,  3.],\n",
       "       [49., 31., 15.,  1.],\n",
       "       [49., 31., 15.,  1.],\n",
       "       [49., 31., 15.,  1.]])"
      ]
     },
     "execution_count": 93,
     "metadata": {},
     "output_type": "execute_result"
    }
   ],
   "source": [
    "iris[b]"
   ]
  },
  {
   "cell_type": "code",
   "execution_count": 100,
   "metadata": {},
   "outputs": [
    {
     "name": "stdout",
     "output_type": "stream",
     "text": [
      "[49. 31. 15.  1.] [49. 31. 15.  1.] [49. 31. 15.  1.]\n"
     ]
    }
   ],
   "source": [
    "print(iris[9,], iris[34,], iris[37,])"
   ]
  },
  {
   "cell_type": "code",
   "execution_count": 101,
   "metadata": {},
   "outputs": [],
   "source": [
    "e = np.array([])"
   ]
  },
  {
   "cell_type": "code",
   "execution_count": 109,
   "metadata": {},
   "outputs": [],
   "source": [
    "if  e.size:\n",
    "    print(\"hi\")"
   ]
  },
  {
   "cell_type": "code",
   "execution_count": null,
   "metadata": {},
   "outputs": [],
   "source": []
  },
  {
   "cell_type": "code",
   "execution_count": 142,
   "metadata": {},
   "outputs": [
    {
     "data": {
      "text/plain": [
       "0.0"
      ]
     },
     "execution_count": 142,
     "metadata": {},
     "output_type": "execute_result"
    }
   ],
   "source": [
    "np.min(iris)"
   ]
  },
  {
   "cell_type": "code",
   "execution_count": 189,
   "metadata": {},
   "outputs": [],
   "source": [
    "### Question 3b - Hierarchical Agglomerative Clustering\n",
    "# single-linkage clustering: https://en.wikipedia.org/wiki/Single-linkage_clustering\n",
    "\n",
    "def hac(k, data):\n",
    "    n = data.shape[0]\n",
    "    \n",
    "    # start with each point in its own cluster\n",
    "    clusters = np.arange(n)\n",
    "    unique_clusters = len(np.unique(clusters))\n",
    "    \n",
    "    while unique_clusters > k:\n",
    "        min_distances = np.zeros(n)\n",
    "        min_points = np.zeros(n).astype('int')\n",
    "\n",
    "        # for each point, find min distance to point not in cluster\n",
    "        for i in range(n):\n",
    "            point = data[i,]\n",
    "            point_cluster = clusters[i]\n",
    "            distances = np.linalg.norm(point - data, axis = 1)\n",
    "            diff_cluster_points = np.where(clusters != point_cluster)[0]\n",
    "\n",
    "            min_points[i] = diff_cluster_points[np.argmin(distances[diff_cluster_points])]\n",
    "            min_distances[i] = distances[min_points[i]]\n",
    "\n",
    "        # merge clusters of the two closest points\n",
    "        point1_idx = np.argmin(min_distances)\n",
    "        point1 = data[point1_idx,]\n",
    "        point2_idx = min_points[point1_idx]\n",
    "        point2 = data[point2_idx,]\n",
    "\n",
    "        point2_cluster = clusters[point2_idx]\n",
    "        clusters[np.where(clusters == point2_cluster)[0]] = clusters[point1_idx]\n",
    "\n",
    "        # update number of clusters\n",
    "        unique_clusters = len(np.unique(clusters))\n",
    "    \n",
    "    return clusters"
   ]
  },
  {
   "cell_type": "code",
   "execution_count": 590,
   "metadata": {},
   "outputs": [
    {
     "name": "stdout",
     "output_type": "stream",
     "text": [
      "0:00:00.561841\n"
     ]
    }
   ],
   "source": [
    "k = 2\n",
    "start = datetime.datetime.now()\n",
    "clusters_hac = hac(k, iris)\n",
    "end=datetime.datetime.now()\n",
    "print(end-start)"
   ]
  },
  {
   "cell_type": "code",
   "execution_count": 591,
   "metadata": {},
   "outputs": [
    {
     "data": {
      "text/plain": [
       "array([ 14,  14,  14,  14,  14,  14,  14,  14,  14,  14,  14,  14,  14,\n",
       "        14,  14,  14,  14,  14,  14,  14,  14,  14,  14,  14,  14,  14,\n",
       "        14,  14,  14,  14,  14,  14,  14,  14,  14,  14,  14,  14,  14,\n",
       "        14,  14,  14,  14,  14,  14,  14,  14,  14,  14,  14, 109, 109,\n",
       "       109, 109, 109, 109, 109, 109, 109, 109, 109, 109, 109, 109, 109,\n",
       "       109, 109, 109, 109, 109, 109, 109, 109, 109, 109, 109, 109, 109,\n",
       "       109, 109, 109, 109, 109, 109, 109, 109, 109, 109, 109, 109, 109,\n",
       "       109, 109, 109, 109, 109, 109, 109, 109, 109, 109, 109, 109, 109,\n",
       "       109, 109, 109, 109, 109, 109, 109, 109, 109, 109, 109, 109, 109,\n",
       "       109, 109, 109, 109, 109, 109, 109, 109, 109, 109, 109, 109, 109,\n",
       "       109, 109, 109, 109, 109, 109, 109, 109, 109, 109, 109, 109, 109,\n",
       "       109, 109, 109, 109, 109, 109, 109])"
      ]
     },
     "execution_count": 591,
     "metadata": {},
     "output_type": "execute_result"
    }
   ],
   "source": [
    "clusters_hac"
   ]
  },
  {
   "cell_type": "code",
   "execution_count": null,
   "metadata": {},
   "outputs": [],
   "source": []
  },
  {
   "cell_type": "code",
   "execution_count": null,
   "metadata": {},
   "outputs": [],
   "source": []
  },
  {
   "cell_type": "code",
   "execution_count": null,
   "metadata": {},
   "outputs": [],
   "source": []
  },
  {
   "cell_type": "code",
   "execution_count": null,
   "metadata": {},
   "outputs": [],
   "source": []
  },
  {
   "cell_type": "code",
   "execution_count": null,
   "metadata": {},
   "outputs": [],
   "source": []
  }
 ],
 "metadata": {
  "kernelspec": {
   "display_name": "IPython (Python 3)",
   "language": "python",
   "name": "python3"
  },
  "language_info": {
   "codemirror_mode": {
    "name": "ipython",
    "version": 3
   },
   "file_extension": ".py",
   "mimetype": "text/x-python",
   "name": "python",
   "nbconvert_exporter": "python",
   "pygments_lexer": "ipython3",
   "version": "3.6.1"
  }
 },
 "nbformat": 4,
 "nbformat_minor": 2
}
