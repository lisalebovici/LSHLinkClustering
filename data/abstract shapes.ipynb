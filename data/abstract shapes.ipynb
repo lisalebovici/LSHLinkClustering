{
 "cells": [
  {
   "cell_type": "code",
   "execution_count": 60,
   "metadata": {},
   "outputs": [],
   "source": [
    "import numpy as np\n",
    "import matplotlib.pyplot as plt\n",
    "import lshlink as lsh"
   ]
  },
  {
   "cell_type": "code",
   "execution_count": null,
   "metadata": {},
   "outputs": [],
   "source": [
    "##### EXPERIMENT 1 #####"
   ]
  },
  {
   "cell_type": "code",
   "execution_count": 119,
   "metadata": {},
   "outputs": [],
   "source": [
    "# generate linearly separable data\n",
    "\n",
    "np.random.seed(123)\n",
    "\n",
    "d1 = np.random.multivariate_normal(\n",
    "    mean = np.array([1, 1]),\n",
    "    cov = np.diag((0.01, 0.01)),\n",
    "    size = 20\n",
    ")\n",
    "\n",
    "d2 = np.random.multivariate_normal(\n",
    "    mean = np.array([2, 2]),\n",
    "    cov = np.diag((0.01, 0.01)),\n",
    "    size = 20\n",
    ")\n",
    "\n",
    "d3 = np.random.multivariate_normal(\n",
    "    mean = np.array([3, 3]),\n",
    "    cov = np.diag((0.01, 0.01)),\n",
    "    size = 20\n",
    ")\n",
    "\n",
    "d4 = np.random.multivariate_normal(\n",
    "    mean = np.array([2, 4]),\n",
    "    cov = np.diag((0.01, 0.01)),\n",
    "    size = 20\n",
    ")\n",
    "\n",
    "d5 = np.random.multivariate_normal(\n",
    "    mean = np.array([1, 5]),\n",
    "    cov = np.diag((0.01, 0.01)),\n",
    "    size = 20\n",
    ")\n",
    "\n",
    "\n",
    "d6 = np.random.multivariate_normal(\n",
    "    mean = np.array([6, 1]),\n",
    "    cov = np.diag((0.01, 0.01)),\n",
    "    size = 20\n",
    ")\n",
    "\n",
    "d7 = np.random.multivariate_normal(\n",
    "    mean = np.array([5, 2]),\n",
    "    cov = np.diag((0.01, 0.01)),\n",
    "    size = 20\n",
    ")\n",
    "\n",
    "d8 = np.random.multivariate_normal(\n",
    "    mean = np.array([4, 3]),\n",
    "    cov = np.diag((0.01, 0.01)),\n",
    "    size = 20\n",
    ")\n",
    "\n",
    "d9 = np.random.multivariate_normal(\n",
    "    mean = np.array([5, 4]),\n",
    "    cov = np.diag((0.01, 0.01)),\n",
    "    size = 20\n",
    ")\n",
    "\n",
    "d10 = np.random.multivariate_normal(\n",
    "    mean = np.array([6, 5]),\n",
    "    cov = np.diag((0.01, 0.01)),\n",
    "    size = 20\n",
    ")"
   ]
  },
  {
   "cell_type": "code",
   "execution_count": 120,
   "metadata": {},
   "outputs": [
    {
     "data": {
      "image/png": "[encoded data removed]",
      "text/plain": [
       "<matplotlib.figure.Figure at 0x112a0b160>"
      ]
     },
     "metadata": {},
     "output_type": "display_data"
    }
   ],
   "source": [
    "plt.scatter(d1[:, 0], d1[:, 1])\n",
    "plt.scatter(d2[:, 0], d2[:, 1])\n",
    "plt.scatter(d3[:, 0], d3[:, 1])\n",
    "plt.scatter(d4[:, 0], d4[:, 1])\n",
    "plt.scatter(d5[:, 0], d5[:, 1])\n",
    "plt.scatter(d6[:, 0], d6[:, 1])\n",
    "plt.scatter(d7[:, 0], d7[:, 1])\n",
    "plt.scatter(d8[:, 0], d8[:, 1])\n",
    "plt.scatter(d9[:, 0], d9[:, 1])\n",
    "plt.scatter(d10[:, 0], d10[:, 1])\n",
    "plt.axis('square')\n",
    "plt.ylim((0.5, 5.5))\n",
    "plt.gca().axes.get_xaxis().set_visible(False)\n",
    "plt.gca().axes.get_yaxis().set_visible(False)\n",
    "plt.show()"
   ]
  },
  {
   "cell_type": "code",
   "execution_count": 121,
   "metadata": {},
   "outputs": [],
   "source": [
    "data = np.round(np.concatenate((d1, d2, d3, d4, d5, d6, d7, d8, d9, d10), axis = 0) * 10)"
   ]
  },
  {
   "cell_type": "code",
   "execution_count": 148,
   "metadata": {},
   "outputs": [],
   "source": [
    "np.savetxt(\"tencircles.csv\", data, delimiter=\",\")"
   ]
  },
  {
   "cell_type": "code",
   "execution_count": 122,
   "metadata": {},
   "outputs": [],
   "source": [
    "clusters = lsh.LSHLink(data, 1.4, 10, 100, cutoff=10)"
   ]
  },
  {
   "cell_type": "code",
   "execution_count": 123,
   "metadata": {},
   "outputs": [],
   "source": [
    "g1 = np.where(clusters == np.unique(clusters)[0])[0]\n",
    "g2 = np.where(clusters == np.unique(clusters)[1])[0]\n",
    "g3 = np.where(clusters == np.unique(clusters)[2])[0]\n",
    "g4 = np.where(clusters == np.unique(clusters)[3])[0]\n",
    "g5 = np.where(clusters == np.unique(clusters)[4])[0]\n",
    "g6 = np.where(clusters == np.unique(clusters)[5])[0]\n",
    "g7 = np.where(clusters == np.unique(clusters)[6])[0]\n",
    "g8 = np.where(clusters == np.unique(clusters)[7])[0]\n",
    "g9 = np.where(clusters == np.unique(clusters)[8])[0]\n",
    "g10 = np.where(clusters == np.unique(clusters)[9])[0]"
   ]
  },
  {
   "cell_type": "code",
   "execution_count": 124,
   "metadata": {},
   "outputs": [
    {
     "data": {
      "image/png": "[encoded data removed]",
      "text/plain": [
       "<matplotlib.figure.Figure at 0x1129f59b0>"
      ]
     },
     "metadata": {},
     "output_type": "display_data"
    }
   ],
   "source": [
    "plt.scatter(data[g1,0], data[g1,1])\n",
    "plt.scatter(data[g2,0], data[g2,1])\n",
    "plt.scatter(data[g3,0], data[g3,1])\n",
    "plt.scatter(data[g4,0], data[g4,1])\n",
    "plt.scatter(data[g5,0], data[g5,1])\n",
    "plt.scatter(data[g6,0], data[g6,1])\n",
    "plt.scatter(data[g7,0], data[g7,1])\n",
    "plt.scatter(data[g8,0], data[g8,1])\n",
    "plt.scatter(data[g9,0], data[g9,1])\n",
    "plt.scatter(data[g10,0], data[g10,1])\n",
    "plt.axis('square')\n",
    "plt.ylim((5, 55))\n",
    "plt.gca().axes.get_xaxis().set_visible(False)\n",
    "plt.gca().axes.get_yaxis().set_visible(False)\n",
    "plt.show()"
   ]
  },
  {
   "cell_type": "code",
   "execution_count": 125,
   "metadata": {},
   "outputs": [],
   "source": [
    "##### EXPERIMENT 2 #####"
   ]
  },
  {
   "cell_type": "code",
   "execution_count": 126,
   "metadata": {},
   "outputs": [],
   "source": [
    "spirals = np.round(np.genfromtxt ('spirals.csv', delimiter=\",\")[1:, 1:] * 100)\n",
    "spirals += np.abs(np.min(spirals))"
   ]
  },
  {
   "cell_type": "code",
   "execution_count": 127,
   "metadata": {},
   "outputs": [
    {
     "data": {
      "text/plain": [
       "(300, 2)"
      ]
     },
     "execution_count": 127,
     "metadata": {},
     "output_type": "execute_result"
    }
   ],
   "source": [
    "spirals.shape"
   ]
  },
  {
   "cell_type": "code",
   "execution_count": 128,
   "metadata": {},
   "outputs": [],
   "source": [
    "clusters2 = lsh.LSHLink(spirals, 1.4, 10, 100, cutoff=2)"
   ]
  },
  {
   "cell_type": "code",
   "execution_count": 136,
   "metadata": {},
   "outputs": [
    {
     "data": {
      "text/plain": [
       "2"
      ]
     },
     "execution_count": 136,
     "metadata": {},
     "output_type": "execute_result"
    }
   ],
   "source": [
    "len(np.unique(clusters2))"
   ]
  },
  {
   "cell_type": "code",
   "execution_count": 130,
   "metadata": {},
   "outputs": [],
   "source": [
    "a1 = np.where(clusters2 == np.unique(clusters2)[0])[0]\n",
    "a2 = np.where(clusters2 == np.unique(clusters2)[1])[0]"
   ]
  },
  {
   "cell_type": "code",
   "execution_count": 131,
   "metadata": {},
   "outputs": [
    {
     "data": {
      "image/png": "[encoded data removed]",
      "text/plain": [
       "<matplotlib.figure.Figure at 0x1129c2160>"
      ]
     },
     "metadata": {},
     "output_type": "display_data"
    }
   ],
   "source": [
    "plt.scatter(spirals[a1,0], spirals[a1,1])\n",
    "plt.scatter(spirals[a2,0], spirals[a2,1])\n",
    "plt.axis('square')\n",
    "plt.ylim((0, 200))\n",
    "plt.gca().axes.get_xaxis().set_visible(False)\n",
    "plt.gca().axes.get_yaxis().set_visible(False)\n",
    "plt.show()"
   ]
  },
  {
   "cell_type": "code",
   "execution_count": 132,
   "metadata": {},
   "outputs": [],
   "source": [
    "##### EXPERIMENT 3 #####"
   ]
  },
  {
   "cell_type": "code",
   "execution_count": 133,
   "metadata": {},
   "outputs": [],
   "source": [
    "smiley = np.round(np.genfromtxt ('smiley.csv', delimiter=\",\")[1:, 1:] * 100)\n",
    "smiley += np.abs(np.min(smiley))"
   ]
  },
  {
   "cell_type": "code",
   "execution_count": 134,
   "metadata": {},
   "outputs": [],
   "source": [
    "clusters3 = lsh.LSHLink(smiley, 1.4, 10, 100, cutoff=4)"
   ]
  },
  {
   "cell_type": "code",
   "execution_count": 135,
   "metadata": {},
   "outputs": [
    {
     "data": {
      "text/plain": [
       "4"
      ]
     },
     "execution_count": 135,
     "metadata": {},
     "output_type": "execute_result"
    }
   ],
   "source": [
    "len(np.unique(clusters3))"
   ]
  },
  {
   "cell_type": "code",
   "execution_count": 145,
   "metadata": {},
   "outputs": [],
   "source": [
    "b1 = np.where(clusters3 == np.unique(clusters3)[0])[0]\n",
    "b2 = np.where(clusters3 == np.unique(clusters3)[1])[0]\n",
    "b3 = np.where(clusters3 == np.unique(clusters3)[2])[0]\n",
    "b4 = np.where(clusters3 == np.unique(clusters3)[3])[0]"
   ]
  },
  {
   "cell_type": "code",
   "execution_count": 146,
   "metadata": {},
   "outputs": [
    {
     "data": {
      "image/png": "[encoded data removed]",
      "text/plain": [
       "<matplotlib.figure.Figure at 0x112a66c18>"
      ]
     },
     "metadata": {},
     "output_type": "display_data"
    }
   ],
   "source": [
    "plt.scatter(smiley[b1,0], smiley[b1,1])\n",
    "plt.scatter(smiley[b2,0], smiley[b2,1])\n",
    "plt.scatter(smiley[b3,0], smiley[b3,1])\n",
    "plt.scatter(smiley[b4,0], smiley[b4,1])\n",
    "plt.axis('square')\n",
    "#plt.ylim((0, 200))\n",
    "plt.gca().axes.get_xaxis().set_visible(False)\n",
    "plt.gca().axes.get_yaxis().set_visible(False)\n",
    "plt.show()"
   ]
  },
  {
   "cell_type": "code",
   "execution_count": null,
   "metadata": {},
   "outputs": [],
   "source": []
  }
 ],
 "metadata": {
  "kernelspec": {
   "display_name": "IPython (Python 3)",
   "language": "python",
   "name": "python3"
  },
  "language_info": {
   "codemirror_mode": {
    "name": "ipython",
    "version": 3
   },
   "file_extension": ".py",
   "mimetype": "text/x-python",
   "name": "python",
   "nbconvert_exporter": "python",
   "pygments_lexer": "ipython3",
   "version": "3.6.1"
  }
 },
 "nbformat": 4,
 "nbformat_minor": 2
}
