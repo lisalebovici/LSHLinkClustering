{
 "cells": [
  {
   "cell_type": "code",
   "execution_count": 196,
   "metadata": {},
   "outputs": [],
   "source": [
    "import numpy as np\n",
    "import matplotlib.pyplot as plt\n",
    "import lshlink as lsh\n",
    "from IPython.display import HTML"
   ]
  },
  {
   "cell_type": "code",
   "execution_count": 197,
   "metadata": {},
   "outputs": [
    {
     "data": {
      "text/html": [
       "<script>\n",
       "code_show=true; \n",
       "function code_toggle() {\n",
       " if (code_show){\n",
       " $('div.input').hide();\n",
       " } else {\n",
       " $('div.input').show();\n",
       " }\n",
       " code_show = !code_show\n",
       "} \n",
       "$( document ).ready(code_toggle);\n",
       "</script>\n",
       "The raw code for this IPython notebook is by default hidden for easier reading.\n",
       "To toggle on/off the raw code, click <a href=\"javascript:code_toggle()\">here</a>."
      ],
      "text/plain": [
       "<IPython.core.display.HTML object>"
      ]
     },
     "execution_count": 197,
     "metadata": {},
     "output_type": "execute_result"
    }
   ],
   "source": [
    "HTML('''<script>\n",
    "code_show=true; \n",
    "function code_toggle() {\n",
    " if (code_show){\n",
    " $('div.input').hide();\n",
    " } else {\n",
    " $('div.input').show();\n",
    " }\n",
    " code_show = !code_show\n",
    "} \n",
    "$( document ).ready(code_toggle);\n",
    "</script>\n",
    "The raw code for this IPython notebook is by default hidden for easier reading.\n",
    "To toggle on/off the raw code, click <a href=\"javascript:code_toggle()\">here</a>.''')"
   ]
  },
  {
   "cell_type": "code",
   "execution_count": null,
   "metadata": {},
   "outputs": [],
   "source": [
    "##### EXPERIMENT 1 #####"
   ]
  },
  {
   "cell_type": "code",
   "execution_count": 119,
   "metadata": {},
   "outputs": [],
   "source": [
    "# generate linearly separable data\n",
    "\n",
    "np.random.seed(123)\n",
    "\n",
    "d1 = np.random.multivariate_normal(\n",
    "    mean = np.array([1, 1]),\n",
    "    cov = np.diag((0.01, 0.01)),\n",
    "    size = 20\n",
    ")\n",
    "\n",
    "d2 = np.random.multivariate_normal(\n",
    "    mean = np.array([2, 2]),\n",
    "    cov = np.diag((0.01, 0.01)),\n",
    "    size = 20\n",
    ")\n",
    "\n",
    "d3 = np.random.multivariate_normal(\n",
    "    mean = np.array([3, 3]),\n",
    "    cov = np.diag((0.01, 0.01)),\n",
    "    size = 20\n",
    ")\n",
    "\n",
    "d4 = np.random.multivariate_normal(\n",
    "    mean = np.array([2, 4]),\n",
    "    cov = np.diag((0.01, 0.01)),\n",
    "    size = 20\n",
    ")\n",
    "\n",
    "d5 = np.random.multivariate_normal(\n",
    "    mean = np.array([1, 5]),\n",
    "    cov = np.diag((0.01, 0.01)),\n",
    "    size = 20\n",
    ")\n",
    "\n",
    "\n",
    "d6 = np.random.multivariate_normal(\n",
    "    mean = np.array([6, 1]),\n",
    "    cov = np.diag((0.01, 0.01)),\n",
    "    size = 20\n",
    ")\n",
    "\n",
    "d7 = np.random.multivariate_normal(\n",
    "    mean = np.array([5, 2]),\n",
    "    cov = np.diag((0.01, 0.01)),\n",
    "    size = 20\n",
    ")\n",
    "\n",
    "d8 = np.random.multivariate_normal(\n",
    "    mean = np.array([4, 3]),\n",
    "    cov = np.diag((0.01, 0.01)),\n",
    "    size = 20\n",
    ")\n",
    "\n",
    "d9 = np.random.multivariate_normal(\n",
    "    mean = np.array([5, 4]),\n",
    "    cov = np.diag((0.01, 0.01)),\n",
    "    size = 20\n",
    ")\n",
    "\n",
    "d10 = np.random.multivariate_normal(\n",
    "    mean = np.array([6, 5]),\n",
    "    cov = np.diag((0.01, 0.01)),\n",
    "    size = 20\n",
    ")"
   ]
  },
  {
   "cell_type": "code",
   "execution_count": 120,
   "metadata": {},
   "outputs": [
    {
     "data": {
      "image/png": "[encoded data removed]",
      "text/plain": [
       "<matplotlib.figure.Figure at 0x112a0b160>"
      ]
     },
     "metadata": {},
     "output_type": "display_data"
    }
   ],
   "source": [
    "plt.scatter(d1[:, 0], d1[:, 1])\n",
    "plt.scatter(d2[:, 0], d2[:, 1])\n",
    "plt.scatter(d3[:, 0], d3[:, 1])\n",
    "plt.scatter(d4[:, 0], d4[:, 1])\n",
    "plt.scatter(d5[:, 0], d5[:, 1])\n",
    "plt.scatter(d6[:, 0], d6[:, 1])\n",
    "plt.scatter(d7[:, 0], d7[:, 1])\n",
    "plt.scatter(d8[:, 0], d8[:, 1])\n",
    "plt.scatter(d9[:, 0], d9[:, 1])\n",
    "plt.scatter(d10[:, 0], d10[:, 1])\n",
    "plt.axis('square')\n",
    "plt.ylim((0.5, 5.5))\n",
    "plt.gca().axes.get_xaxis().set_visible(False)\n",
    "plt.gca().axes.get_yaxis().set_visible(False)\n",
    "plt.show()"
   ]
  },
  {
   "cell_type": "code",
   "execution_count": 121,
   "metadata": {},
   "outputs": [],
   "source": [
    "data = np.round(np.concatenate((d1, d2, d3, d4, d5, d6, d7, d8, d9, d10), axis = 0) * 10)"
   ]
  },
  {
   "cell_type": "code",
   "execution_count": 148,
   "metadata": {},
   "outputs": [],
   "source": [
    "np.savetxt(\"tencircles.csv\", data, delimiter=\",\")"
   ]
  },
  {
   "cell_type": "code",
   "execution_count": 122,
   "metadata": {},
   "outputs": [],
   "source": [
    "clusters = lsh.LSHLink(data, 1.4, 10, 100, cutoff=10)"
   ]
  },
  {
   "cell_type": "code",
   "execution_count": 123,
   "metadata": {},
   "outputs": [],
   "source": [
    "g1 = np.where(clusters == np.unique(clusters)[0])[0]\n",
    "g2 = np.where(clusters == np.unique(clusters)[1])[0]\n",
    "g3 = np.where(clusters == np.unique(clusters)[2])[0]\n",
    "g4 = np.where(clusters == np.unique(clusters)[3])[0]\n",
    "g5 = np.where(clusters == np.unique(clusters)[4])[0]\n",
    "g6 = np.where(clusters == np.unique(clusters)[5])[0]\n",
    "g7 = np.where(clusters == np.unique(clusters)[6])[0]\n",
    "g8 = np.where(clusters == np.unique(clusters)[7])[0]\n",
    "g9 = np.where(clusters == np.unique(clusters)[8])[0]\n",
    "g10 = np.where(clusters == np.unique(clusters)[9])[0]"
   ]
  },
  {
   "cell_type": "code",
   "execution_count": 124,
   "metadata": {},
   "outputs": [
    {
     "data": {
      "image/png": "[encoded data removed]",
      "text/plain": [
       "<matplotlib.figure.Figure at 0x1129f59b0>"
      ]
     },
     "metadata": {},
     "output_type": "display_data"
    }
   ],
   "source": [
    "plt.scatter(data[g1,0], data[g1,1])\n",
    "plt.scatter(data[g2,0], data[g2,1])\n",
    "plt.scatter(data[g3,0], data[g3,1])\n",
    "plt.scatter(data[g4,0], data[g4,1])\n",
    "plt.scatter(data[g5,0], data[g5,1])\n",
    "plt.scatter(data[g6,0], data[g6,1])\n",
    "plt.scatter(data[g7,0], data[g7,1])\n",
    "plt.scatter(data[g8,0], data[g8,1])\n",
    "plt.scatter(data[g9,0], data[g9,1])\n",
    "plt.scatter(data[g10,0], data[g10,1])\n",
    "plt.axis('square')\n",
    "plt.ylim((5, 55))\n",
    "plt.gca().axes.get_xaxis().set_visible(False)\n",
    "plt.gca().axes.get_yaxis().set_visible(False)\n",
    "plt.show()"
   ]
  },
  {
   "cell_type": "code",
   "execution_count": 125,
   "metadata": {},
   "outputs": [],
   "source": [
    "##### EXPERIMENT 2 #####"
   ]
  },
  {
   "cell_type": "code",
   "execution_count": 126,
   "metadata": {},
   "outputs": [],
   "source": [
    "spirals = np.round(np.genfromtxt('spirals.csv', delimiter=\",\")[1:, 1:] * 100)\n",
    "spirals += np.abs(np.min(spirals))"
   ]
  },
  {
   "cell_type": "code",
   "execution_count": 127,
   "metadata": {},
   "outputs": [
    {
     "data": {
      "text/plain": [
       "(300, 2)"
      ]
     },
     "execution_count": 127,
     "metadata": {},
     "output_type": "execute_result"
    }
   ],
   "source": [
    "spirals.shape"
   ]
  },
  {
   "cell_type": "code",
   "execution_count": 128,
   "metadata": {},
   "outputs": [],
   "source": [
    "clusters2 = lsh.LSHLink(spirals, 1.4, 10, 100, cutoff=2)"
   ]
  },
  {
   "cell_type": "code",
   "execution_count": 136,
   "metadata": {},
   "outputs": [
    {
     "data": {
      "text/plain": [
       "2"
      ]
     },
     "execution_count": 136,
     "metadata": {},
     "output_type": "execute_result"
    }
   ],
   "source": [
    "len(np.unique(clusters2))"
   ]
  },
  {
   "cell_type": "code",
   "execution_count": 130,
   "metadata": {},
   "outputs": [],
   "source": [
    "a1 = np.where(clusters2 == np.unique(clusters2)[0])[0]\n",
    "a2 = np.where(clusters2 == np.unique(clusters2)[1])[0]"
   ]
  },
  {
   "cell_type": "code",
   "execution_count": 131,
   "metadata": {},
   "outputs": [
    {
     "data": {
      "image/png": "[encoded data removed]",
      "text/plain": [
       "<matplotlib.figure.Figure at 0x1129c2160>"
      ]
     },
     "metadata": {},
     "output_type": "display_data"
    }
   ],
   "source": [
    "plt.scatter(spirals[a1,0], spirals[a1,1])\n",
    "plt.scatter(spirals[a2,0], spirals[a2,1])\n",
    "plt.axis('square')\n",
    "plt.ylim((0, 200))\n",
    "plt.gca().axes.get_xaxis().set_visible(False)\n",
    "plt.gca().axes.get_yaxis().set_visible(False)\n",
    "plt.show()"
   ]
  },
  {
   "cell_type": "code",
   "execution_count": 191,
   "metadata": {},
   "outputs": [],
   "source": [
    "def plot_clusters(raw, scale, A, k, l, cutoff):\n",
    "    data = np.round(raw * scale)\n",
    "    data += np.abs(np.min(data))\n",
    "    \n",
    "    clusters = lsh.LSHLink(data, A, k, l, cutoff=cutoff, seed1=5, seed2=6)\n",
    "    num_clusters = len(np.unique(clusters))\n",
    "    \n",
    "    for i in range(num_clusters):\n",
    "        x = np.where(clusters == np.unique(clusters)[i])[0]\n",
    "        plt.scatter(raw[x, 0], raw[x, 1])\n",
    "    plt.axis('square')\n",
    "    plt.gca().axes.get_xaxis().set_visible(False)\n",
    "    plt.gca().axes.get_yaxis().set_visible(False)\n",
    "    plt.show()\n",
    "    \n",
    "    return"
   ]
  },
  {
   "cell_type": "code",
   "execution_count": 236,
   "metadata": {},
   "outputs": [],
   "source": [
    "def plot_clusters(raw, cutoff, scale=1, linkage='LSH', **kwargs):\n",
    "    '''\n",
    "    Plots data into clusters using either locality-sensitive hashing\n",
    "    or single-linkage methods for agglomerative hierarchical clustering.\n",
    "    \n",
    "    -----------\n",
    "    Parameters:\n",
    "    -----------\n",
    "    raw (ndarray): d-dimensional array of size n\n",
    "    cutoff (int): for LSH, the minimum number of clusters to return;\n",
    "        for single-linkage, the precise number of clusters to return\n",
    "    scale (float): [optional] number to scale data, if necessary\n",
    "    linkage (string): specify either 'LSH' for locality-sensitive hashing\n",
    "        or 'single-linkage' for single-linkage method\n",
    "    A (float): increase ratio for r (must be > 1); required for LSH only\n",
    "    k (int): [number of sampled bits for hash function; required for LSH only\n",
    "    l (int): number of hash functions to compute; required for LSH only\n",
    "    seed1 (int): [optional] specify seed for sampled data in LSHLink() to calculate r,\n",
    "        if reproducibility is desired\n",
    "    seed2 (int): [optional] specify seed for sampling of hashed bits in LSHLink(),\n",
    "        if reproducibility is desired\n",
    "\n",
    "    --------\n",
    "    Returns:\n",
    "    --------\n",
    "    None\n",
    "    '''\n",
    "\n",
    "    valid = ('LSH', 'single')\n",
    "    if linkage not in valid:\n",
    "        raise ValueError('Linkage must be one of %s' % (valid,))\n",
    "\n",
    "    data = raw * scale\n",
    "    data += np.abs(np.min(data))\n",
    "\n",
    "    if linkage == 'LSH':\n",
    "        if not all(k in kwargs for k in ('A', 'k', 'l')):\n",
    "            raise KeyError(\"if linkage == 'LSH', must provide 'A', 'k', and 'l'\")\n",
    "\n",
    "        clusters = lsh.LSHLink(\n",
    "            data,\n",
    "            kwargs['A'],\n",
    "            kwargs['k'],\n",
    "            kwargs['l'],\n",
    "            cutoff=cutoff,\n",
    "            seed1=5,\n",
    "            seed2=6\n",
    "        )\n",
    "\n",
    "    else:\n",
    "        clusters = lsh.hac(\n",
    "            cutoff,\n",
    "            data\n",
    "        )\n",
    "\n",
    "    num_clusters = len(np.unique(clusters))\n",
    "    \n",
    "    for i in range(num_clusters):\n",
    "        x = np.where(clusters == np.unique(clusters)[i])[0]\n",
    "        plt.scatter(raw[x, 0], raw[x, 1])\n",
    "    plt.axis('square')\n",
    "    plt.gca().axes.get_xaxis().set_visible(False)\n",
    "    plt.gca().axes.get_yaxis().set_visible(False)\n",
    "    plt.show()\n",
    "    \n",
    "    return"
   ]
  },
  {
   "cell_type": "code",
   "execution_count": 249,
   "metadata": {},
   "outputs": [],
   "source": [
    "def plot_square(data):\n",
    "    plt.scatter(data[:, 0], data[:, 1])\n",
    "    plt.axis('square')\n",
    "    plt.gca().axes.get_xaxis().set_visible(False)\n",
    "    plt.gca().axes.get_yaxis().set_visible(False)\n",
    "    plt.show()\n",
    "    \n",
    "    return"
   ]
  },
  {
   "cell_type": "code",
   "execution_count": 250,
   "metadata": {},
   "outputs": [
    {
     "data": {
      "image/png": "[encoded data removed]",
      "text/plain": [
       "<matplotlib.figure.Figure at 0x10c7cdb00>"
      ]
     },
     "metadata": {},
     "output_type": "display_data"
    }
   ],
   "source": [
    "plot_square(tencircles)"
   ]
  },
  {
   "cell_type": "code",
   "execution_count": null,
   "metadata": {},
   "outputs": [],
   "source": []
  },
  {
   "cell_type": "code",
   "execution_count": 237,
   "metadata": {},
   "outputs": [
    {
     "data": {
      "image/png": "[encoded data removed]",
      "text/plain": [
       "<matplotlib.figure.Figure at 0x10ebace80>"
      ]
     },
     "metadata": {},
     "output_type": "display_data"
    }
   ],
   "source": [
    "tencircles = np.genfromtxt('tencircles.csv', delimiter=\",\")\n",
    "plot_clusters(tencircles, cutoff=10, scale=10, linkage='LSH', A=1.4, k=10, l=100)"
   ]
  },
  {
   "cell_type": "code",
   "execution_count": 238,
   "metadata": {},
   "outputs": [
    {
     "data": {
      "image/png": "[encoded data removed]",
      "text/plain": [
       "<matplotlib.figure.Figure at 0x10c81cdd8>"
      ]
     },
     "metadata": {},
     "output_type": "display_data"
    }
   ],
   "source": [
    "spirals = np.genfromtxt('spirals.csv', delimiter=\",\")[1:, 1:]\n",
    "plot_clusters(spirals, cutoff=2, scale=100, linkage='LSH', A=1.4, k=10, l=100)"
   ]
  },
  {
   "cell_type": "code",
   "execution_count": 239,
   "metadata": {},
   "outputs": [
    {
     "data": {
      "image/png": "[encoded data removed]",
      "text/plain": [
       "<matplotlib.figure.Figure at 0x10cc9e9e8>"
      ]
     },
     "metadata": {},
     "output_type": "display_data"
    }
   ],
   "source": [
    "plot_clusters(spirals, cutoff=2, scale=100, linkage='single')"
   ]
  },
  {
   "cell_type": "code",
   "execution_count": 3,
   "metadata": {},
   "outputs": [],
   "source": [
    "import numpy as np"
   ]
  },
  {
   "cell_type": "code",
   "execution_count": 5,
   "metadata": {},
   "outputs": [
    {
     "data": {
      "text/plain": [
       "array([[-7.34586828e-01,  1.01032728e+00],\n",
       "       [-8.71715719e-01,  9.67212767e-01],\n",
       "       [-9.07153190e-01,  9.96596064e-01],\n",
       "       [-7.91010057e-01,  9.51967918e-01],\n",
       "       [-6.65022504e-01,  9.51702185e-01],\n",
       "       [-6.48306650e-01,  1.06432555e+00],\n",
       "       [-6.97226086e-01,  1.05398826e+00],\n",
       "       [-9.45240570e-01,  1.11364763e+00],\n",
       "       [-6.97517266e-01,  9.17259870e-01],\n",
       "       [-9.21457189e-01,  8.11071100e-01],\n",
       "       [-8.06730030e-01,  1.00763110e+00],\n",
       "       [-6.84776793e-01,  1.03601289e+00],\n",
       "       [-8.50024988e-01,  1.01013756e+00],\n",
       "       [-6.78666449e-01,  9.65376630e-01],\n",
       "       [-6.57477381e-01,  9.69928581e-01],\n",
       "       [-6.60978447e-01,  9.41972193e-01],\n",
       "       [-6.59682021e-01,  1.09718202e+00],\n",
       "       [-7.62556206e-01,  9.40684983e-01],\n",
       "       [-8.17626901e-01,  1.09657075e+00],\n",
       "       [-8.22830682e-01,  7.65913836e-01],\n",
       "       [-7.44374239e-01,  1.02642996e+00],\n",
       "       [-7.68205360e-01,  1.06862564e+00],\n",
       "       [-8.90902215e-01,  1.12491171e+00],\n",
       "       [-9.24245626e-01,  1.09047869e+00],\n",
       "       [-6.89136550e-01,  1.02245110e+00],\n",
       "       [-8.66422947e-01,  9.17152309e-01],\n",
       "       [-8.24461878e-01,  9.87067116e-01],\n",
       "       [-9.42673138e-01,  1.03495607e+00],\n",
       "       [-8.07067443e-01,  9.86089945e-01],\n",
       "       [-6.83616310e-01,  1.16276660e+00],\n",
       "       [-9.32062891e-01,  9.58649539e-01],\n",
       "       [-8.34079773e-01,  1.09941630e+00],\n",
       "       [-8.09496362e-01,  1.03500893e+00],\n",
       "       [-8.00860404e-01,  1.12991605e+00],\n",
       "       [-7.98067128e-01,  9.98251190e-01],\n",
       "       [-8.31847240e-01,  9.62660382e-01],\n",
       "       [-6.77606250e-01,  1.03985867e+00],\n",
       "       [-7.56045738e-01,  8.94000925e-01],\n",
       "       [-7.55963072e-01,  1.17256658e+00],\n",
       "       [-9.13185148e-01,  1.06856695e+00],\n",
       "       [-7.18298055e-01,  9.72780702e-01],\n",
       "       [-8.35560214e-01,  1.06185860e+00],\n",
       "       [-7.44294939e-01,  8.94942942e-01],\n",
       "       [-7.29134793e-01,  1.02032004e+00],\n",
       "       [-7.01818535e-01,  8.41669876e-01],\n",
       "       [-8.84114031e-01,  8.82491966e-01],\n",
       "       [-8.06543934e-01,  9.90605951e-01],\n",
       "       [-9.33465984e-01,  8.03240294e-01],\n",
       "       [-8.39050770e-01,  1.07345998e+00],\n",
       "       [-8.47508519e-01,  1.03032200e+00],\n",
       "       [-8.89844584e-01,  1.18984026e+00],\n",
       "       [-5.89206283e-01,  1.00150137e+00],\n",
       "       [-7.73592707e-01,  1.03084059e+00],\n",
       "       [-6.74592401e-01,  9.67708313e-01],\n",
       "       [-7.63879970e-01,  1.00010515e+00],\n",
       "       [-8.97083004e-01,  1.01241013e+00],\n",
       "       [-8.39064865e-01,  1.03079260e+00],\n",
       "       [-8.38347302e-01,  1.09642987e+00],\n",
       "       [-8.24330220e-01,  9.81117488e-01],\n",
       "       [-8.22451083e-01,  1.12663185e+00],\n",
       "       [-7.72768689e-01,  8.21833894e-01],\n",
       "       [-9.00784769e-01,  9.87365321e-01],\n",
       "       [-6.25399698e-01,  9.66576570e-01],\n",
       "       [-8.63950498e-01,  9.76952204e-01],\n",
       "       [-8.76942127e-01,  9.87361006e-01],\n",
       "       [-6.42791768e-01,  8.46605566e-01],\n",
       "       [-7.44484753e-01,  1.11353364e+00],\n",
       "       [-8.39453026e-01,  1.02899075e+00],\n",
       "       [-6.52275497e-01,  1.00550799e+00],\n",
       "       [-6.05872158e-01,  1.00435127e+00],\n",
       "       [-6.53316086e-01,  1.02797660e+00],\n",
       "       [-7.22222371e-01,  8.68554035e-01],\n",
       "       [-7.81190242e-01,  8.98116745e-01],\n",
       "       [-8.50555285e-01,  9.98126842e-01],\n",
       "       [-7.78390758e-01,  8.82374562e-01],\n",
       "       [-8.42522855e-01,  1.17921979e+00],\n",
       "       [-8.85626036e-01,  1.02213884e+00],\n",
       "       [-7.78429832e-01,  9.19754609e-01],\n",
       "       [-7.90698257e-01,  1.16853978e+00],\n",
       "       [-8.56625968e-01,  9.27259095e-01],\n",
       "       [-8.06838463e-01,  1.22153978e+00],\n",
       "       [-9.79913384e-01,  9.81186682e-01],\n",
       "       [-8.57318358e-01,  9.48323785e-01],\n",
       "       [ 8.90119602e-01,  1.00178907e+00],\n",
       "       [ 8.63432268e-01,  1.06253524e+00],\n",
       "       [ 7.57904469e-01,  8.26615711e-01],\n",
       "       [ 8.23079443e-01,  1.04230708e+00],\n",
       "       [ 7.58197329e-01,  9.57978389e-01],\n",
       "       [ 9.40940929e-01,  1.07409023e+00],\n",
       "       [ 8.89471450e-01,  1.01193258e+00],\n",
       "       [ 7.27773016e-01,  9.02308820e-01],\n",
       "       [ 6.98287644e-01,  1.06081378e+00],\n",
       "       [ 8.92703482e-01,  1.02010185e+00],\n",
       "       [ 7.69237046e-01,  1.14731972e+00],\n",
       "       [ 8.96965579e-01,  9.43405942e-01],\n",
       "       [ 9.31548912e-01,  9.78497338e-01],\n",
       "       [ 7.14269839e-01,  9.29530482e-01],\n",
       "       [ 8.58583033e-01,  1.01011024e+00],\n",
       "       [ 7.36000882e-01,  9.47948874e-01],\n",
       "       [ 7.42887702e-01,  8.45700583e-01],\n",
       "       [ 8.51074164e-01,  1.00990471e+00],\n",
       "       [ 9.59597476e-01,  1.08056062e+00],\n",
       "       [ 8.85758471e-01,  1.08299930e+00],\n",
       "       [ 7.19869390e-01,  1.00261512e+00],\n",
       "       [ 6.50560536e-01,  1.00023531e+00],\n",
       "       [ 6.73394764e-01,  1.06391043e+00],\n",
       "       [ 9.37756069e-01,  1.03506632e+00],\n",
       "       [ 7.67616516e-01,  8.06024058e-01],\n",
       "       [ 9.19503364e-01,  9.93622550e-01],\n",
       "       [ 7.22238640e-01,  1.08233339e+00],\n",
       "       [ 8.12846763e-01,  8.11490139e-01],\n",
       "       [ 8.46667432e-01,  1.03994589e+00],\n",
       "       [ 9.08317229e-01,  8.92162270e-01],\n",
       "       [ 6.72263057e-01,  9.87582860e-01],\n",
       "       [ 8.40222185e-01,  1.02858057e+00],\n",
       "       [ 7.00180894e-01,  9.20351825e-01],\n",
       "       [ 7.27463974e-01,  9.69659689e-01],\n",
       "       [ 7.84927563e-01,  8.79448920e-01],\n",
       "       [ 8.27686288e-01,  1.07973525e+00],\n",
       "       [ 8.37666262e-01,  1.01384304e+00],\n",
       "       [ 7.68186870e-01,  1.00540243e+00],\n",
       "       [ 8.45405588e-01,  1.03028195e+00],\n",
       "       [ 8.78926354e-01,  1.18150049e+00],\n",
       "       [ 9.08456119e-01,  8.74863798e-01],\n",
       "       [ 7.97335289e-01,  1.10139160e+00],\n",
       "       [ 9.31788654e-01,  1.03587124e+00],\n",
       "       [ 6.11928927e-01,  1.01383061e+00],\n",
       "       [ 8.64942240e-01,  1.02339669e+00],\n",
       "       [ 6.90416873e-01,  9.74369712e-01],\n",
       "       [ 8.86963632e-01,  9.78728528e-01],\n",
       "       [ 7.27609102e-01,  1.07957888e+00],\n",
       "       [ 7.59470597e-01,  1.07252174e+00],\n",
       "       [ 8.67410175e-01,  1.07438535e+00],\n",
       "       [ 6.70851607e-01,  1.00369804e+00],\n",
       "       [ 8.52113615e-01,  1.18098819e+00],\n",
       "       [ 8.54380583e-01,  8.48205983e-01],\n",
       "       [ 7.84121199e-01,  1.08946161e+00],\n",
       "       [ 7.87038913e-01,  9.61786681e-01],\n",
       "       [ 8.58728295e-01,  1.05195578e+00],\n",
       "       [ 7.50774660e-01,  8.70536467e-01],\n",
       "       [ 6.83099512e-01,  9.12992379e-01],\n",
       "       [ 7.28650014e-01,  9.05414610e-01],\n",
       "       [ 9.51183817e-01,  9.22773972e-01],\n",
       "       [ 1.02069033e+00,  6.58279138e-01],\n",
       "       [ 8.03588424e-01,  1.00356928e+00],\n",
       "       [ 7.79682420e-01,  9.19253236e-01],\n",
       "       [ 7.59270854e-01,  8.48981266e-01],\n",
       "       [ 8.76313985e-01,  1.10328293e+00],\n",
       "       [ 7.80496629e-01,  1.10158982e+00],\n",
       "       [ 7.10842191e-01,  9.93313716e-01],\n",
       "       [ 7.71104709e-01,  9.05365080e-01],\n",
       "       [ 8.32718016e-01,  9.36522540e-01],\n",
       "       [ 7.03463681e-01,  9.69794335e-01],\n",
       "       [ 8.10320662e-01,  1.10213205e+00],\n",
       "       [ 8.49544229e-01,  7.91591805e-01],\n",
       "       [ 7.54913359e-01,  9.33971920e-01],\n",
       "       [ 7.39299934e-01,  1.05470518e+00],\n",
       "       [ 8.95983024e-01,  1.09913155e+00],\n",
       "       [ 9.04719089e-01,  9.77197362e-01],\n",
       "       [ 7.02958310e-01,  1.03407885e+00],\n",
       "       [ 9.30579702e-01,  1.20628396e+00],\n",
       "       [ 7.83424181e-01,  9.73528631e-01],\n",
       "       [ 7.62649988e-01,  9.71353448e-01],\n",
       "       [ 8.28928722e-01,  1.04035230e+00],\n",
       "       [ 8.08633282e-01,  1.07762450e+00],\n",
       "       [ 7.38368065e-01,  8.24915417e-01],\n",
       "       [-1.12317044e-01,  2.49577886e-01],\n",
       "       [-6.44511308e-02,  4.32880121e-01],\n",
       "       [-9.96591753e-03,  6.62608547e-01],\n",
       "       [ 8.29578092e-02,  5.33008392e-01],\n",
       "       [-1.33670340e-01,  2.08255121e-01],\n",
       "       [-1.70043662e-02,  5.97538488e-01],\n",
       "       [ 1.87695244e-01,  1.14277157e-02],\n",
       "       [-1.75111974e-01,  5.97098724e-02],\n",
       "       [-5.75395083e-02,  4.83619529e-01],\n",
       "       [-1.54608815e-01,  1.79004713e-01],\n",
       "       [ 8.11844273e-02,  5.03275662e-01],\n",
       "       [ 1.15698576e-01,  3.64369308e-01],\n",
       "       [ 2.31591981e-02,  4.65645292e-01],\n",
       "       [-1.35867354e-01,  1.11193096e-01],\n",
       "       [-8.82359256e-02,  3.92233009e-01],\n",
       "       [ 6.33097047e-02,  5.07249351e-01],\n",
       "       [ 1.22023693e-02,  3.98961621e-01],\n",
       "       [ 1.53607317e-01,  1.28766163e-01],\n",
       "       [ 7.95935835e-02,  5.88038092e-01],\n",
       "       [-2.76465390e-03,  5.33113526e-01],\n",
       "       [ 1.98755923e-02,  4.61272029e-01],\n",
       "       [-4.33551784e-02,  6.59491932e-01],\n",
       "       [ 2.69087056e-02,  6.05140110e-01],\n",
       "       [ 1.23208308e-01,  1.26290846e-01],\n",
       "       [-6.01643795e-02,  4.00021501e-01],\n",
       "       [-6.07083749e-02,  4.15902215e-01],\n",
       "       [-2.89455878e-02,  7.43492379e-01],\n",
       "       [ 2.62104937e-02,  5.99968923e-01],\n",
       "       [ 1.07617970e-01,  4.57749840e-02],\n",
       "       [ 5.97307951e-02,  6.19443735e-01],\n",
       "       [ 4.93916601e-02,  6.36929766e-01],\n",
       "       [-5.21062073e-02,  2.44546420e-01],\n",
       "       [-3.37527903e-02,  5.81599786e-01],\n",
       "       [ 3.79182144e-02,  5.63200404e-01],\n",
       "       [ 3.56112290e-02,  7.08196871e-01],\n",
       "       [ 1.76181831e-02,  7.17226125e-01],\n",
       "       [ 1.35086674e-01,  2.43230097e-02],\n",
       "       [ 1.61761280e-03,  1.09253575e-01],\n",
       "       [-4.60501766e-02,  3.46079614e-02],\n",
       "       [ 5.23579504e-02,  7.00846993e-01],\n",
       "       [-8.47292899e-02,  4.57745712e-01],\n",
       "       [-6.12794748e-02,  6.87153007e-01],\n",
       "       [ 1.42973666e-02,  1.43999887e-01],\n",
       "       [ 1.34380981e-01,  1.37186242e-01],\n",
       "       [-3.22219364e-02,  6.83329671e-01],\n",
       "       [ 5.55380843e-02,  6.78360349e-01],\n",
       "       [ 7.25973605e-02,  3.30483628e-01],\n",
       "       [ 9.10852257e-02,  3.06263716e-01],\n",
       "       [-2.41601452e-02,  4.67877372e-01],\n",
       "       [-7.40332575e-02,  3.92640624e-01],\n",
       "       [ 3.78837766e-02,  4.61241263e-01],\n",
       "       [ 3.02528546e-02,  5.83034509e-01],\n",
       "       [-1.18153511e-01,  3.63305623e-02],\n",
       "       [ 1.31924472e-03,  5.08276965e-02],\n",
       "       [ 4.98130353e-02,  4.68810736e-02],\n",
       "       [-7.91187814e-02,  5.67083641e-01],\n",
       "       [-4.37613473e-02,  3.94901797e-01],\n",
       "       [-1.30855762e-01,  1.95782047e-01],\n",
       "       [-4.25306519e-02,  7.37828425e-01],\n",
       "       [ 6.65687545e-02,  1.27036923e-01],\n",
       "       [-1.04819566e-02,  5.75532013e-01],\n",
       "       [ 1.49459992e-02,  5.79687315e-01],\n",
       "       [-4.70289734e-02,  3.52118174e-01],\n",
       "       [-6.70367568e-02,  3.02586432e-01],\n",
       "       [-6.60484957e-02,  6.36682694e-01],\n",
       "       [-3.47547900e-02,  7.48682138e-01],\n",
       "       [-4.07986336e-02,  6.57974377e-01],\n",
       "       [ 5.94846401e-03,  1.91250985e-01],\n",
       "       [-1.47959899e-02,  6.26339768e-01],\n",
       "       [ 1.40961286e-01,  2.24397338e-01],\n",
       "       [-7.58236454e-02,  5.54319271e-01],\n",
       "       [-9.45182828e-02,  3.22618396e-01],\n",
       "       [ 8.11284484e-02,  4.16254702e-01],\n",
       "       [-1.38058786e-01,  4.96270552e-02],\n",
       "       [-8.58114659e-03,  6.01509336e-01],\n",
       "       [ 5.05789144e-02,  2.45842149e-01],\n",
       "       [-5.67165577e-02,  4.18850288e-01],\n",
       "       [ 4.27677298e-02,  1.19755355e-01],\n",
       "       [ 7.31580883e-02,  2.72018071e-01],\n",
       "       [-1.96912094e-02,  5.65209898e-01],\n",
       "       [ 7.34606010e-02,  5.60735563e-01],\n",
       "       [ 5.52274272e-02,  3.39930391e-01],\n",
       "       [ 5.37446107e-02,  4.04908839e-01],\n",
       "       [-4.70123429e-02,  4.17135407e-01],\n",
       "       [ 1.01781123e-01,  4.53444374e-02],\n",
       "       [-6.07199490e-02,  5.62692129e-01],\n",
       "       [ 3.56216154e-02,  3.74684122e-01],\n",
       "       [-4.63827968e-02,  3.94605305e-01],\n",
       "       [ 1.10603642e-02,  5.90460155e-01],\n",
       "       [ 7.25667508e-03,  6.97136245e-01],\n",
       "       [ 1.32101158e-03,  7.30708470e-01],\n",
       "       [-1.19295479e-01,  1.78115232e-01],\n",
       "       [-4.28311546e-02,  2.41178102e-01],\n",
       "       [-7.02723019e-02,  1.30751961e-01],\n",
       "       [-8.60467893e-02,  3.23067630e-01],\n",
       "       [ 7.08896748e-02,  6.30537453e-01],\n",
       "       [ 1.33913442e-01,  1.55044259e-01],\n",
       "       [ 1.55716059e-01,  1.65572512e-01],\n",
       "       [-1.27017087e-01,  3.26678577e-01],\n",
       "       [ 6.44609421e-02,  3.16769251e-01],\n",
       "       [ 5.55315360e-02,  4.34370979e-01],\n",
       "       [-5.97938131e-02,  6.77806545e-01],\n",
       "       [ 6.84624998e-02,  5.54799073e-01],\n",
       "       [ 9.88842767e-02,  3.61180776e-01],\n",
       "       [ 1.96501961e-02,  6.30272935e-01],\n",
       "       [-1.23051656e-01,  1.05648675e-01],\n",
       "       [ 3.34116132e-02,  6.98046472e-01],\n",
       "       [ 5.94659725e-02,  6.93673043e-01],\n",
       "       [ 9.71342943e-04,  4.48615690e-01],\n",
       "       [ 4.84046808e-02,  6.79476637e-01],\n",
       "       [ 6.35165304e-02,  2.44684953e-01],\n",
       "       [-1.82853418e-02,  6.64143750e-01],\n",
       "       [ 2.39691293e-02,  2.75980387e-01],\n",
       "       [ 1.29775496e-01,  3.05671076e-01],\n",
       "       [ 1.12556347e-01,  4.06843907e-01],\n",
       "       [-1.11576477e-01,  9.72455632e-02],\n",
       "       [-1.00383994e-01,  2.35526789e-01],\n",
       "       [-1.17057712e-02,  4.56676834e-01],\n",
       "       [-7.64479625e-02,  6.02303475e-01],\n",
       "       [ 1.20182195e-01,  2.36767262e-01],\n",
       "       [ 1.81320644e-02,  5.64722858e-01],\n",
       "       [ 1.25921256e-01,  2.47065334e-02],\n",
       "       [ 1.65544950e-02,  9.91930811e-02],\n",
       "       [ 8.74484705e-02,  1.40429510e-01],\n",
       "       [-8.21555532e-02,  3.50401083e-02],\n",
       "       [-7.98312081e-01, -3.60902292e-01],\n",
       "       [-6.13789582e-01, -6.16077491e-01],\n",
       "       [ 7.53626546e-01, -4.67613162e-01],\n",
       "       [ 2.00495208e-01, -8.67549383e-01],\n",
       "       [ 2.73365241e-01, -9.23787764e-01],\n",
       "       [ 6.85571836e-01, -4.90074475e-01],\n",
       "       [-9.52169757e-01, -5.43578841e-02],\n",
       "       [-1.92012470e-02, -1.03325324e+00],\n",
       "       [ 5.89426502e-01, -6.03898253e-01],\n",
       "       [ 7.59948484e-01, -4.27509465e-01],\n",
       "       [ 7.32742661e-01, -5.02018506e-01],\n",
       "       [ 6.81928972e-01, -5.85882479e-01],\n",
       "       [-5.81340482e-01, -6.54035433e-01],\n",
       "       [ 6.79410598e-01, -5.33945892e-01],\n",
       "       [-3.27329555e-01, -9.21236030e-01],\n",
       "       [-7.43742299e-01, -4.42156815e-01],\n",
       "       [ 8.44784402e-01, -2.77179524e-01],\n",
       "       [-3.07849612e-01, -8.69060467e-01],\n",
       "       [ 6.27987371e-01, -5.47724264e-01],\n",
       "       [ 4.85534815e-01, -7.83655361e-01],\n",
       "       [ 4.73674874e-01, -7.74655402e-01],\n",
       "       [ 3.46427550e-01, -8.75296725e-01],\n",
       "       [ 1.20475881e-01, -1.02862413e+00],\n",
       "       [ 1.59087442e-01, -9.23411517e-01],\n",
       "       [-8.64812448e-02, -9.32603139e-01],\n",
       "       [ 2.19903941e-01, -1.01116992e+00],\n",
       "       [ 4.97293223e-01, -6.97585459e-01],\n",
       "       [ 1.55939596e-01, -9.65467664e-01],\n",
       "       [ 5.47457215e-01, -7.42123490e-01],\n",
       "       [-4.63855011e-01, -8.46233554e-01],\n",
       "       [-2.12943999e-01, -8.94147896e-01],\n",
       "       [ 5.72687748e-01, -6.03767530e-01],\n",
       "       [-5.71918365e-01, -6.13407504e-01],\n",
       "       [ 7.75310083e-01, -3.03901101e-01],\n",
       "       [-5.00840675e-02, -9.35919965e-01],\n",
       "       [ 1.85143503e-01, -1.00000622e+00],\n",
       "       [ 5.20551160e-01, -7.13810410e-01],\n",
       "       [ 3.57096595e-01, -8.23066568e-01],\n",
       "       [ 9.15261685e-01, -1.76277982e-01],\n",
       "       [ 8.51814227e-01, -2.82171317e-01],\n",
       "       [ 5.25119097e-01, -6.78046271e-01],\n",
       "       [ 6.57729742e-01, -6.02125695e-01],\n",
       "       [ 6.48215790e-01, -5.84515370e-01],\n",
       "       [-5.54450047e-01, -7.16422880e-01],\n",
       "       [-5.27757884e-01, -7.07814206e-01],\n",
       "       [-3.58362233e-01, -8.77642279e-01],\n",
       "       [-8.01681080e-01, -3.27559360e-01],\n",
       "       [-9.37327277e-03, -9.87398470e-01],\n",
       "       [-9.62996715e-01, -7.62461972e-02],\n",
       "       [ 7.27445076e-01, -4.26613666e-01],\n",
       "       [-3.00057112e-01, -1.01682384e+00],\n",
       "       [ 6.96515498e-01, -5.02026069e-01],\n",
       "       [ 3.03051732e-01, -9.76754469e-01],\n",
       "       [-2.37472079e-01, -9.49402211e-01],\n",
       "       [ 1.36324609e-01, -1.07429065e+00],\n",
       "       [-9.78333519e-01, -3.09499039e-02],\n",
       "       [ 3.09490446e-01, -8.99085737e-01],\n",
       "       [ 2.11670537e-01, -9.33486114e-01],\n",
       "       [ 1.51115499e-01, -1.02883669e+00],\n",
       "       [-6.51742872e-01, -5.30754278e-01],\n",
       "       [ 7.22168244e-01, -4.10045190e-01],\n",
       "       [ 3.99806454e-01, -8.14091226e-01],\n",
       "       [ 7.77937881e-01, -4.23055142e-01],\n",
       "       [-4.29592166e-01, -8.54755480e-01],\n",
       "       [ 4.96180327e-01, -7.29966405e-01],\n",
       "       [-3.75406582e-01, -8.79797781e-01],\n",
       "       [ 7.39743355e-01, -5.05080896e-01],\n",
       "       [ 2.60938552e-01, -9.61801628e-01],\n",
       "       [ 5.17236410e-01, -7.11568024e-01],\n",
       "       [-1.65459667e-01, -9.31028968e-01],\n",
       "       [ 4.79469655e-01, -8.63277835e-01],\n",
       "       [ 8.22415615e-01, -3.27729807e-01],\n",
       "       [-7.47221467e-01, -4.49190666e-01],\n",
       "       [-4.53512253e-01, -7.77944294e-01],\n",
       "       [ 9.13160888e-01, -1.71698969e-01],\n",
       "       [ 4.55838421e-01, -8.26942123e-01],\n",
       "       [ 3.14913270e-01, -9.29848937e-01],\n",
       "       [ 8.81445883e-02, -9.80180058e-01],\n",
       "       [-8.19639424e-01, -3.09262938e-01],\n",
       "       [-4.29917085e-01, -7.69288223e-01],\n",
       "       [-8.38936930e-01, -2.51227990e-01],\n",
       "       [ 1.00415992e-03, -9.89196589e-01],\n",
       "       [-6.92202180e-01, -5.13463407e-01],\n",
       "       [-7.40572823e-01, -4.08225891e-01],\n",
       "       [ 7.18827986e-01, -5.48807177e-01],\n",
       "       [-6.38087740e-01, -5.70433091e-01],\n",
       "       [-5.04270449e-01, -7.41735443e-01],\n",
       "       [-6.57138845e-01, -5.27397837e-01],\n",
       "       [ 3.95174957e-01, -8.31526629e-01],\n",
       "       [-8.10789583e-01, -2.80671037e-01],\n",
       "       [ 2.57650599e-01, -9.73963296e-01],\n",
       "       [ 4.42655767e-01, -8.83014218e-01],\n",
       "       [ 6.15359242e-01, -6.40212693e-01],\n",
       "       [ 3.69862795e-01, -8.51154401e-01],\n",
       "       [-9.73263061e-01, -1.13232758e-01],\n",
       "       [-4.06589370e-01, -8.29911366e-01],\n",
       "       [ 9.58352355e-01, -7.50883532e-02],\n",
       "       [ 4.70018394e-01, -7.99829014e-01],\n",
       "       [-1.99206795e-01, -1.00823816e+00],\n",
       "       [-4.15015868e-02, -9.58687590e-01],\n",
       "       [-3.04193618e-02, -9.57040754e-01],\n",
       "       [-9.74303575e-01,  1.96403995e-02],\n",
       "       [-7.14804395e-01, -4.74632929e-01],\n",
       "       [ 8.93767431e-01, -1.33189842e-01],\n",
       "       [-6.58796097e-01, -6.56113106e-01],\n",
       "       [-5.58328726e-02, -1.02708232e+00],\n",
       "       [ 3.27905172e-01, -8.97036661e-01],\n",
       "       [ 3.44850559e-01, -9.82428192e-01],\n",
       "       [ 9.30992804e-01, -1.36886901e-01],\n",
       "       [ 5.85874874e-01, -5.02841419e-01],\n",
       "       [-5.56979369e-01, -7.41037994e-01],\n",
       "       [ 5.17068913e-01, -7.03438094e-01],\n",
       "       [ 1.08877170e-01, -1.01995360e+00],\n",
       "       [ 6.14809836e-01, -5.42711973e-01],\n",
       "       [-2.32604142e-01, -1.02556572e+00],\n",
       "       [-1.69839273e-01, -8.51950690e-01],\n",
       "       [ 3.07631926e-01, -9.25559817e-01],\n",
       "       [-4.14382126e-01, -8.70091585e-01],\n",
       "       [-9.38892115e-01, -8.92119386e-02],\n",
       "       [ 4.27342691e-02, -1.05721688e+00],\n",
       "       [ 1.52521767e-01, -9.48933819e-01],\n",
       "       [-4.72948976e-01, -7.43099760e-01],\n",
       "       [-7.74055931e-01, -2.89372232e-01],\n",
       "       [-1.13935251e-01, -1.12940846e+00],\n",
       "       [ 2.90229306e-01, -1.04735643e+00],\n",
       "       [-3.16021403e-01, -9.10227921e-01],\n",
       "       [-4.88424551e-01, -7.31477657e-01],\n",
       "       [-1.06720405e-01, -1.01314127e+00],\n",
       "       [-7.30854844e-01, -4.88694006e-01],\n",
       "       [-1.56554225e-01, -9.73837369e-01],\n",
       "       [ 1.61896631e-01, -9.39545885e-01],\n",
       "       [ 4.76755517e-01, -7.93478225e-01],\n",
       "       [-7.63336917e-01, -2.67653273e-01],\n",
       "       [-1.06581319e-01, -1.05896779e+00],\n",
       "       [ 6.61863633e-01, -6.29527979e-01],\n",
       "       [-7.87170269e-01, -4.32970340e-01],\n",
       "       [ 4.52502590e-01, -7.84235740e-01],\n",
       "       [ 6.07526087e-01, -6.13128965e-01],\n",
       "       [ 3.92646386e-01, -8.94719307e-01],\n",
       "       [ 2.83121008e-01, -9.42698145e-01],\n",
       "       [-6.38167639e-02, -1.00651487e+00],\n",
       "       [-5.87835948e-01, -6.29139840e-01],\n",
       "       [ 9.34163965e-01, -1.21908498e-01],\n",
       "       [-4.27553743e-01, -7.90385546e-01],\n",
       "       [ 6.28413870e-02, -8.91497884e-01],\n",
       "       [ 7.39804056e-01, -4.79305857e-01],\n",
       "       [-6.59616801e-01, -5.84512083e-01],\n",
       "       [-1.07036407e-01, -1.03225911e+00],\n",
       "       [ 9.64914995e-01, -1.12226900e-01],\n",
       "       [-7.74754236e-01, -2.93746614e-01],\n",
       "       [-4.70663713e-01, -7.27492199e-01],\n",
       "       [ 3.54410359e-01, -9.24609347e-01],\n",
       "       [-3.76959313e-01, -8.90235772e-01],\n",
       "       [-9.85988188e-01,  1.13428094e-02],\n",
       "       [ 4.58078564e-01, -8.39167631e-01],\n",
       "       [-6.22353347e-01, -5.93689989e-01],\n",
       "       [ 2.90123333e-01, -8.06563941e-01],\n",
       "       [-2.80012667e-01, -9.66107325e-01],\n",
       "       [ 7.65570619e-01, -3.55520806e-01],\n",
       "       [ 2.23139809e-01, -9.65400260e-01],\n",
       "       [-6.77671006e-01, -6.38083607e-01],\n",
       "       [-2.89389871e-01, -9.30713592e-01],\n",
       "       [ 7.51484943e-01, -4.95184323e-01],\n",
       "       [-6.66966890e-01, -6.04462743e-01],\n",
       "       [-5.00118805e-01, -8.22885410e-01],\n",
       "       [-4.08192277e-01, -8.75307787e-01],\n",
       "       [-3.27495697e-01, -9.56669797e-01],\n",
       "       [ 5.53275213e-01, -6.42548072e-01],\n",
       "       [-6.10510209e-02, -1.00443122e+00],\n",
       "       [-3.06614899e-01, -1.01564342e+00],\n",
       "       [ 7.87826158e-01, -3.92891707e-01],\n",
       "       [-8.21349029e-01, -2.74465756e-01],\n",
       "       [-3.01257597e-01, -8.79572953e-01],\n",
       "       [-3.24286893e-01, -8.75817813e-01],\n",
       "       [-7.38834620e-01, -5.43030249e-01],\n",
       "       [-4.99662964e-01, -7.53644029e-01],\n",
       "       [ 2.38847795e-01, -9.46820819e-01],\n",
       "       [-1.82888145e-01, -8.76172425e-01],\n",
       "       [-6.96205275e-01, -5.86044836e-01],\n",
       "       [ 3.13226494e-01, -1.00443241e+00],\n",
       "       [ 5.64636487e-01, -6.51018412e-01],\n",
       "       [-1.94312148e-01, -1.01690039e+00],\n",
       "       [-9.51243281e-01, -1.17109598e-01],\n",
       "       [-8.77753654e-01, -2.49513037e-01],\n",
       "       [ 7.87072371e-01, -3.54628952e-01],\n",
       "       [ 2.48868155e-01, -1.03107468e+00],\n",
       "       [-8.01197956e-01, -3.39801261e-01],\n",
       "       [-7.17765943e-01, -4.70289430e-01],\n",
       "       [ 6.72738139e-01, -6.32612386e-01],\n",
       "       [ 5.63559332e-01, -7.26703971e-01],\n",
       "       [ 6.22228335e-01, -6.34103354e-01],\n",
       "       [-7.56146783e-01, -4.89904774e-01],\n",
       "       [ 7.05956674e-01, -5.21117779e-01],\n",
       "       [-5.02887219e-02, -9.43309397e-01],\n",
       "       [-4.42454191e-01, -7.58943811e-01],\n",
       "       [ 1.65500354e-01, -8.86300710e-01],\n",
       "       [ 8.69151032e-01, -2.35154799e-01],\n",
       "       [ 9.54693705e-02, -1.00347179e+00],\n",
       "       [-1.83507324e-01, -9.99590323e-01],\n",
       "       [-1.21866570e-01, -9.77352014e-01],\n",
       "       [ 1.08851869e-01, -9.36790384e-01],\n",
       "       [ 5.43879542e-01, -7.50547843e-01],\n",
       "       [-4.29547375e-01, -9.32435091e-01],\n",
       "       [ 6.51636999e-02, -1.01629966e+00],\n",
       "       [ 1.65891869e-01, -1.02778910e+00],\n",
       "       [ 9.02504319e-01, -1.81966742e-01],\n",
       "       [-5.78654019e-01, -6.00048153e-01],\n",
       "       [ 7.43000754e-02, -1.02682240e+00],\n",
       "       [ 7.58211391e-01, -4.53370195e-01]])"
      ]
     },
     "execution_count": 5,
     "metadata": {},
     "output_type": "execute_result"
    }
   ],
   "source": [
    "smiley = np.genfromtxt('smiley.csv', delimiter=\",\")[1:, 1:]\n",
    "smiley"
   ]
  },
  {
   "cell_type": "code",
   "execution_count": 4,
   "metadata": {},
   "outputs": [
    {
     "ename": "NameError",
     "evalue": "name 'plot_clusters' is not defined",
     "output_type": "error",
     "traceback": [
      "\u001b[0;31m---------------------------------------------------------------------------\u001b[0m",
      "\u001b[0;31mNameError\u001b[0m                                 Traceback (most recent call last)",
      "\u001b[0;32m<ipython-input-4-83249d00184d>\u001b[0m in \u001b[0;36m<module>\u001b[0;34m()\u001b[0m\n\u001b[1;32m      1\u001b[0m \u001b[0msmiley\u001b[0m \u001b[0;34m=\u001b[0m \u001b[0mnp\u001b[0m\u001b[0;34m.\u001b[0m\u001b[0mgenfromtxt\u001b[0m\u001b[0;34m(\u001b[0m\u001b[0;34m'smiley.csv'\u001b[0m\u001b[0;34m,\u001b[0m \u001b[0mdelimiter\u001b[0m\u001b[0;34m=\u001b[0m\u001b[0;34m\",\"\u001b[0m\u001b[0;34m)\u001b[0m\u001b[0;34m[\u001b[0m\u001b[0;36m1\u001b[0m\u001b[0;34m:\u001b[0m\u001b[0;34m,\u001b[0m \u001b[0;36m1\u001b[0m\u001b[0;34m:\u001b[0m\u001b[0;34m]\u001b[0m\u001b[0;34m\u001b[0m\u001b[0m\n\u001b[0;32m----> 2\u001b[0;31m \u001b[0mplot_clusters\u001b[0m\u001b[0;34m(\u001b[0m\u001b[0msmiley\u001b[0m\u001b[0;34m,\u001b[0m \u001b[0mcutoff\u001b[0m\u001b[0;34m=\u001b[0m\u001b[0;36m4\u001b[0m\u001b[0;34m,\u001b[0m \u001b[0mscale\u001b[0m\u001b[0;34m=\u001b[0m\u001b[0;36m100\u001b[0m\u001b[0;34m,\u001b[0m \u001b[0mlinkage\u001b[0m\u001b[0;34m=\u001b[0m\u001b[0;34m'LSH'\u001b[0m\u001b[0;34m,\u001b[0m \u001b[0mA\u001b[0m\u001b[0;34m=\u001b[0m\u001b[0;36m1.4\u001b[0m\u001b[0;34m,\u001b[0m \u001b[0mk\u001b[0m\u001b[0;34m=\u001b[0m\u001b[0;36m10\u001b[0m\u001b[0;34m,\u001b[0m \u001b[0ml\u001b[0m\u001b[0;34m=\u001b[0m\u001b[0;36m100\u001b[0m\u001b[0;34m)\u001b[0m\u001b[0;34m\u001b[0m\u001b[0m\n\u001b[0m",
      "\u001b[0;31mNameError\u001b[0m: name 'plot_clusters' is not defined"
     ]
    }
   ],
   "source": [
    "plot_clusters(smiley, cutoff=4, scale=100, linkage='LSH', A=1.4, k=10, l=100)"
   ]
  },
  {
   "cell_type": "code",
   "execution_count": 235,
   "metadata": {},
   "outputs": [
    {
     "data": {
      "text/plain": [
       "(200, 2)"
      ]
     },
     "execution_count": 235,
     "metadata": {},
     "output_type": "execute_result"
    }
   ],
   "source": [
    "tencircles.shape"
   ]
  },
  {
   "cell_type": "code",
   "execution_count": null,
   "metadata": {},
   "outputs": [],
   "source": []
  },
  {
   "cell_type": "code",
   "execution_count": 132,
   "metadata": {},
   "outputs": [],
   "source": [
    "##### EXPERIMENT 3 #####"
   ]
  },
  {
   "cell_type": "code",
   "execution_count": 133,
   "metadata": {},
   "outputs": [],
   "source": [
    "smiley = np.round(np.genfromtxt('smiley.csv', delimiter=\",\")[1:, 1:] * 100)\n",
    "smiley += np.abs(np.min(smiley))"
   ]
  },
  {
   "cell_type": "code",
   "execution_count": 134,
   "metadata": {},
   "outputs": [],
   "source": [
    "clusters3 = lsh.LSHLink(smiley, 1.4, 10, 100, cutoff=4)"
   ]
  },
  {
   "cell_type": "code",
   "execution_count": 135,
   "metadata": {},
   "outputs": [
    {
     "data": {
      "text/plain": [
       "4"
      ]
     },
     "execution_count": 135,
     "metadata": {},
     "output_type": "execute_result"
    }
   ],
   "source": [
    "len(np.unique(clusters3))"
   ]
  },
  {
   "cell_type": "code",
   "execution_count": 145,
   "metadata": {},
   "outputs": [],
   "source": [
    "b1 = np.where(clusters3 == np.unique(clusters3)[0])[0]\n",
    "b2 = np.where(clusters3 == np.unique(clusters3)[1])[0]\n",
    "b3 = np.where(clusters3 == np.unique(clusters3)[2])[0]\n",
    "b4 = np.where(clusters3 == np.unique(clusters3)[3])[0]"
   ]
  },
  {
   "cell_type": "code",
   "execution_count": 146,
   "metadata": {},
   "outputs": [
    {
     "data": {
      "image/png": "[encoded data removed]",
      "text/plain": [
       "<matplotlib.figure.Figure at 0x112a66c18>"
      ]
     },
     "metadata": {},
     "output_type": "display_data"
    }
   ],
   "source": [
    "plt.scatter(smiley[b1,0], smiley[b1,1])\n",
    "plt.scatter(smiley[b2,0], smiley[b2,1])\n",
    "plt.scatter(smiley[b3,0], smiley[b3,1])\n",
    "plt.scatter(smiley[b4,0], smiley[b4,1])\n",
    "plt.axis('square')\n",
    "#plt.ylim((0, 200))\n",
    "plt.gca().axes.get_xaxis().set_visible(False)\n",
    "plt.gca().axes.get_yaxis().set_visible(False)\n",
    "plt.show()"
   ]
  },
  {
   "cell_type": "code",
   "execution_count": null,
   "metadata": {},
   "outputs": [],
   "source": []
  },
  {
   "cell_type": "code",
   "execution_count": null,
   "metadata": {},
   "outputs": [],
   "source": []
  }
 ],
 "metadata": {
  "kernelspec": {
   "display_name": "IPython (Python 3)",
   "language": "python",
   "name": "python3"
  },
  "language_info": {
   "codemirror_mode": {
    "name": "ipython",
    "version": 3
   },
   "file_extension": ".py",
   "mimetype": "text/x-python",
   "name": "python",
   "nbconvert_exporter": "python",
   "pygments_lexer": "ipython3",
   "version": "3.6.1"
  }
 },
 "nbformat": 4,
 "nbformat_minor": 2
}
