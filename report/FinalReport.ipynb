{
 "cells": [
  {
   "cell_type": "markdown",
   "metadata": {},
   "source": [
    "# An Implementation of Fast Agglomerative Hierarchical Clustering Algorithm Using Locality-Sensitive Hashing by Walker Harrison and Lisa Lebovici (2018)"
   ]
  },
  {
   "cell_type": "markdown",
   "metadata": {},
   "source": [
    "## Abstract\n",
    "\n",
    "Agglomerative hierarchical clustering is a widely used clustering algorithm in which n data points are sequentially merged according to some distance metric from n clusters into a single cluster. While many different metrics exist to evaluate inter-cluster distance, single-linkage reigns among the most popular; according to this method, pairwise distances are computed between all points that do not share a cluster, and the clusters containing the two points with the shortest euclidean distance are joined in each iteration. However, single-linkage has some drawbacks, most noteworthy that it scales quadratically as data grows. As such, Koga, Ishibashi, and Watanbe propose using locality-sensitive hashing (hereafter LSH) as an approximation to the single-linkage method. Under LSH, points are hashed into buckets such that the distance from a given point p need only be computed to the subset of points with which it shares a bucket.\n",
    "\n",
    "In this paper, we implement locality-sensitive hashing as a linkage method for agglomerative hierarchical clustering, optimize the code with an emphasis on reducing the time complexity of the creation of the hash tables, and apply the algorithm to a variety of synthetic and real-world data sets.\n",
    "\n",
    "**Keywords**: agglomerative hierarchical clustering, locality-sensitive hashing, single-linkage, nearest neighbor search, dendrogram similarity, cophenetic correlation coefficient, unsupervised learning\n",
    "\n",
    "**Github link**: https://github.com/lisalebovici/LSHLinkClustering"
   ]
  },
  {
   "cell_type": "markdown",
   "metadata": {},
   "source": [
    "## Background\n",
    "\n",
    "With the growing ease in which data can be acquired in the modern age, techniques that can accurately represent this data are becoming increasingly important. In particular, unsupervised learning - that is, data which has no \"ground truth\" representation - finds itself at the center of many fields ranging from consumer marketing to computer vision to genetics. At its heart, the goal of unsupervised learning is pattern recognition. To this end, algorithms such as k-means and agglomerative hierarchical clustering have been sufficiently effective until now; but as the size of data continues to grow, scalability issues are becoming a bigger barrier to analysis and understanding.\n",
    "\n",
    "Koga et al.'s *Fast Agglomerative Hierarchical Clustering Algorithm Using Locality-Sensitive Hashing* provides a faster approximation to single-linkage hierarchical agglomerative clustering for large data, which has a run time complexity of $O(n^2)$. The single-linkage method requires that the distances from every point to all other points not in its cluster are calculated on every iteration (of which there are $n-1$ iterations in a size $n$ data set), which becomes prohibitively expensive. In contrast, the primary advantage of LSH is that it reduces the number of distances that need to be computed as well as the the number of iterations that need to run, resulting in a linear run time complexity $O(nB)$ (where $B$ is the maximum number of points in a single hash table).\n",
    "\n",
    "However, one consequence of the gain in run time is that LSH results in a coarser approximation of the data than single-linkage; while single-linkage necessarily creates clusters ranging from size $n$ to size $1$, LSH yields far fewer iterations of clusters. This granularity can be controlled by a parameter within the algorithm, but in general it is not expected to reproduce the single-linkage method exactly. Nonetheless, when granularity is not a primary concern, the improvements in terms of efficiency make it a worthwhile alternative.\n",
    "\n",
    "We will proceed by describing the implementation of LSH for hierarchical clustering."
   ]
  },
  {
   "cell_type": "markdown",
   "metadata": {},
   "source": [
    "## Description of Algorithm\n",
    "\n",
    "Some important notation will first be defined:\n",
    "\n",
    "- $n$: number of rows in data\n",
    "- $d$: dimension of data\n",
    "- $C$: least integer greater than the maximal coordinate value in the data\n",
    "- $\\ell$: number of hash functions\n",
    "- $k$: number of sampled bits from a hashed value\n",
    "- $r$: minimal distance between points required to merge clusters\n",
    "- $A$: increase ratio of r on each iteration\n",
    "\n",
    "LSH works in two primary phases: first, by creating a series of hash tables in which the data points are placed, and second, by computing the distances between a point and its \"similar\" points to determine which clusters should be merged.\n",
    "\n",
    "**Phase 1: Generation of hash tables**. Suppose we have a d-dimensional point $x$. A unary function is applied to each coordinate value of $x$ such that $x$ 1s are followed by $C-x$ 0s. The sequence of 1s and 0s for all coordinate values of $x$ are then joined to form the hashed point of $x$. Some number $k$ bits are then sampled without replacement from the hashed point. For example, if $x$ is the point $(2, 1, 3)$ and $C = 4$, the hashed point would be $\\underbrace{1100}_{2}\\underbrace{1000}_{1}\\underbrace{1110}_{3}$. If $k = 5$ and the indices $I = {5, 9, 2, 11, 8}$ are randomly sampled, then our resulting value would be $11110$. $x$ would thus be placed into the hash table for $11110$.\n",
    "\n",
    "This hash function is applied to all points, and a point is added to the corresponding hash table if no other point in its cluster is already present (that is to say, hash tables, are uniqued by cluster). Another set of $k$ indices $I$ is then randomly sampled and the resulting hash function is applied to all of the points. This procedure is repeated $\\ell$ times.\n",
    "\n",
    "The intuition behind this step is as follows: a point $s$ that is very similar to $x$ is likely to have a similar hash sequence to $x$ and therefore appear in many of the same hash tables as $x$. However, for any given hash, there is no guarantee; for example, for $s = (1, 1, 3)$, the hashed point would be $\\underbrace{1000}_{1}\\underbrace{1000}_{1}\\underbrace{1110}_{3}$ and the sampled value would be $11010$. In this cae, $s$ would not be in the same value as $x$ above. However, by applying $\\ell$ hash functions to the data, we have some certainty that if $s$ is really close to $x$, it will share at least one hash table.\n",
    "\n",
    "**Phase 2: Nearest neighbor search**. For each point $x$, we find all of the points that share at least one hash table with $x$ and are not currently in the same cluster as $x$. These are the similar points which are candidates to have their clusters merged with $x$'s cluster. The distances between $x$ and the similar points are computed, and for all points $p$ for which the euclidean distance between $x$ and $p$ is less than $r$, $p$'s clusters are merged with $x$'s cluster.\n",
    "\n",
    "If there is more than one cluster remaining after the merges, the values for $r$ and $k$ are updated and then phases 1 and 2 are repeated. $r$ is increased (we now consider points that are a slightly further distance away than previously to merge further-away clusters) and $k$ is decreased (so that the hashed values become shorter and therefore more common). This continues until all points are in the same cluster, at which point the algorithm terminates."
   ]
  },
  {
   "cell_type": "markdown",
   "metadata": {},
   "source": [
    "#### LSH-Link Algorithm"
   ]
  },
  {
   "cell_type": "markdown",
   "metadata": {},
   "source": [
    "> **Input:** Starting values for $\\ell$, $k$, and $A$\n",
    "\n",
    "> **Initialize**:\n",
    "\n",
    "> > **if** $n < 500$\n",
    "\n",
    "> > > sample $M = \\{\\sqrt{n}$ points from data}\n",
    "\n",
    "> > > $r = \\text{min dist}(p, q)$, where $p, q \\in M$\n",
    "\n",
    "> > **else**\n",
    "\n",
    "> > > $r = \\frac{d * C}{2 * (k + d)}\\sqrt{d}$\n",
    "\n",
    "> **while** num_clusters > 1:\n",
    "\n",
    "> > **for** $i = 1,..,\\ell$:\n",
    "\n",
    "> > > $unary_C(x) = \\underbrace{11...11}_{x}\\underbrace{00...00}_{C-x}$\n",
    "\n",
    "> > > sample $k$ bits from $unary_C(x)$\n",
    "\n",
    "> > > **if** $x$'s cluster is not in hash table:\n",
    "\n",
    "> > > > add $x$ to hash table\n",
    "\n",
    "> > > repeat for $n$ points\n",
    "\n",
    "> > **for** $p = 1,..,n$:\n",
    "\n",
    "> > > S = {set of points that share at least one hash table with $p$}\n",
    "\n",
    "> > > Q = {$q \\in S$ s.t. $\\text{dist}(p, q) < r$}\n",
    "\n",
    "> > > merge $Q$'s clusters with $p$'s cluster\n",
    "\n",
    "> > **if** num_clusters > 1:\n",
    "\n",
    "> > > $r = A*r$\n",
    "\n",
    "> > > $k = \\frac{d * C}{2 * r}\\sqrt{d}$"
   ]
  },
  {
   "cell_type": "markdown",
   "metadata": {},
   "source": [
    "## Performance Optimizations\n",
    "\n",
    "- multiprocessing or c++?"
   ]
  },
  {
   "cell_type": "markdown",
   "metadata": {},
   "source": [
    "The initial version of the LSH code can be found in *Appendix A*, and run time profiling for `build_hash_tables()` and `LSHLink()` is below, as well as a comparison to scipy's single-linkage hierarchical clustering and our own implementation of agglomerative hierarchical clustering.\n",
    "\n",
    "The three different functions were applied to an extended version of the *iris* data set; we built a set of 1,500 points based on the original 150 points with random noise added. As seen below, Scipy's implementation is clearly the superior method, running in an impressive 16.7 ms. Note that this is to be expected since a great deal of it is written in C.\n",
    "\n",
    "In comparison, our implementation of single-linkage hierarchical clustering, written purely in python but vectorized with numpy, ran in 2 minutes 41 seconds, while the locality-sensitive hashing version ran in 2 minutes 13 seconds. A plot in the *Applications to Simulated Data Sets* section below will show that the speed advantage for LSH vs. single-linkage does not necessarily hold for smaller data sets.\n",
    "\n",
    "Note from the profiling below that the vast majority of the run time in LSH is spent in `build_hash_tables()`; the code for nearest neighbor search and merging clusters is relatively trivial. The results show that of the 157 seconds spent running `LSHLink()`, 151 seconds were in `build_hash_tables()`. As such, nearly all of the optimization efforts were spent in speeding up the creation of the hash tables."
   ]
  },
  {
   "cell_type": "code",
   "execution_count": 42,
   "metadata": {},
   "outputs": [
    {
     "name": "stdout",
     "output_type": "stream",
     "text": [
      "16.7 ms ± 0 ns per loop (mean ± std. dev. of 1 run, 10 loops each)\n"
     ]
    }
   ],
   "source": [
    "%timeit -r1 linkage(iris, method = 'single')"
   ]
  },
  {
   "cell_type": "code",
   "execution_count": 4,
   "metadata": {
    "scrolled": true
   },
   "outputs": [
    {
     "name": "stdout",
     "output_type": "stream",
     "text": [
      "2min 41s ± 0 ns per loop (mean ± std. dev. of 1 run, 1 loop each)\n"
     ]
    }
   ],
   "source": [
    "%timeit -r1 hac(1, iris)"
   ]
  },
  {
   "cell_type": "code",
   "execution_count": 6,
   "metadata": {
    "scrolled": true
   },
   "outputs": [
    {
     "name": "stdout",
     "output_type": "stream",
     "text": [
      "2min 13s ± 0 ns per loop (mean ± std. dev. of 1 run, 1 loop each)\n"
     ]
    }
   ],
   "source": [
    "%timeit -r1 LSHLink(iris, A = 1.4, l = 10, k = 100)"
   ]
  },
  {
   "cell_type": "code",
   "execution_count": 7,
   "metadata": {},
   "outputs": [
    {
     "name": "stdout",
     "output_type": "stream",
     "text": [
      " \n",
      "*** Profile stats marshalled to file 'LSHLink.prof'. \n"
     ]
    }
   ],
   "source": [
    "%prun -q -D LSHLink.prof LSHLink(iris, A = 1.4, l = 10, k = 100)"
   ]
  },
  {
   "cell_type": "code",
   "execution_count": 15,
   "metadata": {},
   "outputs": [
    {
     "name": "stdout",
     "output_type": "stream",
     "text": [
      "Mon Apr 30 14:18:31 2018    LSHLink.prof\n",
      "\n",
      "         26039956 function calls in 157.957 seconds\n",
      "\n",
      "   Ordered by: internal time, cumulative time\n",
      "   List reduced from 60 to 1 due to restriction <'build_hash_tables'>\n",
      "\n",
      "   ncalls  tottime  percall  cumtime  percall filename:lineno(function)\n",
      "        7   11.719    1.674  151.201   21.600 <ipython-input-1-b260ed9440e0>:68(build_hash_tables)\n",
      "\n",
      "\n",
      "Mon Apr 30 14:18:31 2018    LSHLink.prof\n",
      "\n",
      "         26039956 function calls in 157.957 seconds\n",
      "\n",
      "   Ordered by: internal time, cumulative time\n",
      "   List reduced from 60 to 1 due to restriction <'LSHLink'>\n",
      "\n",
      "   ncalls  tottime  percall  cumtime  percall filename:lineno(function)\n",
      "        1    0.689    0.689  157.956  157.956 <ipython-input-1-b260ed9440e0>:93(LSHLink)\n",
      "\n",
      "\n"
     ]
    }
   ],
   "source": [
    "p = pstats.Stats('LSHLink.prof')\n",
    "p.sort_stats('time', 'cumulative').print_stats(\n",
    "    'build_hash_tables')\n",
    "p.sort_stats('time', 'cumulative').print_stats(\n",
    "    'LSHLink')\n",
    "pass"
   ]
  },
  {
   "cell_type": "markdown",
   "metadata": {},
   "source": [
    "The primary optimization in the second version of the code was caching the hash points using `lru_cache()` from `functools`. By storing the hashed unary values and point representations, `build_hash_tables()` only had to compute each point's hash value on the initial run, rather than on each iteration; this was possible since a point's unary representation remains the same for a given C value, and C does not change throughout the course of the code.\n",
    "\n",
    "The other optimization was to introduce more control logic into the nearest neighbor search. Specifically, additional \"if\" statements were added, such that if no points were found within distance $r$ of point $p$, that iteration of the `for` loop terminates rather than continuing on to attempt to find clusters that can be merged.\n",
    "\n",
    "These changes reduced the run time of LSH to around 20 seconds in our tests. Run times are shown below, and the full code is available in *Appendix B*."
   ]
  },
  {
   "cell_type": "code",
   "execution_count": 6,
   "metadata": {},
   "outputs": [
    {
     "name": "stdout",
     "output_type": "stream",
     "text": [
      "22 s ± 0 ns per loop (mean ± std. dev. of 1 run, 1 loop each)\n"
     ]
    }
   ],
   "source": [
    "%timeit -r1 LSHLink(iris, A = 1.4, l = 10, k = 100, seed1 = 12, seed2 = 6)"
   ]
  },
  {
   "cell_type": "code",
   "execution_count": 40,
   "metadata": {},
   "outputs": [
    {
     "name": "stdout",
     "output_type": "stream",
     "text": [
      " \n",
      "*** Profile stats marshalled to file 'LSHLink2.prof'. \n"
     ]
    }
   ],
   "source": [
    "%prun -q -D LSHLink2.prof LSHLink(iris, A = 1.4, l = 10, k = 100, seed1 = 12, seed2 = 6)"
   ]
  },
  {
   "cell_type": "code",
   "execution_count": 41,
   "metadata": {},
   "outputs": [
    {
     "name": "stdout",
     "output_type": "stream",
     "text": [
      "Mon Apr 30 17:11:59 2018    LSHLink2.prof\n",
      "\n",
      "         452355 function calls in 20.685 seconds\n",
      "\n",
      "   Ordered by: internal time, cumulative time\n",
      "   List reduced from 45 to 1 due to restriction <'build_hash_tables'>\n",
      "\n",
      "   ncalls  tottime  percall  cumtime  percall filename:lineno(function)\n",
      "        6   16.995    2.832   18.909    3.152 <ipython-input-37-8c500c6efc8a>:87(build_hash_tables)\n",
      "\n",
      "\n",
      "Mon Apr 30 17:11:59 2018    LSHLink2.prof\n",
      "\n",
      "         452355 function calls in 20.685 seconds\n",
      "\n",
      "   Ordered by: internal time, cumulative time\n",
      "   List reduced from 45 to 1 due to restriction <'LSHLink'>\n",
      "\n",
      "   ncalls  tottime  percall  cumtime  percall filename:lineno(function)\n",
      "        1    1.215    1.215   20.684   20.684 <ipython-input-37-8c500c6efc8a>:116(LSHLink)\n",
      "\n",
      "\n"
     ]
    }
   ],
   "source": [
    "p = pstats.Stats('LSHLink2.prof')\n",
    "p.sort_stats('time', 'cumulative').print_stats(\n",
    "    'build_hash_tables')\n",
    "p.sort_stats('time', 'cumulative').print_stats(\n",
    "    'LSHLink')\n",
    "pass"
   ]
  },
  {
   "cell_type": "code",
   "execution_count": null,
   "metadata": {},
   "outputs": [],
   "source": []
  },
  {
   "cell_type": "markdown",
   "metadata": {},
   "source": [
    "## Applications to Simulated Data Sets\n",
    "\n",
    "- more complicated synthetic data"
   ]
  },
  {
   "cell_type": "markdown",
   "metadata": {},
   "source": [
    "### Iris Data Set"
   ]
  },
  {
   "cell_type": "markdown",
   "metadata": {},
   "source": [
    "The algorithm was first applied to the *iris* data set, as in the paper by Koga et al, in an effort to reproduce their results. Below, we compare the dendrograms produced from running single-linkage hierarchical clustering with our implementation of LSH under two slightly different parameterizations. In both instances, we set initial values for $k$ and $\\ell$ to be 100 and 10, respectively. However, the first run of LSH has the increase ratio $A = 1.4$ while the second run has $A = 2.0$."
   ]
  },
  {
   "cell_type": "code",
   "execution_count": 3,
   "metadata": {},
   "outputs": [],
   "source": [
    "iris = datasets.load_iris().data * 10"
   ]
  },
  {
   "cell_type": "code",
   "execution_count": 4,
   "metadata": {},
   "outputs": [],
   "source": [
    "z = linkage(iris, method=\"single\")"
   ]
  },
  {
   "cell_type": "code",
   "execution_count": 12,
   "metadata": {},
   "outputs": [
    {
     "data": {
      "image/png": "[encoded data removed]",
      "text/plain": [
       "<matplotlib.figure.Figure at 0x10edae908>"
      ]
     },
     "metadata": {},
     "output_type": "display_data"
    }
   ],
   "source": [
    "dendrogram(z)\n",
    "plt.gcf().set_size_inches(12, 6)\n",
    "plt.title('Figure 1: Single-Linkage Hierarchical Clustering')\n",
    "plt.show();"
   ]
  },
  {
   "cell_type": "code",
   "execution_count": 7,
   "metadata": {},
   "outputs": [],
   "source": [
    "clusters, Z = LSHLink(iris, A = 1.4, l = 10, k = 100,\n",
    "                      dendrogram = True, seed1 = 12, seed2 = 6)"
   ]
  },
  {
   "cell_type": "code",
   "execution_count": 13,
   "metadata": {},
   "outputs": [
    {
     "data": {
      "image/png": "[encoded data removed]",
      "text/plain": [
       "<matplotlib.figure.Figure at 0x10fb3a320>"
      ]
     },
     "metadata": {},
     "output_type": "display_data"
    }
   ],
   "source": [
    "dendrogram(Z, color_threshold = 18)\n",
    "plt.gcf().set_size_inches(12, 6)\n",
    "plt.title('Figure 2: LSH-Link Hierarchical Clustering, A = 1.4')\n",
    "plt.show();"
   ]
  },
  {
   "cell_type": "code",
   "execution_count": 9,
   "metadata": {},
   "outputs": [],
   "source": [
    "clusters2, Z2 = LSHLink(iris, A = 2.0, l = 10, k = 100,\n",
    "                        dendrogram = True, seed1 = 12, seed2 = 6)"
   ]
  },
  {
   "cell_type": "code",
   "execution_count": 14,
   "metadata": {},
   "outputs": [
    {
     "data": {
      "image/png": "[encoded data removed]",
      "text/plain": [
       "<matplotlib.figure.Figure at 0x10fdec710>"
      ]
     },
     "metadata": {},
     "output_type": "display_data"
    }
   ],
   "source": [
    "dendrogram(Z2, color_threshold = 18)\n",
    "plt.gcf().set_size_inches(12, 6)\n",
    "plt.title('Figure 3: LSH-Link Hierarchical Clustering, A = 2.0')\n",
    "plt.show();"
   ]
  },
  {
   "cell_type": "markdown",
   "metadata": {},
   "source": [
    "As in the paper, we have confirmed that the members of the top two clusters match perfectly across all three implementations (note that the green cluster in *Figure 1* is equivalent to the red clusters in *Figure 2* and *Figure 3*). However, as expected, the increase in $A$ corresponds to a sparser dendrogram; the algorithm is now making bigger leaps in $r$ with each iteration, so it will merge a greater number of clusters at a given time. The height of the dendrogram shows us the point in time at which two clusters merged. For single-linkage, we see that there are n-1 unique merge times, which is indeed the behavior of the single-linkage method. Under LSH with $A = 1.4$, there are six iterations of cluster merges, while under LSH with $A = 2.0$ there are only four iterations until the data is fully merged. If a high level of preciseness is not needed, however, the graphs above show that LSH does give us a rough approximation of single-linkage."
   ]
  },
  {
   "cell_type": "markdown",
   "metadata": {},
   "source": [
    "- dendrogram similarity?"
   ]
  },
  {
   "cell_type": "markdown",
   "metadata": {},
   "source": [
    "In addition to analyzing accuracy between single-linkage and LSH, we must look at performance. To some extent, it is possible to control the run time for LSH by changing the initial parameters, particularly A. Setting a larger starting value for A will result in a coarser but quicker run, while a smaller value will provide a slower and finer approximation. The size of the data also plays a significant role. For small data sets, single-linkage can be equivalent to or even outperform LSH. This is due to the fact that LSH has non-trivial overhead in computing the hash tables for each iteration; when there are not many data points, it can be slower to calculate the hash values on each iteration than to just do $n - 1$ merges as in single-linkage. As the data set grows however, LSH scales linearly ($O(n)$)  while single-linkage scales quadratically ($O(n^2)$). This is when LSH becomes particularly useful, as long as a high degree of precision is not needed.\n",
    "\n",
    "Below, we show the run time in seconds on an enlarged *iris* data set (with noise added as mentioned above) on four different hierarchical clustering implementations: scipy's single-linkage, our implementation of single-linkage, LSH with $A = 1.4$, and LSH with $A = 2.0$. Due to prohibitive run times on our single-linkage implementation for large data sets, we have only shown up to 3,000 data points."
   ]
  },
  {
   "cell_type": "code",
   "execution_count": 7,
   "metadata": {},
   "outputs": [
    {
     "data": {
      "image/png": "[encoded data removed]",
      "text/plain": [
       "<matplotlib.figure.Figure at 0x107b65f28>"
      ]
     },
     "metadata": {},
     "output_type": "display_data"
    }
   ],
   "source": [
    "iris_run_times()"
   ]
  },
  {
   "cell_type": "markdown",
   "metadata": {},
   "source": [
    "Scipy is clearly orders of magnitude faster and is only shown above as an example of the theoretical possibility for LSH. For analysis purposes, we look at our custom implementation of single-linkage compared to LSH under the two different parameterizations $A = 1.4$ and $A = 2.0$. The single-linkage method clearly grows quadratically and performs relatively worse as the data size increases; on the other hand, LSH performs nearly linearly (we would expect that fully optimized code would have precisely linear run time). We observe that, although for small data sets LSH does not represent a necessary improvement, the gains in efficiency for larger data can be substantial."
   ]
  },
  {
   "cell_type": "markdown",
   "metadata": {},
   "source": [
    "### Synthetic Data of Abstract Shapes"
   ]
  },
  {
   "cell_type": "markdown",
   "metadata": {},
   "source": [
    "- tencircles\n",
    "- spirals\n",
    "- smiley"
   ]
  },
  {
   "cell_type": "markdown",
   "metadata": {},
   "source": [
    "## Applications to Real Data Sets\n",
    "\n",
    "- gene data from paper? (use pca to collapse to two dimensions and plot?)\n",
    "- find another data set"
   ]
  },
  {
   "cell_type": "markdown",
   "metadata": {},
   "source": [
    "## Comparative Analysis with Competing Algorithms\n",
    "\n",
    "- walker?\n",
    "\n",
    "LSH performs similarly well to single-linkage in terms of being able to identify highly non-spherical or long/thin patterns in data, which makes it somewhat more flexible compared to a method like k-means."
   ]
  },
  {
   "cell_type": "markdown",
   "metadata": {},
   "source": [
    "## Discussion / Conclusion\n",
    "\n",
    "- walker?"
   ]
  },
  {
   "cell_type": "markdown",
   "metadata": {},
   "source": [
    "## References / Bibliography"
   ]
  },
  {
   "cell_type": "markdown",
   "metadata": {},
   "source": [
    "## Appendices"
   ]
  },
  {
   "cell_type": "markdown",
   "metadata": {},
   "source": [
    "### Appendix A"
   ]
  },
  {
   "cell_type": "code",
   "execution_count": 23,
   "metadata": {},
   "outputs": [],
   "source": [
    "import numpy as np\n",
    "import matplotlib.pyplot as plt\n",
    "from collections import defaultdict\n",
    "from sklearn import datasets\n",
    "from scipy.spatial.distance import pdist\n",
    "from functools import reduce\n",
    "import datetime\n",
    "import pstats\n",
    "\n",
    "def data_extend(data, k):\n",
    "    r, c = data.shape\n",
    "    data_extend = (reduce(lambda x, y: np.vstack((x, y)),\n",
    "                          map(lambda x: data, range(k))) +\n",
    "                  np.random.randn(r*c*k).reshape(r*k, c).round(1))\n",
    "    return(data_extend)\n",
    "\n",
    "def hac(k, data):\n",
    "    n = data.shape[0]\n",
    "    \n",
    "    # start with each point in its own cluster\n",
    "    clusters = np.arange(n)\n",
    "    unique_clusters = len(np.unique(clusters))\n",
    "    \n",
    "    while unique_clusters > k:\n",
    "        min_distances = np.zeros(n)\n",
    "        min_points = np.zeros(n).astype('int')\n",
    "\n",
    "        # for each point, find min distance to point not in cluster\n",
    "        for i in range(n):\n",
    "            point = data[i,]\n",
    "            point_cluster = clusters[i]\n",
    "            distances = np.linalg.norm(point - data, axis = 1)\n",
    "            diff_cluster_points = np.where(clusters != point_cluster)[0]\n",
    "\n",
    "            min_points[i] = diff_cluster_points[\n",
    "                np.argmin(distances[diff_cluster_points])]\n",
    "            min_distances[i] = distances[min_points[i]]\n",
    "\n",
    "        # merge clusters of the two closest points\n",
    "        point1_idx = np.argmin(min_distances)\n",
    "        point1 = data[point1_idx,]\n",
    "        point2_idx = min_points[point1_idx]\n",
    "        point2 = data[point2_idx,]\n",
    "\n",
    "        point2_cluster = clusters[point2_idx]\n",
    "        clusters[\n",
    "            np.where(clusters == point2_cluster)[0]\n",
    "        ] = clusters[point1_idx]\n",
    "\n",
    "        # update number of clusters\n",
    "        unique_clusters = len(np.unique(clusters))\n",
    "    \n",
    "    return clusters\n",
    "\n",
    "def unary(x, C):\n",
    "    nearest_x = int(np.round(x))\n",
    "    return((np.r_[np.ones(nearest_x),\n",
    "                  np.zeros(C-nearest_x)]))\n",
    "\n",
    "def lsh_hash(point, C):\n",
    "    res = np.concatenate(list(map(lambda x: unary(x, C), point)))\n",
    "    return(res)\n",
    "\n",
    "def get_points_in_cluster(idx, clusters, data):\n",
    "    point_cluster = clusters[idx]\n",
    "    same_cluster_points_idx = np.where(\n",
    "        clusters == point_cluster\n",
    "    )[0]\n",
    "    same_cluster_points = set(\n",
    "        map(tuple, data[same_cluster_points_idx, :])\n",
    "    )\n",
    "    return same_cluster_points\n",
    "\n",
    "def get_point_indices(data, points):\n",
    "    indices = np.where((data == points[:,None]).all(-1))[1]\n",
    "    return indices\n",
    "\n",
    "def build_hash_tables(C, d, l, k, data, clusters):\n",
    "    vals = np.arange(C*d)\n",
    "    n = data.shape[0]\n",
    "    hash_tables = defaultdict(set)\n",
    "    hash_tables_reversed = defaultdict(set)\n",
    "\n",
    "    for i in range(l):\n",
    "        I = np.random.choice(vals, k, replace = False)\n",
    "\n",
    "        for j in range(n):\n",
    "            # for every point, generate hashed point\n",
    "            # and sample k bits\n",
    "            p = data[j]\n",
    "            hashed_point = lsh_hash(p, C)[I]\n",
    "            \n",
    "            # check if any other points in p's cluster are\n",
    "            # already in this hash table\n",
    "            # and only add point to hash table if no other\n",
    "            # points from its cluster are there\n",
    "            bucket = hash_tables[tuple(hashed_point)]\n",
    "            cluster_points = get_points_in_cluster(j, clusters, data)\n",
    "\n",
    "            if not cluster_points.intersection(bucket):\n",
    "                hash_tables[tuple(hashed_point)].add(tuple(p))\n",
    "                hash_tables_reversed[tuple(p)].add(tuple(hashed_point))\n",
    "    \n",
    "    return hash_tables, hash_tables_reversed\n",
    "\n",
    "def LSHLink(data, A, l, k, C = None, cutoff = 1):\n",
    "    # set default value for C if none is provided\n",
    "    if not C:\n",
    "        C = int(np.ceil(np.max(data))) + 1\n",
    "    \n",
    "    # initializations\n",
    "    n, d = data.shape\n",
    "    clusters = np.arange(n)\n",
    "    unique_clusters = len(np.unique(clusters))\n",
    "    num = n - 1\n",
    "    Z = np.zeros((n - 1, 4))\n",
    "    \n",
    "    # calculate r depending on n, either:\n",
    "    # 1. min dist from a random sample of sqrt(n) points\n",
    "    # 2. formula below\n",
    "    np.random.seed(12)\n",
    "    n_samp = int(np.ceil(np.sqrt(n)))\n",
    "    samples = data[np.random.choice(\n",
    "        n, size = n_samp, replace = False), :]\n",
    "    \n",
    "    if n < 500:\n",
    "        r = np.min(pdist(samples, 'euclidean'))\n",
    "    else:\n",
    "        r = (d * C * np.sqrt(d)) / (2 * (k + d))\n",
    "    \n",
    "    np.random.seed(6)\n",
    "    while unique_clusters > cutoff:\n",
    "        # STEP 1: Generation of hash tables\n",
    "        hash_tables, hash_tables_reversed = build_hash_tables(\n",
    "            C, d, l, k, data, clusters)\n",
    "\n",
    "        # STEP 2: Nearest neighbor search for p\n",
    "        for i in range(n):\n",
    "            # get all of those hash tables that contain point p\n",
    "            p = data[i]\n",
    "            p_hashes = hash_tables_reversed[tuple(p)]\n",
    "\n",
    "            # only proceed if p is in at least one hash table\n",
    "            if hash_tables_reversed[tuple(p)]:\n",
    "\n",
    "                # find all \"similar points\" to p: points that\n",
    "                # share at least one hash table with p, and are\n",
    "                # not in the same cluster as p\n",
    "                similar_points = reduce(\n",
    "                    lambda x, y: x.union(y),\n",
    "                    map(lambda x: hash_tables[x], p_hashes)\n",
    "                    ).difference(\n",
    "                    get_points_in_cluster(i, clusters, data)\n",
    "                )\n",
    "                similar_points = np.array(list(similar_points))\n",
    "\n",
    "                # STEP 3: Connect pairs of clusters within certain\n",
    "                # distance of p; only proceed if p has any similar points\n",
    "                if similar_points.size:\n",
    "\n",
    "                    # find similar points q s.t. dist(p, q) < r\n",
    "                    # the clusters containing these points will\n",
    "                    # be merged with p's cluster\n",
    "                    points_to_merge = similar_points[\n",
    "                        np.where(np.linalg.norm(\n",
    "                            p - similar_points, axis = 1\n",
    "                        ) < r)[0]\n",
    "                    ]\n",
    "\n",
    "                    # identify which clusters contain points_to_merge\n",
    "                    clusters_to_merge = clusters[np.where(\n",
    "                        (iris == points_to_merge[:,None]).all(-1)\n",
    "                    )[1]]\n",
    "\n",
    "                    # update cluster labels\n",
    "                    clusters[np.where(\n",
    "                        np.in1d(clusters,clusters_to_merge)\n",
    "                    )[0]] = clusters[i]\n",
    "\n",
    "        # STEP 4: update parameters and continue until\n",
    "        # unique_clusters == cutoff\n",
    "        unique_clusters = len(np.unique(clusters))\n",
    "\n",
    "        #increase r and decrease k\n",
    "        r *= A\n",
    "        k = int(np.round((d * C * np.sqrt(d)) / (2 * r)))\n",
    "\n",
    "    return(clusters)"
   ]
  },
  {
   "cell_type": "code",
   "execution_count": 3,
   "metadata": {},
   "outputs": [],
   "source": [
    "iris = datasets.load_iris().data\n",
    "iris = data_extend(iris, 10) * 10\n",
    "iris += np.abs(np.min(iris))\n",
    "\n",
    "l = 10\n",
    "k = 100\n",
    "n, d = iris.shape\n",
    "C = int(np.ceil(np.max(iris))) + 1\n",
    "clusters = np.arange(n)"
   ]
  },
  {
   "cell_type": "markdown",
   "metadata": {},
   "source": [
    "### Appendix B"
   ]
  },
  {
   "cell_type": "code",
   "execution_count": 4,
   "metadata": {},
   "outputs": [],
   "source": [
    "import numpy as np\n",
    "import matplotlib.pyplot as plt\n",
    "from collections import defaultdict\n",
    "from sklearn import datasets\n",
    "from scipy.cluster.hierarchy import dendrogram, linkage\n",
    "from scipy.spatial.distance import pdist\n",
    "from functools import reduce, lru_cache\n",
    "import datetime\n",
    "import pickle\n",
    "\n",
    "def data_extend(data, k):\n",
    "    r, c = data.shape\n",
    "    data_extend = (reduce(lambda x, y: np.vstack((x, y)),\n",
    "                          map(lambda x: data, range(k))) +\n",
    "                  np.random.randn(r*c*k).reshape(r*k, c).round(1))\n",
    "    return(data_extend)\n",
    "\n",
    "def hac(k, data):\n",
    "    n = data.shape[0]\n",
    "    \n",
    "    # start with each point in its own cluster\n",
    "    clusters = np.arange(n)\n",
    "    unique_clusters = len(np.unique(clusters))\n",
    "    \n",
    "    while unique_clusters > k:\n",
    "        min_distances = np.zeros(n)\n",
    "        min_points = np.zeros(n).astype('int')\n",
    "\n",
    "        # for each point, find min distance to point not in cluster\n",
    "        for i in range(n):\n",
    "            point = data[i,]\n",
    "            point_cluster = clusters[i]\n",
    "            distances = np.linalg.norm(point - data, axis = 1)\n",
    "            diff_cluster_points = np.where(\n",
    "                clusters != point_cluster)[0]\n",
    "\n",
    "            min_points[i] = diff_cluster_points[\n",
    "                np.argmin(distances[diff_cluster_points])]\n",
    "            min_distances[i] = distances[min_points[i]]\n",
    "\n",
    "        # merge clusters of the two closest points\n",
    "        point1_idx = np.argmin(min_distances)\n",
    "        point1 = data[point1_idx,]\n",
    "        point2_idx = min_points[point1_idx]\n",
    "        point2 = data[point2_idx,]\n",
    "\n",
    "        point2_cluster = clusters[point2_idx]\n",
    "        clusters[np.where(\n",
    "            clusters == point2_cluster\n",
    "        )[0]] = clusters[point1_idx]\n",
    "\n",
    "        # update number of clusters\n",
    "        unique_clusters = len(np.unique(clusters))\n",
    "    \n",
    "    return clusters\n",
    "\n",
    "@lru_cache(maxsize=None)\n",
    "def unary(x, C):\n",
    "    nearest_x = int(np.round(x))\n",
    "    return(np.r_[np.ones(nearest_x), np.zeros(C-nearest_x)])\n",
    "\n",
    "@lru_cache(maxsize=None)\n",
    "def lsh_hash(point, C):\n",
    "    point = np.array(point)\n",
    "    res = np.concatenate(list(map(lambda x: unary(x, C), point)))\n",
    "    return(res)\n",
    "\n",
    "@lru_cache(maxsize=None)\n",
    "def get_points_in_cluster(idx, clusters, data):\n",
    "    clusters = np.array(clusters)\n",
    "    data = pickle.loads(data)\n",
    "    point_cluster = clusters[idx]\n",
    "    same_cluster_points_idx = np.where(\n",
    "        clusters == point_cluster)[0]\n",
    "    same_cluster_points = set(\n",
    "        map(tuple, data[same_cluster_points_idx, :])\n",
    "    )\n",
    "    return(same_cluster_points)\n",
    "\n",
    "@lru_cache(maxsize=None)\n",
    "def get_point_indices(data, points):\n",
    "    data = pickle.loads(data)\n",
    "    points = pickle.loads(points)\n",
    "    indices = np.where((data == points[:,None]).all(-1))[1]\n",
    "    return(indices)\n",
    "\n",
    "def build_hash_tables(C, d, l, k, data, clusters):\n",
    "    vals = np.arange(C*d)\n",
    "    n = data.shape[0]\n",
    "    hash_tables = defaultdict(set)\n",
    "    hash_tables_reversed = defaultdict(set)\n",
    "\n",
    "    for i in range(l):\n",
    "        I = np.random.choice(vals, k, replace = False)\n",
    "\n",
    "        for j in range(n):\n",
    "            # for every point, generate hashed point\n",
    "            # and sample k bits\n",
    "            p = data[j]\n",
    "            hashed_point = lsh_hash(tuple(p), C)[I]\n",
    "            \n",
    "            # check if any other points in p's cluster are\n",
    "            # already in this hash table and only add point to\n",
    "            # hash table if no other points from its cluster are there\n",
    "            bucket = hash_tables[tuple(hashed_point)]\n",
    "            cluster_points = get_points_in_cluster(\n",
    "                j, tuple(clusters), pickle.dumps(data)\n",
    "            )\n",
    "            \n",
    "            # create unique bucket for each hash function\n",
    "            key = tuple([i]) + tuple(hashed_point)\n",
    "\n",
    "            if not cluster_points.intersection(bucket):\n",
    "                hash_tables[key].add(tuple(p))\n",
    "                hash_tables_reversed[tuple(p)].add(key)\n",
    "    \n",
    "    return hash_tables, hash_tables_reversed\n",
    "\n",
    "def LSHLink(data, A, l, k, C = None, cutoff = 1, dendrogram = False, **kwargs):\n",
    "    # set default value for C if none is provided\n",
    "    if not C:\n",
    "        C = int(np.ceil(np.max(data))) + 1\n",
    "    \n",
    "    if dendrogram and cutoff != 1:\n",
    "        raise Exception(\n",
    "            'Dendrogram requires a full hierarchy; set cutoff to 1'\n",
    "        )\n",
    "    \n",
    "    # initializations\n",
    "    n, d = data.shape\n",
    "    clusters = np.arange(n)\n",
    "    unique_clusters = len(np.unique(clusters))\n",
    "    num = n - 1\n",
    "    Z = np.zeros((n - 1, 4))\n",
    "    \n",
    "    # calculate r depending on n, either:\n",
    "    # 1. min dist from a random sample of sqrt(n) points\n",
    "    # 2. formula below\n",
    "    \n",
    "    if 'seed1' in kwargs and isinstance(kwargs['seed1'], int):\n",
    "        np.random.seed(kwargs['seed1'])\n",
    "        \n",
    "    n_samp = int(np.ceil(np.sqrt(n)))\n",
    "    samples = data[\n",
    "        np.random.choice(n, size = n_samp, replace = False), :]\n",
    "    \n",
    "    if n < 500:\n",
    "        r = np.min(pdist(samples, 'euclidean'))\n",
    "    else:\n",
    "        r = (d * C * np.sqrt(d)) / (2 * (k + d))\n",
    "    \n",
    "    if 'seed2' in kwargs and isinstance(kwargs['seed2'], int):\n",
    "        np.random.seed([kwargs['seed2']])\n",
    "\n",
    "    while unique_clusters > cutoff:\n",
    "        # STEP 1: Generation of hash tables\n",
    "        hash_tables, hash_tables_reversed = build_hash_tables(\n",
    "            C, d, l, k, data, clusters)\n",
    "\n",
    "        # STEP 2: Nearest neighbor search for p\n",
    "        for i in range(n):\n",
    "            # get all of those hash tables that contain point p\n",
    "            p = data[i]\n",
    "            p_hashes = hash_tables_reversed[tuple(p)]\n",
    "\n",
    "            # only proceed if p is in at least one hash table\n",
    "            if hash_tables_reversed[tuple(p)]:\n",
    "\n",
    "                # find all \"similar points\" to p: points that share\n",
    "                # at least one hash table with p, and are not in the\n",
    "                # same cluster as p\n",
    "                similar_points = reduce(\n",
    "                    lambda x, y: x.union(y),\n",
    "                    map(lambda x: hash_tables[x], p_hashes)\n",
    "                    ).difference(\n",
    "                    get_points_in_cluster(i, tuple(clusters),\n",
    "                                          pickle.dumps(data))\n",
    "                )\n",
    "                similar_points = np.array(list(similar_points))\n",
    "\n",
    "                # STEP 3: Connect pairs of clusters within certain\n",
    "                # distance of p\n",
    "                # only proceed if p has any similar points\n",
    "                if similar_points.size:\n",
    "\n",
    "                    # find similar points q s.t. dist(p, q) < r\n",
    "                    # the clusters containing these points will be\n",
    "                    # merged with p's cluster\n",
    "                    points_to_merge = similar_points[\n",
    "                        np.where(\n",
    "                            np.linalg.norm(p - similar_points, axis = 1) < r\n",
    "                        )[0]\n",
    "                    ]\n",
    "\n",
    "                    # only proceed if p has similar points within distance r\n",
    "                    if points_to_merge.size:\n",
    "                        # identify which clusters contain points_to_merge\n",
    "                        point_indices = get_point_indices(\n",
    "                            pickle.dumps(data),\n",
    "                            pickle.dumps(points_to_merge)\n",
    "                        )\n",
    "                        clusters_to_merge = list(\n",
    "                            np.unique(clusters[point_indices])\n",
    "                        )\n",
    "                        \n",
    "                        # update cluster labels\n",
    "                        # if dendrogram = False, we can use a simpler method\n",
    "                        if not dendrogram:\n",
    "                            clusters[\n",
    "                                np.where(np.in1d(clusters, clusters_to_merge)\n",
    "                                        )[0]] = clusters[i]\n",
    "                        \n",
    "                        else:\n",
    "                            clusters_to_merge.append(clusters[i])\n",
    "                            \n",
    "                            for j in range(len(clusters_to_merge) - 1):\n",
    "                                clusterA = clusters_to_merge[j]\n",
    "                                clusterB = clusters_to_merge[j+1]\n",
    "                                num += 1\n",
    "                                clusters[np.where(\n",
    "                                    np.in1d(clusters, [clusterA, clusterB])\n",
    "                                )[0]] = num\n",
    "\n",
    "                                Z[num - n, :] = np.array(\n",
    "                                    [clusterA,\n",
    "                                     clusterB,\n",
    "                                     r,\n",
    "                                     len(np.where(np.in1d(clusters, num))[0])]\n",
    "                                )\n",
    "                                clusters_to_merge[j:j+2] = 2 * [num]\n",
    "\n",
    "        # STEP 4: update parameters and continue until\n",
    "        # unique_clusters == cutoff\n",
    "        unique_clusters = len(np.unique(clusters))\n",
    "\n",
    "        #increase r and decrease k\n",
    "        r *= A\n",
    "        k = int(np.round((d * C * np.sqrt(d)) / (2 * r)))\n",
    "\n",
    "    if not dendrogram:\n",
    "        return(clusters)\n",
    "    \n",
    "    else:\n",
    "        return(clusters, Z)"
   ]
  },
  {
   "cell_type": "code",
   "execution_count": 5,
   "metadata": {},
   "outputs": [],
   "source": [
    "iris = datasets.load_iris().data\n",
    "iris = data_extend(iris, 10) * 10\n",
    "iris += np.abs(np.min(iris))\n",
    "\n",
    "l = 10\n",
    "k = 100\n",
    "n, d = iris.shape\n",
    "C = int(np.ceil(np.max(iris))) + 1\n",
    "clusters = np.arange(n)"
   ]
  },
  {
   "cell_type": "markdown",
   "metadata": {},
   "source": [
    "### Appendix C"
   ]
  },
  {
   "cell_type": "markdown",
   "metadata": {},
   "source": [
    "Data and matplotlib code for Figure 4:"
   ]
  },
  {
   "cell_type": "code",
   "execution_count": 2,
   "metadata": {},
   "outputs": [],
   "source": [
    "lsh_A14_y = [.46, 2.37, 12.4, 20, 37.2, 56.4, 94]\n",
    "lsh_A14_x = [150, 450, 1050, 1500, 1950, 2550, 3000]\n",
    "\n",
    "lsh_A20_x = [150, 450, 1050, 1500, 1950, 2550, 3000]\n",
    "lsh_A20_y = [.285, 1.31, 7.15, 13, 21.8, 36.1, 58.2]\n",
    "\n",
    "sci_x = [150, 450, 1050, 1500, 1950, 2550, 3000]\n",
    "sci_y = [0.000215, 0.00136, 0.00996, 0.0187, 0.0341, 0.0592, 0.0843]\n",
    "\n",
    "single_x = [150, 450, 1050, 1500, 1950, 2550, 3000]\n",
    "single_y = [0.530, 7.13, 61, 149, 302, 630, 996]"
   ]
  },
  {
   "cell_type": "code",
   "execution_count": 6,
   "metadata": {},
   "outputs": [],
   "source": [
    "def iris_run_times():\n",
    "    plt.scatter(lsh_A14_x, lsh_A14_y)\n",
    "    plt.plot(lsh_A14_x, lsh_A14_y, label = 'LSH, A = 1.4')\n",
    "    plt.scatter(lsh_A20_x, lsh_A20_y)\n",
    "    plt.plot(lsh_A20_x, lsh_A20_y, label = 'LSH, A = 2.0')\n",
    "    plt.scatter(sci_x, sci_y)\n",
    "    plt.plot(sci_x, sci_y, label = 'single-linkage (scipy)')\n",
    "    plt.scatter(single_x, single_y)\n",
    "    plt.plot(single_x, single_y, label = 'single-linkage (custom)')\n",
    "    plt.legend(loc = 'upper left')\n",
    "    plt.xlabel('data size')\n",
    "    plt.ylabel('time (seconds)')\n",
    "    plt.title('Figure 4: Run Time Comparisons for Single-Linkage vs. LSH')\n",
    "    plt.gcf().set_size_inches(12, 6)\n",
    "    plt.show();"
   ]
  },
  {
   "cell_type": "code",
   "execution_count": null,
   "metadata": {},
   "outputs": [],
   "source": []
  },
  {
   "cell_type": "code",
   "execution_count": null,
   "metadata": {},
   "outputs": [],
   "source": []
  }
 ],
 "metadata": {
  "kernelspec": {
   "display_name": "IPython (Python 3)",
   "language": "python",
   "name": "python3"
  },
  "language_info": {
   "codemirror_mode": {
    "name": "ipython",
    "version": 3
   },
   "file_extension": ".py",
   "mimetype": "text/x-python",
   "name": "python",
   "nbconvert_exporter": "python",
   "pygments_lexer": "ipython3",
   "version": "3.6.1"
  }
 },
 "nbformat": 4,
 "nbformat_minor": 2
}
